{
 "cells": [
  {
   "attachments": {},
   "cell_type": "markdown",
   "id": "bf87c769",
   "metadata": {
    "papermill": {
     "duration": 0.02312,
     "end_time": "2023-05-24T07:36:33.939065",
     "exception": false,
     "start_time": "2023-05-24T07:36:33.915945",
     "status": "completed"
    },
    "tags": []
   },
   "source": [
    "# Imports"
   ]
  },
  {
   "cell_type": "code",
   "execution_count": 1,
   "id": "7a1de92b",
   "metadata": {
    "execution": {
     "iopub.execute_input": "2023-05-24T07:36:33.986498Z",
     "iopub.status.busy": "2023-05-24T07:36:33.985118Z",
     "iopub.status.idle": "2023-05-24T07:36:36.981963Z",
     "shell.execute_reply": "2023-05-24T07:36:36.980528Z"
    },
    "papermill": {
     "duration": 3.024146,
     "end_time": "2023-05-24T07:36:36.985309",
     "exception": false,
     "start_time": "2023-05-24T07:36:33.961163",
     "status": "completed"
    },
    "tags": []
   },
   "outputs": [],
   "source": [
    "import pandas as pd\n",
    "import numpy as np\n",
    "import matplotlib.pyplot as plt\n",
    "from tqdm import tqdm\n",
    "import optuna\n",
    "\n",
    "from sklearn.preprocessing import StandardScaler\n",
    "from sklearn.pipeline import Pipeline\n",
    "from sklearn.model_selection import train_test_split\n",
    "from sklearn.metrics import (\n",
    "    accuracy_score,\n",
    "    confusion_matrix,\n",
    "    classification_report,\n",
    "    ConfusionMatrixDisplay,\n",
    "    roc_auc_score,\n",
    ")\n",
    "\n",
    "from sklearn.linear_model import LogisticRegression\n",
    "from sklearn.ensemble import RandomForestClassifier\n",
    "from sklearn.svm import SVC\n",
    "from xgboost import XGBClassifier\n",
    "from catboost import CatBoostClassifier"
   ]
  },
  {
   "cell_type": "code",
   "execution_count": 2,
   "id": "9daa14df",
   "metadata": {
    "execution": {
     "iopub.execute_input": "2023-05-24T07:36:37.033537Z",
     "iopub.status.busy": "2023-05-24T07:36:37.032455Z",
     "iopub.status.idle": "2023-05-24T07:36:41.567248Z",
     "shell.execute_reply": "2023-05-24T07:36:41.565508Z"
    },
    "papermill": {
     "duration": 4.563019,
     "end_time": "2023-05-24T07:36:41.570366",
     "exception": false,
     "start_time": "2023-05-24T07:36:37.007347",
     "status": "completed"
    },
    "tags": []
   },
   "outputs": [
    {
     "name": "stdout",
     "output_type": "stream",
     "text": [
      "--2023-05-24 07:36:38--  https://github.com/Hari31416/CelestialClassify/raw/main/codes/sample.csv\r\n",
      "Resolving github.com (github.com)... 140.82.112.3\r\n",
      "Connecting to github.com (github.com)|140.82.112.3|:443... connected.\r\n",
      "HTTP request sent, awaiting response... 302 Found\r\n",
      "Location: https://raw.githubusercontent.com/Hari31416/CelestialClassify/main/codes/sample.csv [following]\r\n",
      "--2023-05-24 07:36:38--  https://raw.githubusercontent.com/Hari31416/CelestialClassify/main/codes/sample.csv\r\n",
      "Resolving raw.githubusercontent.com (raw.githubusercontent.com)... 185.199.108.133, 185.199.109.133, 185.199.110.133, ...\r\n",
      "Connecting to raw.githubusercontent.com (raw.githubusercontent.com)|185.199.108.133|:443... connected.\r\n",
      "HTTP request sent, awaiting response... 200 OK\r\n",
      "Length: 14419947 (14M) [text/plain]\r\n",
      "Saving to: ‘sample.csv’\r\n",
      "\r\n",
      "sample.csv          100%[===================>]  13.75M  --.-KB/s    in 0.1s    \r\n",
      "\r\n",
      "2023-05-24 07:36:38 (120 MB/s) - ‘sample.csv’ saved [14419947/14419947]\r\n",
      "\r\n",
      "--2023-05-24 07:36:40--  https://raw.githubusercontent.com/Hari31416/CelestialClassify/main/codes/test_results.csv\r\n",
      "Resolving raw.githubusercontent.com (raw.githubusercontent.com)... 185.199.108.133, 185.199.109.133, 185.199.110.133, ...\r\n",
      "Connecting to raw.githubusercontent.com (raw.githubusercontent.com)|185.199.108.133|:443... connected.\r\n",
      "HTTP request sent, awaiting response... 200 OK\r\n",
      "Length: 231 [text/plain]\r\n",
      "Saving to: ‘test_results.csv’\r\n",
      "\r\n",
      "test_results.csv    100%[===================>]     231  --.-KB/s    in 0s      \r\n",
      "\r\n",
      "2023-05-24 07:36:40 (6.61 MB/s) - ‘test_results.csv’ saved [231/231]\r\n",
      "\r\n",
      "--2023-05-24 07:36:41--  https://raw.githubusercontent.com/Hari31416/CelestialClassify/main/codes/train_results.csv\r\n",
      "Resolving raw.githubusercontent.com (raw.githubusercontent.com)... 185.199.110.133, 185.199.109.133, 185.199.111.133, ...\r\n",
      "Connecting to raw.githubusercontent.com (raw.githubusercontent.com)|185.199.110.133|:443... connected.\r\n",
      "HTTP request sent, awaiting response... 200 OK\r\n",
      "Length: 257 [text/plain]\r\n",
      "Saving to: ‘train_results.csv’\r\n",
      "\r\n",
      "train_results.csv   100%[===================>]     257  --.-KB/s    in 0s      \r\n",
      "\r\n",
      "2023-05-24 07:36:41 (11.9 MB/s) - ‘train_results.csv’ saved [257/257]\r\n",
      "\r\n"
     ]
    }
   ],
   "source": [
    "#only needed if using kaggle\n",
    "!wget https://github.com/Hari31416/CelestialClassify/raw/main/codes/sample.csv\n",
    "!wget https://raw.githubusercontent.com/Hari31416/CelestialClassify/main/codes/test_results.csv\n",
    "!wget https://raw.githubusercontent.com/Hari31416/CelestialClassify/main/codes/train_results.csv"
   ]
  },
  {
   "attachments": {},
   "cell_type": "markdown",
   "id": "b39b9285",
   "metadata": {
    "papermill": {
     "duration": 0.022812,
     "end_time": "2023-05-24T07:36:41.617893",
     "exception": false,
     "start_time": "2023-05-24T07:36:41.595081",
     "status": "completed"
    },
    "tags": []
   },
   "source": [
    "This notebook will deal with experimentation to find the best models. The idea is to an ensemble of the following models as our final model:\n",
    "1. SVC\n",
    "2. Random Forest\n",
    "3. XGBoost\n",
    "4. Catboost\n",
    "\n",
    "For this, we need to tune hyperparameters of each model. Doing the tuning on the whole dataset will not be feasible and hence a small subset of the data is used for this experimentations. The final ensemble model will be trained on whole dataset."
   ]
  },
  {
   "attachments": {},
   "cell_type": "markdown",
   "id": "d45e9366",
   "metadata": {
    "papermill": {
     "duration": 0.022716,
     "end_time": "2023-05-24T07:36:41.663504",
     "exception": false,
     "start_time": "2023-05-24T07:36:41.640788",
     "status": "completed"
    },
    "tags": []
   },
   "source": [
    "# Preprocessing"
   ]
  },
  {
   "attachments": {},
   "cell_type": "markdown",
   "id": "97b315e7",
   "metadata": {
    "papermill": {
     "duration": 0.022491,
     "end_time": "2023-05-24T07:36:41.708892",
     "exception": false,
     "start_time": "2023-05-24T07:36:41.686401",
     "status": "completed"
    },
    "tags": []
   },
   "source": [
    "## Loading Data"
   ]
  },
  {
   "attachments": {},
   "cell_type": "markdown",
   "id": "5edfdd84",
   "metadata": {
    "papermill": {
     "duration": 0.022701,
     "end_time": "2023-05-24T07:36:41.754415",
     "exception": false,
     "start_time": "2023-05-24T07:36:41.731714",
     "status": "completed"
    },
    "tags": []
   },
   "source": [
    "Let's start by loading the data."
   ]
  },
  {
   "cell_type": "code",
   "execution_count": 3,
   "id": "b6023533",
   "metadata": {
    "execution": {
     "iopub.execute_input": "2023-05-24T07:36:41.802823Z",
     "iopub.status.busy": "2023-05-24T07:36:41.802340Z",
     "iopub.status.idle": "2023-05-24T07:36:42.267676Z",
     "shell.execute_reply": "2023-05-24T07:36:42.266630Z"
    },
    "papermill": {
     "duration": 0.493878,
     "end_time": "2023-05-24T07:36:42.271005",
     "exception": false,
     "start_time": "2023-05-24T07:36:41.777127",
     "status": "completed"
    },
    "tags": []
   },
   "outputs": [
    {
     "name": "stdout",
     "output_type": "stream",
     "text": [
      "(30000, 47)\n"
     ]
    },
    {
     "data": {
      "text/html": [
       "<div>\n",
       "<style scoped>\n",
       "    .dataframe tbody tr th:only-of-type {\n",
       "        vertical-align: middle;\n",
       "    }\n",
       "\n",
       "    .dataframe tbody tr th {\n",
       "        vertical-align: top;\n",
       "    }\n",
       "\n",
       "    .dataframe thead th {\n",
       "        text-align: right;\n",
       "    }\n",
       "</style>\n",
       "<table border=\"1\" class=\"dataframe\">\n",
       "  <thead>\n",
       "    <tr style=\"text-align: right;\">\n",
       "      <th></th>\n",
       "      <th>type</th>\n",
       "      <th>rowv</th>\n",
       "      <th>colv</th>\n",
       "      <th>u</th>\n",
       "      <th>g</th>\n",
       "      <th>r</th>\n",
       "      <th>i</th>\n",
       "      <th>z</th>\n",
       "      <th>psfMag_u</th>\n",
       "      <th>psfMag_g</th>\n",
       "      <th>...</th>\n",
       "      <th>u_z</th>\n",
       "      <th>expAB_u</th>\n",
       "      <th>expAB_g</th>\n",
       "      <th>expAB_r</th>\n",
       "      <th>expAB_i</th>\n",
       "      <th>expAB_z</th>\n",
       "      <th>ra</th>\n",
       "      <th>dec</th>\n",
       "      <th>b</th>\n",
       "      <th>l</th>\n",
       "    </tr>\n",
       "  </thead>\n",
       "  <tbody>\n",
       "    <tr>\n",
       "      <th>0</th>\n",
       "      <td>0</td>\n",
       "      <td>0.000025</td>\n",
       "      <td>0.000899</td>\n",
       "      <td>21.09567</td>\n",
       "      <td>19.49611</td>\n",
       "      <td>18.65078</td>\n",
       "      <td>18.23999</td>\n",
       "      <td>17.98051</td>\n",
       "      <td>21.06064</td>\n",
       "      <td>19.48528</td>\n",
       "      <td>...</td>\n",
       "      <td>-0.004557</td>\n",
       "      <td>0.166167</td>\n",
       "      <td>0.675803</td>\n",
       "      <td>0.835346</td>\n",
       "      <td>0.999821</td>\n",
       "      <td>0.665882</td>\n",
       "      <td>100.913333</td>\n",
       "      <td>0.156187</td>\n",
       "      <td>-1.660678</td>\n",
       "      <td>211.905236</td>\n",
       "    </tr>\n",
       "    <tr>\n",
       "      <th>1</th>\n",
       "      <td>0</td>\n",
       "      <td>-0.008856</td>\n",
       "      <td>-0.003417</td>\n",
       "      <td>24.76185</td>\n",
       "      <td>21.03924</td>\n",
       "      <td>20.14862</td>\n",
       "      <td>19.87783</td>\n",
       "      <td>19.64817</td>\n",
       "      <td>24.66305</td>\n",
       "      <td>21.02927</td>\n",
       "      <td>...</td>\n",
       "      <td>-0.037864</td>\n",
       "      <td>0.334603</td>\n",
       "      <td>0.238365</td>\n",
       "      <td>0.627718</td>\n",
       "      <td>0.134692</td>\n",
       "      <td>0.085135</td>\n",
       "      <td>109.239909</td>\n",
       "      <td>1.273328</td>\n",
       "      <td>6.258424</td>\n",
       "      <td>214.712360</td>\n",
       "    </tr>\n",
       "    <tr>\n",
       "      <th>2</th>\n",
       "      <td>0</td>\n",
       "      <td>0.003954</td>\n",
       "      <td>-0.013018</td>\n",
       "      <td>24.75426</td>\n",
       "      <td>22.89556</td>\n",
       "      <td>21.84817</td>\n",
       "      <td>21.38259</td>\n",
       "      <td>20.73028</td>\n",
       "      <td>24.46735</td>\n",
       "      <td>22.90692</td>\n",
       "      <td>...</td>\n",
       "      <td>-0.428419</td>\n",
       "      <td>0.203522</td>\n",
       "      <td>0.090585</td>\n",
       "      <td>0.050960</td>\n",
       "      <td>0.050000</td>\n",
       "      <td>0.064225</td>\n",
       "      <td>94.713043</td>\n",
       "      <td>0.846233</td>\n",
       "      <td>-6.855484</td>\n",
       "      <td>208.440433</td>\n",
       "    </tr>\n",
       "    <tr>\n",
       "      <th>3</th>\n",
       "      <td>1</td>\n",
       "      <td>0.006517</td>\n",
       "      <td>0.021139</td>\n",
       "      <td>22.64490</td>\n",
       "      <td>22.19313</td>\n",
       "      <td>21.21620</td>\n",
       "      <td>20.76132</td>\n",
       "      <td>20.89511</td>\n",
       "      <td>23.22920</td>\n",
       "      <td>22.80916</td>\n",
       "      <td>...</td>\n",
       "      <td>-1.144998</td>\n",
       "      <td>0.183922</td>\n",
       "      <td>0.050000</td>\n",
       "      <td>0.782713</td>\n",
       "      <td>0.130607</td>\n",
       "      <td>0.050000</td>\n",
       "      <td>126.388426</td>\n",
       "      <td>0.233304</td>\n",
       "      <td>20.925171</td>\n",
       "      <td>223.943496</td>\n",
       "    </tr>\n",
       "    <tr>\n",
       "      <th>4</th>\n",
       "      <td>1</td>\n",
       "      <td>-0.059970</td>\n",
       "      <td>0.006513</td>\n",
       "      <td>21.40245</td>\n",
       "      <td>21.12101</td>\n",
       "      <td>20.58717</td>\n",
       "      <td>20.51851</td>\n",
       "      <td>20.43726</td>\n",
       "      <td>22.48758</td>\n",
       "      <td>22.01874</td>\n",
       "      <td>...</td>\n",
       "      <td>-0.386901</td>\n",
       "      <td>0.200003</td>\n",
       "      <td>0.641636</td>\n",
       "      <td>0.502803</td>\n",
       "      <td>0.405457</td>\n",
       "      <td>0.267841</td>\n",
       "      <td>63.876779</td>\n",
       "      <td>-6.201664</td>\n",
       "      <td>-37.290818</td>\n",
       "      <td>199.186782</td>\n",
       "    </tr>\n",
       "  </tbody>\n",
       "</table>\n",
       "<p>5 rows × 47 columns</p>\n",
       "</div>"
      ],
      "text/plain": [
       "   type      rowv      colv         u         g         r         i         z  \\\n",
       "0     0  0.000025  0.000899  21.09567  19.49611  18.65078  18.23999  17.98051   \n",
       "1     0 -0.008856 -0.003417  24.76185  21.03924  20.14862  19.87783  19.64817   \n",
       "2     0  0.003954 -0.013018  24.75426  22.89556  21.84817  21.38259  20.73028   \n",
       "3     1  0.006517  0.021139  22.64490  22.19313  21.21620  20.76132  20.89511   \n",
       "4     1 -0.059970  0.006513  21.40245  21.12101  20.58717  20.51851  20.43726   \n",
       "\n",
       "   psfMag_u  psfMag_g  ...       u_z   expAB_u   expAB_g   expAB_r   expAB_i  \\\n",
       "0  21.06064  19.48528  ... -0.004557  0.166167  0.675803  0.835346  0.999821   \n",
       "1  24.66305  21.02927  ... -0.037864  0.334603  0.238365  0.627718  0.134692   \n",
       "2  24.46735  22.90692  ... -0.428419  0.203522  0.090585  0.050960  0.050000   \n",
       "3  23.22920  22.80916  ... -1.144998  0.183922  0.050000  0.782713  0.130607   \n",
       "4  22.48758  22.01874  ... -0.386901  0.200003  0.641636  0.502803  0.405457   \n",
       "\n",
       "    expAB_z          ra       dec          b           l  \n",
       "0  0.665882  100.913333  0.156187  -1.660678  211.905236  \n",
       "1  0.085135  109.239909  1.273328   6.258424  214.712360  \n",
       "2  0.064225   94.713043  0.846233  -6.855484  208.440433  \n",
       "3  0.050000  126.388426  0.233304  20.925171  223.943496  \n",
       "4  0.267841   63.876779 -6.201664 -37.290818  199.186782  \n",
       "\n",
       "[5 rows x 47 columns]"
      ]
     },
     "execution_count": 3,
     "metadata": {},
     "output_type": "execute_result"
    }
   ],
   "source": [
    "sample = pd.read_csv(\"sample.csv\")\n",
    "print(sample.shape)\n",
    "sample.head()"
   ]
  },
  {
   "attachments": {},
   "cell_type": "markdown",
   "id": "3f90028e",
   "metadata": {
    "papermill": {
     "duration": 0.023211,
     "end_time": "2023-05-24T07:36:42.318236",
     "exception": false,
     "start_time": "2023-05-24T07:36:42.295025",
     "status": "completed"
    },
    "tags": []
   },
   "source": [
    "## The Velocity Columns"
   ]
  },
  {
   "cell_type": "code",
   "execution_count": 4,
   "id": "33fab1b6",
   "metadata": {
    "execution": {
     "iopub.execute_input": "2023-05-24T07:36:42.368966Z",
     "iopub.status.busy": "2023-05-24T07:36:42.368117Z",
     "iopub.status.idle": "2023-05-24T07:36:42.385588Z",
     "shell.execute_reply": "2023-05-24T07:36:42.384227Z"
    },
    "papermill": {
     "duration": 0.046021,
     "end_time": "2023-05-24T07:36:42.388253",
     "exception": false,
     "start_time": "2023-05-24T07:36:42.342232",
     "status": "completed"
    },
    "tags": []
   },
   "outputs": [
    {
     "data": {
      "text/plain": [
       "count    30000.000000\n",
       "mean        -0.666290\n",
       "std         81.640146\n",
       "min      -9999.000000\n",
       "25%         -0.004513\n",
       "50%          0.000000\n",
       "75%          0.005017\n",
       "max          2.058873\n",
       "Name: rowv, dtype: float64"
      ]
     },
     "execution_count": 4,
     "metadata": {},
     "output_type": "execute_result"
    }
   ],
   "source": [
    "sample[\"rowv\"].describe()"
   ]
  },
  {
   "attachments": {},
   "cell_type": "markdown",
   "id": "de197e50",
   "metadata": {
    "papermill": {
     "duration": 0.02378,
     "end_time": "2023-05-24T07:36:42.436772",
     "exception": false,
     "start_time": "2023-05-24T07:36:42.412992",
     "status": "completed"
    },
    "tags": []
   },
   "source": [
    "We need to chage the not known values which are set to -9999 to the mean of the column."
   ]
  },
  {
   "cell_type": "code",
   "execution_count": 5,
   "id": "e621210b",
   "metadata": {
    "execution": {
     "iopub.execute_input": "2023-05-24T07:36:42.486431Z",
     "iopub.status.busy": "2023-05-24T07:36:42.485957Z",
     "iopub.status.idle": "2023-05-24T07:36:42.501439Z",
     "shell.execute_reply": "2023-05-24T07:36:42.499889Z"
    },
    "papermill": {
     "duration": 0.044,
     "end_time": "2023-05-24T07:36:42.504618",
     "exception": false,
     "start_time": "2023-05-24T07:36:42.460618",
     "status": "completed"
    },
    "tags": []
   },
   "outputs": [
    {
     "name": "stdout",
     "output_type": "stream",
     "text": [
      "0\n",
      "0\n"
     ]
    }
   ],
   "source": [
    "sample[\"rowv\"].replace(-9999, np.nan, inplace=True)\n",
    "sample[\"rowv\"].fillna(sample[\"rowv\"].mean(), inplace=True)\n",
    "print(sample[\"rowv\"].isnull().sum())\n",
    "\n",
    "sample[\"colv\"].replace(-9999, np.nan, inplace=True)\n",
    "sample[\"colv\"].fillna(sample[\"colv\"].mean(), inplace=True)\n",
    "print(sample[\"colv\"].isnull().sum())"
   ]
  },
  {
   "cell_type": "code",
   "execution_count": 6,
   "id": "eccb4b7f",
   "metadata": {
    "execution": {
     "iopub.execute_input": "2023-05-24T07:36:42.556100Z",
     "iopub.status.busy": "2023-05-24T07:36:42.555642Z",
     "iopub.status.idle": "2023-05-24T07:36:42.570665Z",
     "shell.execute_reply": "2023-05-24T07:36:42.569360Z"
    },
    "papermill": {
     "duration": 0.044768,
     "end_time": "2023-05-24T07:36:42.573472",
     "exception": false,
     "start_time": "2023-05-24T07:36:42.528704",
     "status": "completed"
    },
    "tags": []
   },
   "outputs": [
    {
     "data": {
      "text/plain": [
       "count    30000.000000\n",
       "mean         0.000310\n",
       "std          0.041897\n",
       "min         -2.139171\n",
       "25%         -0.004510\n",
       "50%          0.000000\n",
       "75%          0.005017\n",
       "max          2.058873\n",
       "Name: rowv, dtype: float64"
      ]
     },
     "execution_count": 6,
     "metadata": {},
     "output_type": "execute_result"
    }
   ],
   "source": [
    "sample[\"rowv\"].describe()"
   ]
  },
  {
   "attachments": {},
   "cell_type": "markdown",
   "id": "3d6c25b4",
   "metadata": {
    "papermill": {
     "duration": 0.023552,
     "end_time": "2023-05-24T07:36:42.621193",
     "exception": false,
     "start_time": "2023-05-24T07:36:42.597641",
     "status": "completed"
    },
    "tags": []
   },
   "source": [
    "## Scaling and Splitting"
   ]
  },
  {
   "attachments": {},
   "cell_type": "markdown",
   "id": "9396d312",
   "metadata": {
    "papermill": {
     "duration": 0.023559,
     "end_time": "2023-05-24T07:36:42.668883",
     "exception": false,
     "start_time": "2023-05-24T07:36:42.645324",
     "status": "completed"
    },
    "tags": []
   },
   "source": [
    "We will scale and split the data."
   ]
  },
  {
   "cell_type": "code",
   "execution_count": 7,
   "id": "68244f9a",
   "metadata": {
    "execution": {
     "iopub.execute_input": "2023-05-24T07:36:42.718904Z",
     "iopub.status.busy": "2023-05-24T07:36:42.718496Z",
     "iopub.status.idle": "2023-05-24T07:36:42.748921Z",
     "shell.execute_reply": "2023-05-24T07:36:42.747547Z"
    },
    "papermill": {
     "duration": 0.059004,
     "end_time": "2023-05-24T07:36:42.751874",
     "exception": false,
     "start_time": "2023-05-24T07:36:42.692870",
     "status": "completed"
    },
    "tags": []
   },
   "outputs": [],
   "source": [
    "X = sample.drop(\"type\", axis=1)\n",
    "y = sample[\"type\"]\n",
    "\n",
    "X_train, X_test, y_train, y_test = train_test_split(X, y, test_size=0.2, random_state=42)"
   ]
  },
  {
   "cell_type": "code",
   "execution_count": 8,
   "id": "3dd752d3",
   "metadata": {
    "execution": {
     "iopub.execute_input": "2023-05-24T07:36:42.801761Z",
     "iopub.status.busy": "2023-05-24T07:36:42.801298Z",
     "iopub.status.idle": "2023-05-24T07:36:42.833102Z",
     "shell.execute_reply": "2023-05-24T07:36:42.831417Z"
    },
    "papermill": {
     "duration": 0.060267,
     "end_time": "2023-05-24T07:36:42.836113",
     "exception": false,
     "start_time": "2023-05-24T07:36:42.775846",
     "status": "completed"
    },
    "tags": []
   },
   "outputs": [],
   "source": [
    "scalar = StandardScaler()\n",
    "\n",
    "X_train = scalar.fit_transform(X_train)\n",
    "X_test = scalar.transform(X_test)"
   ]
  },
  {
   "attachments": {},
   "cell_type": "markdown",
   "id": "6c6e3277",
   "metadata": {
    "papermill": {
     "duration": 0.023513,
     "end_time": "2023-05-24T07:36:42.883509",
     "exception": false,
     "start_time": "2023-05-24T07:36:42.859996",
     "status": "completed"
    },
    "tags": []
   },
   "source": [
    "Great! Now we have our data ready for our model!"
   ]
  },
  {
   "attachments": {},
   "cell_type": "markdown",
   "id": "df07e5cf",
   "metadata": {
    "papermill": {
     "duration": 0.023428,
     "end_time": "2023-05-24T07:36:42.930638",
     "exception": false,
     "start_time": "2023-05-24T07:36:42.907210",
     "status": "completed"
    },
    "tags": []
   },
   "source": [
    "## Some Functions"
   ]
  },
  {
   "attachments": {},
   "cell_type": "markdown",
   "id": "37dd8d6f",
   "metadata": {
    "papermill": {
     "duration": 0.023488,
     "end_time": "2023-05-24T07:36:42.977978",
     "exception": false,
     "start_time": "2023-05-24T07:36:42.954490",
     "status": "completed"
    },
    "tags": []
   },
   "source": [
    "Before starting to build our model, we will define some functions that will help us to evaluate our model and track the progress."
   ]
  },
  {
   "cell_type": "code",
   "execution_count": 9,
   "id": "dd895355",
   "metadata": {
    "execution": {
     "iopub.execute_input": "2023-05-24T07:36:43.027763Z",
     "iopub.status.busy": "2023-05-24T07:36:43.027315Z",
     "iopub.status.idle": "2023-05-24T07:36:43.033435Z",
     "shell.execute_reply": "2023-05-24T07:36:43.032079Z"
    },
    "papermill": {
     "duration": 0.03433,
     "end_time": "2023-05-24T07:36:43.036181",
     "exception": false,
     "start_time": "2023-05-24T07:36:43.001851",
     "status": "completed"
    },
    "tags": []
   },
   "outputs": [],
   "source": [
    "TRAIN_RESULT_CSV_NAME = \"train_results.csv\"\n",
    "TEST_RESULT_CSV_NAME = \"test_results.csv\""
   ]
  },
  {
   "cell_type": "code",
   "execution_count": 10,
   "id": "b80f294d",
   "metadata": {
    "execution": {
     "iopub.execute_input": "2023-05-24T07:36:43.085986Z",
     "iopub.status.busy": "2023-05-24T07:36:43.085522Z",
     "iopub.status.idle": "2023-05-24T07:36:43.094791Z",
     "shell.execute_reply": "2023-05-24T07:36:43.093393Z"
    },
    "papermill": {
     "duration": 0.037539,
     "end_time": "2023-05-24T07:36:43.097630",
     "exception": false,
     "start_time": "2023-05-24T07:36:43.060091",
     "status": "completed"
    },
    "tags": []
   },
   "outputs": [],
   "source": [
    "def cm_to_metrics(cm):\n",
    "    \"\"\"Calculate accuracy, precision, recall and f1 score from confusion matrix.\n",
    "    \n",
    "    Parameters\n",
    "    ----------\n",
    "    cm : array-like\n",
    "        Confusion matrix.\n",
    "    \n",
    "    Returns\n",
    "    -------\n",
    "    accuracy : float\n",
    "        Accuracy score.\n",
    "    precision : float\n",
    "        Precision score.\n",
    "    recall : float\n",
    "        Recall score.\n",
    "    f1 : float\n",
    "        F1 score.\n",
    "    \"\"\"\n",
    "    tn, fp, fn, tp = cm.ravel()\n",
    "    accuracy = (tp + tn) / (tp + tn + fp + fn)\n",
    "    precision = tp / (tp + fp)\n",
    "    recall = tp / (tp + fn)\n",
    "    f1 = 2 * (precision * recall) / (precision + recall)\n",
    "    return accuracy, precision, recall, f1"
   ]
  },
  {
   "cell_type": "code",
   "execution_count": 11,
   "id": "b1ea3e64",
   "metadata": {
    "execution": {
     "iopub.execute_input": "2023-05-24T07:36:43.150503Z",
     "iopub.status.busy": "2023-05-24T07:36:43.149587Z",
     "iopub.status.idle": "2023-05-24T07:36:43.164918Z",
     "shell.execute_reply": "2023-05-24T07:36:43.163962Z"
    },
    "papermill": {
     "duration": 0.045076,
     "end_time": "2023-05-24T07:36:43.167519",
     "exception": false,
     "start_time": "2023-05-24T07:36:43.122443",
     "status": "completed"
    },
    "tags": []
   },
   "outputs": [],
   "source": [
    "def evaluate_model(\n",
    "    model,\n",
    "    on=\"train\",\n",
    "    plot_cmat=False,\n",
    "    verbose=True,\n",
    "):\n",
    "    \"\"\"\n",
    "    This function evaluates a model and returns the metrics.\n",
    "    It can be used to evaluate the model on the training set or the test set.\n",
    "    It can also plot the confusion matrix.\n",
    "    Parameters\n",
    "    ----------\n",
    "    model : object\n",
    "        The model to be evaluated.\n",
    "    on : str, optional\n",
    "        The set on which the model will be evaluated. The default is \"train\".\n",
    "    plot_cmat : bool, optional\n",
    "        Whether to plot the confusion matrix. The default is False.\n",
    "    verbose : bool, optional\n",
    "        Whether to print the metrics. The default is True.\n",
    "\n",
    "    Returns\n",
    "    -------\n",
    "    result : dict\n",
    "        A dictionary with the metrics.\n",
    "    \n",
    "    Example\n",
    "    -------\n",
    "    >>> result = evaluate_model(model)\n",
    "    >>> print(result)\n",
    "    {'accuracy': 0.8, 'precision': 0.8, 'recall': 0.8, 'f1': 0.8, 'auc': 0.8}\n",
    "    \n",
    "    >>> result = evaluate_model(model, on=\"test\")\n",
    "    >>> print(result)\n",
    "    {'accuracy': 0.8, 'precision': 0.8, 'recall': 0.8, 'f1': 0.8, 'auc': 0.8}\n",
    "    \n",
    "    >>> result = evaluate_model(model, plot_cmat=True)\n",
    "    >>> print(result)\n",
    "    {'accuracy': 0.8, 'precision': 0.8, 'recall': 0.8, 'f1': 0.8, 'auc': 0.8}\n",
    "    \n",
    "    >>> result = evaluate_model(model, on=\"test\", plot_cmat=True)\n",
    "    >>> print(result)\n",
    "    {'accuracy': 0.8, 'precision': 0.8, 'recall': 0.8, 'f1': 0.8, 'auc': 0.8}\n",
    "    \"\"\"\n",
    "    if on == \"train\":\n",
    "        X = X_train\n",
    "        y = y_train\n",
    "    else:\n",
    "        X = X_test\n",
    "        y = y_test\n",
    "    y_pred = model.predict(X)\n",
    "    cm = confusion_matrix(y, y_pred)\n",
    "    accuracy, precision, recall, f1 = cm_to_metrics(cm)\n",
    "    auc_score = roc_auc_score(y, y_pred)\n",
    "\n",
    "    if plot_cmat:\n",
    "        disp = ConfusionMatrixDisplay(\n",
    "            confusion_matrix=cm, display_labels=[\"star\", \"galaxy\"]\n",
    "        )\n",
    "        disp.plot()\n",
    "        plt.show()\n",
    "    if verbose:\n",
    "        try:\n",
    "            model_name = model.__class__.__name__\n",
    "        except:\n",
    "            model_name = \"\"\n",
    "        print(f\"Accuracy on {on} set of the model {model_name}: {accuracy:.4f}\")\n",
    "        print(f\"Precision on {on} set of the model {model_name}: {precision:.4f}\")\n",
    "        print(f\"Recall on {on} set of the model {model_name}: {recall:.4f}\")\n",
    "        print(f\"F1 on {on} set of the model {model_name}: {f1:.4f}\")\n",
    "        print(f\"AUC on {on} set of the model {model_name}: {auc_score:.4f}\\n\")\n",
    "        cr = classification_report(y, y_pred)\n",
    "        print(cr)\n",
    "    result = {\n",
    "        \"accuracy\": accuracy,\n",
    "        \"precision\": precision,\n",
    "        \"recall\": recall,\n",
    "        \"f1\": f1,\n",
    "        \"auc\": auc_score,\n",
    "    }\n",
    "    return result"
   ]
  },
  {
   "cell_type": "code",
   "execution_count": 12,
   "id": "5548b8ad",
   "metadata": {
    "execution": {
     "iopub.execute_input": "2023-05-24T07:36:43.218227Z",
     "iopub.status.busy": "2023-05-24T07:36:43.217775Z",
     "iopub.status.idle": "2023-05-24T07:36:43.224448Z",
     "shell.execute_reply": "2023-05-24T07:36:43.223175Z"
    },
    "papermill": {
     "duration": 0.035213,
     "end_time": "2023-05-24T07:36:43.227106",
     "exception": false,
     "start_time": "2023-05-24T07:36:43.191893",
     "status": "completed"
    },
    "tags": []
   },
   "outputs": [],
   "source": [
    "def dictionary_to_series(dictionary, name):\n",
    "    \"\"\"Convert dictionary to pandas series.\n",
    "    \n",
    "    Parameters\n",
    "    ----------\n",
    "    dictionary : dict\n",
    "        Dictionary to convert.\n",
    "    name : str\n",
    "        Name of the series.\n",
    "    \n",
    "    Returns\n",
    "    -------\n",
    "    series : pandas.Series\n",
    "        Series with the dictionary values.\n",
    "    \"\"\"\n",
    "    dictionary[\"model\"] = name\n",
    "    series = pd.Series(dictionary)\n",
    "    return series"
   ]
  },
  {
   "cell_type": "code",
   "execution_count": 13,
   "id": "0017ebab",
   "metadata": {
    "execution": {
     "iopub.execute_input": "2023-05-24T07:36:43.277143Z",
     "iopub.status.busy": "2023-05-24T07:36:43.276703Z",
     "iopub.status.idle": "2023-05-24T07:36:43.285066Z",
     "shell.execute_reply": "2023-05-24T07:36:43.284010Z"
    },
    "papermill": {
     "duration": 0.036483,
     "end_time": "2023-05-24T07:36:43.287626",
     "exception": false,
     "start_time": "2023-05-24T07:36:43.251143",
     "status": "completed"
    },
    "tags": []
   },
   "outputs": [],
   "source": [
    "def load_and_update_result(result, filename, name, save=False):\n",
    "    \"\"\"\n",
    "    Load a result from a file and update it with the new result.\n",
    "    \n",
    "    Parameters\n",
    "    ----------\n",
    "    result : dict\n",
    "        The result to be added to the file.\n",
    "    filename : str\n",
    "        The name of the file to be updated.\n",
    "    name : str\n",
    "        The name of the result.\n",
    "    save : bool\n",
    "        Whether to save the file after updating.\n",
    "    \n",
    "    Returns\n",
    "    -------\n",
    "    df : pandas.DataFrame\n",
    "        The updated file.\n",
    "    \n",
    "    Examples\n",
    "    --------\n",
    "    >>> load_and_update_result(result, filename, name)\n",
    "    \"\"\"\n",
    "\n",
    "    df = pd.read_csv(filename)\n",
    "    if name in df[\"model\"].values:\n",
    "        print(f\"Model {name} already exists in the file {filename}.\")\n",
    "        return None\n",
    "    result_series = dictionary_to_series(result, name)\n",
    "    result_df = pd.DataFrame(result_series).T\n",
    "    df = pd.concat([df, result_df], axis=0)\n",
    "    if save:\n",
    "        df.to_csv(filename, index=False)\n",
    "        return None\n",
    "    return df"
   ]
  },
  {
   "cell_type": "code",
   "execution_count": 14,
   "id": "d493db73",
   "metadata": {
    "execution": {
     "iopub.execute_input": "2023-05-24T07:36:43.337985Z",
     "iopub.status.busy": "2023-05-24T07:36:43.337505Z",
     "iopub.status.idle": "2023-05-24T07:36:43.345719Z",
     "shell.execute_reply": "2023-05-24T07:36:43.344380Z"
    },
    "papermill": {
     "duration": 0.037077,
     "end_time": "2023-05-24T07:36:43.348810",
     "exception": false,
     "start_time": "2023-05-24T07:36:43.311733",
     "status": "completed"
    },
    "tags": []
   },
   "outputs": [],
   "source": [
    "def evaluate_and_save_progress(model, name):\n",
    "    \"\"\"Evaluate model on train and test set and save the results in a csv file.\n",
    "\n",
    "    Parameters\n",
    "    ----------\n",
    "    model : sklearn model\n",
    "        Model to evaluate.\n",
    "    name : str\n",
    "        Name of the model.\n",
    "\n",
    "    Returns\n",
    "    -------\n",
    "    None.\n",
    "\n",
    "    Example\n",
    "    -------\n",
    "    >>> evaluate_and_save_progress(model, \"model_name\")\n",
    "    \"\"\"\n",
    "    train_results = evaluate_model(model, on=\"train\", plot_cmat=False, verbose=False)\n",
    "    test_results = evaluate_model(model, on=\"test\", plot_cmat=False, verbose=False)\n",
    "    load_and_update_result(\n",
    "        train_results,\n",
    "        TRAIN_RESULT_CSV_NAME,\n",
    "        name,\n",
    "        save=True,\n",
    "    )\n",
    "    load_and_update_result(\n",
    "        test_results,\n",
    "        TEST_RESULT_CSV_NAME,\n",
    "        name,\n",
    "        save=True,\n",
    "    )"
   ]
  },
  {
   "attachments": {},
   "cell_type": "markdown",
   "id": "43a578b7",
   "metadata": {
    "papermill": {
     "duration": 0.023909,
     "end_time": "2023-05-24T07:36:43.397091",
     "exception": false,
     "start_time": "2023-05-24T07:36:43.373182",
     "status": "completed"
    },
    "tags": []
   },
   "source": [
    "# Models"
   ]
  },
  {
   "attachments": {},
   "cell_type": "markdown",
   "id": "5e27afe5",
   "metadata": {
    "papermill": {
     "duration": 0.023513,
     "end_time": "2023-05-24T07:36:43.444651",
     "exception": false,
     "start_time": "2023-05-24T07:36:43.421138",
     "status": "completed"
    },
    "tags": []
   },
   "source": [
    "## Baseline"
   ]
  },
  {
   "attachments": {},
   "cell_type": "markdown",
   "id": "5b466414",
   "metadata": {
    "papermill": {
     "duration": 0.023573,
     "end_time": "2023-05-24T07:36:43.492144",
     "exception": false,
     "start_time": "2023-05-24T07:36:43.468571",
     "status": "completed"
    },
    "tags": []
   },
   "source": [
    "The baseline used for the experiments will be a simple linear regression model. The model will be trained on the training set and evaluated on the test set. The model will be trained using the following features:"
   ]
  },
  {
   "cell_type": "code",
   "execution_count": 15,
   "id": "51e62101",
   "metadata": {
    "execution": {
     "iopub.execute_input": "2023-05-24T07:36:43.541614Z",
     "iopub.status.busy": "2023-05-24T07:36:43.541155Z",
     "iopub.status.idle": "2023-05-24T07:36:44.536825Z",
     "shell.execute_reply": "2023-05-24T07:36:44.535090Z"
    },
    "papermill": {
     "duration": 1.025667,
     "end_time": "2023-05-24T07:36:44.541563",
     "exception": false,
     "start_time": "2023-05-24T07:36:43.515896",
     "status": "completed"
    },
    "tags": []
   },
   "outputs": [
    {
     "name": "stdout",
     "output_type": "stream",
     "text": [
      "Train accuracy: 0.9418\n",
      "Test accuracy: 0.9390\n"
     ]
    }
   ],
   "source": [
    "lr = LogisticRegression(max_iter=1000)\n",
    "\n",
    "lr.fit(X_train, y_train)\n",
    "train_acc = lr.score(X_train, y_train)\n",
    "test_acc = lr.score(X_test, y_test)\n",
    "\n",
    "print(f\"Train accuracy: {train_acc:.4f}\")\n",
    "print(f\"Test accuracy: {test_acc:.4f}\")"
   ]
  },
  {
   "cell_type": "code",
   "execution_count": 16,
   "id": "549152fe",
   "metadata": {
    "execution": {
     "iopub.execute_input": "2023-05-24T07:36:44.654169Z",
     "iopub.status.busy": "2023-05-24T07:36:44.653688Z",
     "iopub.status.idle": "2023-05-24T07:36:45.088424Z",
     "shell.execute_reply": "2023-05-24T07:36:45.086474Z"
    },
    "papermill": {
     "duration": 0.49631,
     "end_time": "2023-05-24T07:36:45.091871",
     "exception": false,
     "start_time": "2023-05-24T07:36:44.595561",
     "status": "completed"
    },
    "tags": []
   },
   "outputs": [
    {
     "data": {
      "image/png": "[encoded data removed]",
      "text/plain": [
       "<Figure size 640x480 with 2 Axes>"
      ]
     },
     "metadata": {},
     "output_type": "display_data"
    },
    {
     "name": "stdout",
     "output_type": "stream",
     "text": [
      "Accuracy on train set of the model LogisticRegression: 0.9418\n",
      "Precision on train set of the model LogisticRegression: 0.9485\n",
      "Recall on train set of the model LogisticRegression: 0.9343\n",
      "F1 on train set of the model LogisticRegression: 0.9413\n",
      "AUC on train set of the model LogisticRegression: 0.9418\n",
      "\n",
      "              precision    recall  f1-score   support\n",
      "\n",
      "           0       0.94      0.95      0.94     12007\n",
      "           1       0.95      0.93      0.94     11993\n",
      "\n",
      "    accuracy                           0.94     24000\n",
      "   macro avg       0.94      0.94      0.94     24000\n",
      "weighted avg       0.94      0.94      0.94     24000\n",
      "\n"
     ]
    }
   ],
   "source": [
    "result = evaluate_model(lr, on=\"train\", plot_cmat=True, verbose=True)"
   ]
  },
  {
   "cell_type": "code",
   "execution_count": 17,
   "id": "20bc803f",
   "metadata": {
    "execution": {
     "iopub.execute_input": "2023-05-24T07:36:45.145018Z",
     "iopub.status.busy": "2023-05-24T07:36:45.144131Z",
     "iopub.status.idle": "2023-05-24T07:36:45.436401Z",
     "shell.execute_reply": "2023-05-24T07:36:45.434561Z"
    },
    "papermill": {
     "duration": 0.322465,
     "end_time": "2023-05-24T07:36:45.439939",
     "exception": false,
     "start_time": "2023-05-24T07:36:45.117474",
     "status": "completed"
    },
    "tags": []
   },
   "outputs": [
    {
     "data": {
      "image/png": "[encoded data removed]",
      "text/plain": [
       "<Figure size 640x480 with 2 Axes>"
      ]
     },
     "metadata": {},
     "output_type": "display_data"
    },
    {
     "name": "stdout",
     "output_type": "stream",
     "text": [
      "Accuracy on test set of the model LogisticRegression: 0.9390\n",
      "Precision on test set of the model LogisticRegression: 0.9500\n",
      "Recall on test set of the model LogisticRegression: 0.9265\n",
      "F1 on test set of the model LogisticRegression: 0.9381\n",
      "AUC on test set of the model LogisticRegression: 0.9390\n",
      "\n",
      "              precision    recall  f1-score   support\n",
      "\n",
      "           0       0.93      0.95      0.94      3006\n",
      "           1       0.95      0.93      0.94      2994\n",
      "\n",
      "    accuracy                           0.94      6000\n",
      "   macro avg       0.94      0.94      0.94      6000\n",
      "weighted avg       0.94      0.94      0.94      6000\n",
      "\n"
     ]
    }
   ],
   "source": [
    "result = evaluate_model(lr, on=\"test\", plot_cmat=True, verbose=True)"
   ]
  },
  {
   "cell_type": "code",
   "execution_count": 18,
   "id": "8a024840",
   "metadata": {
    "execution": {
     "iopub.execute_input": "2023-05-24T07:36:45.493418Z",
     "iopub.status.busy": "2023-05-24T07:36:45.492999Z",
     "iopub.status.idle": "2023-05-24T07:36:45.543055Z",
     "shell.execute_reply": "2023-05-24T07:36:45.541354Z"
    },
    "papermill": {
     "duration": 0.082542,
     "end_time": "2023-05-24T07:36:45.548169",
     "exception": false,
     "start_time": "2023-05-24T07:36:45.465627",
     "status": "completed"
    },
    "tags": []
   },
   "outputs": [
    {
     "name": "stdout",
     "output_type": "stream",
     "text": [
      "Model Logistic Regression already exists in the file train_results.csv.\n",
      "Model Logistic Regression already exists in the file test_results.csv.\n"
     ]
    }
   ],
   "source": [
    "evaluate_and_save_progress(lr, \"Logistic Regression\")"
   ]
  },
  {
   "attachments": {},
   "cell_type": "markdown",
   "id": "9ba0a3dc",
   "metadata": {
    "papermill": {
     "duration": 0.044627,
     "end_time": "2023-05-24T07:36:45.649063",
     "exception": false,
     "start_time": "2023-05-24T07:36:45.604436",
     "status": "completed"
    },
    "tags": []
   },
   "source": [
    "## SVC"
   ]
  },
  {
   "cell_type": "code",
   "execution_count": 19,
   "id": "8449c6b6",
   "metadata": {
    "execution": {
     "iopub.execute_input": "2023-05-24T07:36:45.703096Z",
     "iopub.status.busy": "2023-05-24T07:36:45.702658Z",
     "iopub.status.idle": "2023-05-24T07:36:59.660769Z",
     "shell.execute_reply": "2023-05-24T07:36:59.659375Z"
    },
    "papermill": {
     "duration": 13.988629,
     "end_time": "2023-05-24T07:36:59.663787",
     "exception": false,
     "start_time": "2023-05-24T07:36:45.675158",
     "status": "completed"
    },
    "tags": []
   },
   "outputs": [
    {
     "data": {
      "text/plain": [
       "SVC()"
      ]
     },
     "execution_count": 19,
     "metadata": {},
     "output_type": "execute_result"
    }
   ],
   "source": [
    "svc_base = SVC()\n",
    "svc_base.fit(X_train, y_train)"
   ]
  },
  {
   "cell_type": "code",
   "execution_count": 20,
   "id": "64c94827",
   "metadata": {
    "execution": {
     "iopub.execute_input": "2023-05-24T07:36:59.717203Z",
     "iopub.status.busy": "2023-05-24T07:36:59.716764Z",
     "iopub.status.idle": "2023-05-24T07:37:13.072561Z",
     "shell.execute_reply": "2023-05-24T07:37:13.070813Z"
    },
    "papermill": {
     "duration": 13.386108,
     "end_time": "2023-05-24T07:37:13.075734",
     "exception": false,
     "start_time": "2023-05-24T07:36:59.689626",
     "status": "completed"
    },
    "tags": []
   },
   "outputs": [
    {
     "data": {
      "image/png": "[encoded data removed]",
      "text/plain": [
       "<Figure size 640x480 with 2 Axes>"
      ]
     },
     "metadata": {},
     "output_type": "display_data"
    },
    {
     "name": "stdout",
     "output_type": "stream",
     "text": [
      "Accuracy on train set of the model SVC: 0.9538\n",
      "Precision on train set of the model SVC: 0.9568\n",
      "Recall on train set of the model SVC: 0.9506\n",
      "F1 on train set of the model SVC: 0.9537\n",
      "AUC on train set of the model SVC: 0.9538\n",
      "\n",
      "              precision    recall  f1-score   support\n",
      "\n",
      "           0       0.95      0.96      0.95     12007\n",
      "           1       0.96      0.95      0.95     11993\n",
      "\n",
      "    accuracy                           0.95     24000\n",
      "   macro avg       0.95      0.95      0.95     24000\n",
      "weighted avg       0.95      0.95      0.95     24000\n",
      "\n"
     ]
    }
   ],
   "source": [
    "result = evaluate_model(svc_base, on=\"train\", plot_cmat=True, verbose=True)"
   ]
  },
  {
   "cell_type": "code",
   "execution_count": 21,
   "id": "9ddb41b9",
   "metadata": {
    "execution": {
     "iopub.execute_input": "2023-05-24T07:37:13.130630Z",
     "iopub.status.busy": "2023-05-24T07:37:13.130163Z",
     "iopub.status.idle": "2023-05-24T07:37:16.719111Z",
     "shell.execute_reply": "2023-05-24T07:37:16.717649Z"
    },
    "papermill": {
     "duration": 3.619733,
     "end_time": "2023-05-24T07:37:16.721953",
     "exception": false,
     "start_time": "2023-05-24T07:37:13.102220",
     "status": "completed"
    },
    "tags": []
   },
   "outputs": [
    {
     "data": {
      "image/png": "[encoded data removed]",
      "text/plain": [
       "<Figure size 640x480 with 2 Axes>"
      ]
     },
     "metadata": {},
     "output_type": "display_data"
    },
    {
     "name": "stdout",
     "output_type": "stream",
     "text": [
      "Accuracy on test set of the model SVC: 0.9463\n",
      "Precision on test set of the model SVC: 0.9480\n",
      "Recall on test set of the model SVC: 0.9442\n",
      "F1 on test set of the model SVC: 0.9461\n",
      "AUC on test set of the model SVC: 0.9463\n",
      "\n",
      "              precision    recall  f1-score   support\n",
      "\n",
      "           0       0.94      0.95      0.95      3006\n",
      "           1       0.95      0.94      0.95      2994\n",
      "\n",
      "    accuracy                           0.95      6000\n",
      "   macro avg       0.95      0.95      0.95      6000\n",
      "weighted avg       0.95      0.95      0.95      6000\n",
      "\n"
     ]
    }
   ],
   "source": [
    "result = evaluate_model(svc_base, on=\"test\", plot_cmat=True, verbose=True)"
   ]
  },
  {
   "cell_type": "code",
   "execution_count": 22,
   "id": "6c3590d2",
   "metadata": {
    "execution": {
     "iopub.execute_input": "2023-05-24T07:37:16.780363Z",
     "iopub.status.busy": "2023-05-24T07:37:16.779483Z",
     "iopub.status.idle": "2023-05-24T07:37:33.663387Z",
     "shell.execute_reply": "2023-05-24T07:37:33.661536Z"
    },
    "papermill": {
     "duration": 16.916965,
     "end_time": "2023-05-24T07:37:33.666616",
     "exception": false,
     "start_time": "2023-05-24T07:37:16.749651",
     "status": "completed"
    },
    "tags": []
   },
   "outputs": [
    {
     "name": "stdout",
     "output_type": "stream",
     "text": [
      "Model SVC Base already exists in the file train_results.csv.\n",
      "Model SVC Base already exists in the file test_results.csv.\n"
     ]
    }
   ],
   "source": [
    "evaluate_and_save_progress(svc_base, \"SVC Base\")"
   ]
  },
  {
   "attachments": {},
   "cell_type": "markdown",
   "id": "a25b1c02",
   "metadata": {
    "papermill": {
     "duration": 0.026877,
     "end_time": "2023-05-24T07:37:33.720773",
     "exception": false,
     "start_time": "2023-05-24T07:37:33.693896",
     "status": "completed"
    },
    "tags": []
   },
   "source": [
    "## SVC Fine Tuning"
   ]
  },
  {
   "cell_type": "code",
   "execution_count": 23,
   "id": "b998e243",
   "metadata": {
    "execution": {
     "iopub.execute_input": "2023-05-24T07:37:33.777316Z",
     "iopub.status.busy": "2023-05-24T07:37:33.776867Z",
     "iopub.status.idle": "2023-05-24T07:37:33.786373Z",
     "shell.execute_reply": "2023-05-24T07:37:33.784956Z"
    },
    "papermill": {
     "duration": 0.041247,
     "end_time": "2023-05-24T07:37:33.789214",
     "exception": false,
     "start_time": "2023-05-24T07:37:33.747967",
     "status": "completed"
    },
    "tags": []
   },
   "outputs": [],
   "source": [
    "# create a grid search using optuna\n",
    "def objective(trial):\n",
    "    C = trial.suggest_loguniform(\"C\", 1e-5, 1e5)\n",
    "    gamma = trial.suggest_loguniform(\"gamma\", 1e-5, 1e5)\n",
    "    kernel = trial.suggest_categorical(\"kernel\", [\"rbf\", \"sigmoid\"])\n",
    "    degree = trial.suggest_int(\"degree\", 1, 10)\n",
    "    coef0 = trial.suggest_loguniform(\"coef0\", 1e-5, 1e5)\n",
    "\n",
    "    model = SVC(\n",
    "        C=C,\n",
    "        kernel=kernel,\n",
    "        degree=degree,\n",
    "        gamma=gamma,\n",
    "        coef0=coef0,\n",
    "    )\n",
    "    model.fit(X_train, y_train)\n",
    "    return model.score(X_test, y_test)"
   ]
  },
  {
   "cell_type": "code",
   "execution_count": 24,
   "id": "9ce19b4b",
   "metadata": {
    "execution": {
     "iopub.execute_input": "2023-05-24T07:37:33.846250Z",
     "iopub.status.busy": "2023-05-24T07:37:33.845793Z",
     "iopub.status.idle": "2023-05-24T07:37:33.851217Z",
     "shell.execute_reply": "2023-05-24T07:37:33.849830Z"
    },
    "papermill": {
     "duration": 0.037624,
     "end_time": "2023-05-24T07:37:33.854188",
     "exception": false,
     "start_time": "2023-05-24T07:37:33.816564",
     "status": "completed"
    },
    "tags": []
   },
   "outputs": [],
   "source": [
    "# # create a study object\n",
    "# study = optuna.create_study(direction=\"maximize\", study_name=\"SVC\", )\n",
    "# # optimize the objective function\n",
    "# study.optimize(objective, n_trials=50, show_progress_bar=True)"
   ]
  },
  {
   "cell_type": "code",
   "execution_count": 25,
   "id": "d93fdb6a",
   "metadata": {
    "execution": {
     "iopub.execute_input": "2023-05-24T07:37:33.911828Z",
     "iopub.status.busy": "2023-05-24T07:37:33.911338Z",
     "iopub.status.idle": "2023-05-24T07:37:33.919327Z",
     "shell.execute_reply": "2023-05-24T07:37:33.917986Z"
    },
    "papermill": {
     "duration": 0.039716,
     "end_time": "2023-05-24T07:37:33.921988",
     "exception": false,
     "start_time": "2023-05-24T07:37:33.882272",
     "status": "completed"
    },
    "tags": []
   },
   "outputs": [],
   "source": [
    "def create_text_message(study):\n",
    "    \"\"\"\n",
    "    This function creates a text message from the study object.\n",
    "\n",
    "    Parameters\n",
    "    ----------\n",
    "    study : optuna study object\n",
    "        The study object.\n",
    "\n",
    "    Returns\n",
    "    -------\n",
    "    message : str\n",
    "        The message to be sent.\n",
    "    \"\"\"\n",
    "    message = f\"Study Name: {study.study_name}\\n\"\n",
    "    message += f\"Number of trials: {len(study.trials)}\\n\"\n",
    "    message += \"Here are the best parameters:\\n\"\n",
    "    message += \"-----------------------------\\n\"\n",
    "    best_params = study.best_params\n",
    "    for key, value in best_params.items():\n",
    "        message += f\"{key} : {value}\\n\"\n",
    "    best_value = study.best_value\n",
    "    message += f\"Best Accuracy: {best_value:.4f}\"\n",
    "    return message"
   ]
  },
  {
   "cell_type": "code",
   "execution_count": 26,
   "id": "8e429b0f",
   "metadata": {
    "execution": {
     "iopub.execute_input": "2023-05-24T07:37:33.979029Z",
     "iopub.status.busy": "2023-05-24T07:37:33.978579Z",
     "iopub.status.idle": "2023-05-24T07:37:33.983977Z",
     "shell.execute_reply": "2023-05-24T07:37:33.982617Z"
    },
    "papermill": {
     "duration": 0.037273,
     "end_time": "2023-05-24T07:37:33.986891",
     "exception": false,
     "start_time": "2023-05-24T07:37:33.949618",
     "status": "completed"
    },
    "tags": []
   },
   "outputs": [],
   "source": [
    "# message = create_text_message(study)\n",
    "# print(message)"
   ]
  },
  {
   "attachments": {},
   "cell_type": "markdown",
   "id": "860b0b63",
   "metadata": {
    "papermill": {
     "duration": 0.028813,
     "end_time": "2023-05-24T07:37:34.042952",
     "exception": false,
     "start_time": "2023-05-24T07:37:34.014139",
     "status": "completed"
    },
    "tags": []
   },
   "source": [
    "SVC Best parameters:\n",
    "```python\n",
    "{'C': 16296.601892646648,\n",
    " 'gamma': 0.0011879874407358082,\n",
    " 'kernel': 'rbf',\n",
    " 'degree': 2,\n",
    " 'coef0': 61.32196047340159}\n",
    " ```"
   ]
  },
  {
   "cell_type": "code",
   "execution_count": 27,
   "id": "95f9ff86",
   "metadata": {
    "execution": {
     "iopub.execute_input": "2023-05-24T07:37:34.099614Z",
     "iopub.status.busy": "2023-05-24T07:37:34.099136Z",
     "iopub.status.idle": "2023-05-24T07:37:34.105529Z",
     "shell.execute_reply": "2023-05-24T07:37:34.104125Z"
    },
    "papermill": {
     "duration": 0.038304,
     "end_time": "2023-05-24T07:37:34.108504",
     "exception": false,
     "start_time": "2023-05-24T07:37:34.070200",
     "status": "completed"
    },
    "tags": []
   },
   "outputs": [],
   "source": [
    "svc_best = {'C': 16296.601892646648,\n",
    " 'gamma': 0.0011879874407358082,\n",
    " 'kernel': 'rbf',\n",
    " 'degree': 2,\n",
    " 'coef0': 61.32196047340159}"
   ]
  },
  {
   "cell_type": "code",
   "execution_count": 28,
   "id": "7453c276",
   "metadata": {
    "execution": {
     "iopub.execute_input": "2023-05-24T07:37:34.166028Z",
     "iopub.status.busy": "2023-05-24T07:37:34.165113Z",
     "iopub.status.idle": "2023-05-24T07:39:16.966757Z",
     "shell.execute_reply": "2023-05-24T07:39:16.965431Z"
    },
    "papermill": {
     "duration": 102.860578,
     "end_time": "2023-05-24T07:39:16.997001",
     "exception": false,
     "start_time": "2023-05-24T07:37:34.136423",
     "status": "completed"
    },
    "tags": []
   },
   "outputs": [
    {
     "data": {
      "text/plain": [
       "SVC(C=16296.601892646648, coef0=61.32196047340159, degree=2,\n",
       "    gamma=0.0011879874407358082)"
      ]
     },
     "execution_count": 28,
     "metadata": {},
     "output_type": "execute_result"
    }
   ],
   "source": [
    "svc_base = SVC(**svc_best)\n",
    "svc_base.fit(X_train, y_train)"
   ]
  },
  {
   "cell_type": "code",
   "execution_count": 29,
   "id": "f2aedc70",
   "metadata": {
    "execution": {
     "iopub.execute_input": "2023-05-24T07:39:17.055186Z",
     "iopub.status.busy": "2023-05-24T07:39:17.054683Z",
     "iopub.status.idle": "2023-05-24T07:39:19.203853Z",
     "shell.execute_reply": "2023-05-24T07:39:19.201145Z"
    },
    "papermill": {
     "duration": 2.181895,
     "end_time": "2023-05-24T07:39:19.206792",
     "exception": false,
     "start_time": "2023-05-24T07:39:17.024897",
     "status": "completed"
    },
    "tags": []
   },
   "outputs": [
    {
     "data": {
      "image/png": "[encoded data removed]",
      "text/plain": [
       "<Figure size 640x480 with 2 Axes>"
      ]
     },
     "metadata": {},
     "output_type": "display_data"
    },
    {
     "name": "stdout",
     "output_type": "stream",
     "text": [
      "Accuracy on test set of the model SVC: 0.9535\n",
      "Precision on test set of the model SVC: 0.9569\n",
      "Recall on test set of the model SVC: 0.9496\n",
      "F1 on test set of the model SVC: 0.9532\n",
      "AUC on test set of the model SVC: 0.9535\n",
      "\n",
      "              precision    recall  f1-score   support\n",
      "\n",
      "           0       0.95      0.96      0.95      3006\n",
      "           1       0.96      0.95      0.95      2994\n",
      "\n",
      "    accuracy                           0.95      6000\n",
      "   macro avg       0.95      0.95      0.95      6000\n",
      "weighted avg       0.95      0.95      0.95      6000\n",
      "\n"
     ]
    }
   ],
   "source": [
    "result = evaluate_model(svc_base, on=\"test\", plot_cmat=True, verbose=True)"
   ]
  },
  {
   "cell_type": "code",
   "execution_count": 30,
   "id": "1b7d8bf4",
   "metadata": {
    "execution": {
     "iopub.execute_input": "2023-05-24T07:39:19.266182Z",
     "iopub.status.busy": "2023-05-24T07:39:19.265692Z",
     "iopub.status.idle": "2023-05-24T07:39:26.364253Z",
     "shell.execute_reply": "2023-05-24T07:39:26.362632Z"
    },
    "papermill": {
     "duration": 7.132675,
     "end_time": "2023-05-24T07:39:26.367492",
     "exception": false,
     "start_time": "2023-05-24T07:39:19.234817",
     "status": "completed"
    },
    "tags": []
   },
   "outputs": [
    {
     "data": {
      "image/png": "[encoded data removed]",
      "text/plain": [
       "<Figure size 640x480 with 2 Axes>"
      ]
     },
     "metadata": {},
     "output_type": "display_data"
    },
    {
     "name": "stdout",
     "output_type": "stream",
     "text": [
      "Accuracy on train set of the model SVC: 0.9694\n",
      "Precision on train set of the model SVC: 0.9717\n",
      "Recall on train set of the model SVC: 0.9669\n",
      "F1 on train set of the model SVC: 0.9693\n",
      "AUC on train set of the model SVC: 0.9694\n",
      "\n",
      "              precision    recall  f1-score   support\n",
      "\n",
      "           0       0.97      0.97      0.97     12007\n",
      "           1       0.97      0.97      0.97     11993\n",
      "\n",
      "    accuracy                           0.97     24000\n",
      "   macro avg       0.97      0.97      0.97     24000\n",
      "weighted avg       0.97      0.97      0.97     24000\n",
      "\n"
     ]
    }
   ],
   "source": [
    "result = evaluate_model(svc_base, on=\"train\", plot_cmat=True, verbose=True)"
   ]
  },
  {
   "cell_type": "code",
   "execution_count": 31,
   "id": "a5d5250d",
   "metadata": {
    "execution": {
     "iopub.execute_input": "2023-05-24T07:39:26.429205Z",
     "iopub.status.busy": "2023-05-24T07:39:26.428740Z",
     "iopub.status.idle": "2023-05-24T07:39:35.029153Z",
     "shell.execute_reply": "2023-05-24T07:39:35.027514Z"
    },
    "papermill": {
     "duration": 8.635698,
     "end_time": "2023-05-24T07:39:35.032584",
     "exception": false,
     "start_time": "2023-05-24T07:39:26.396886",
     "status": "completed"
    },
    "tags": []
   },
   "outputs": [],
   "source": [
    "evaluate_and_save_progress(svc_base, \"SVC Final\")"
   ]
  },
  {
   "attachments": {},
   "cell_type": "markdown",
   "id": "5073ce7e",
   "metadata": {
    "papermill": {
     "duration": 0.0287,
     "end_time": "2023-05-24T07:39:35.090182",
     "exception": false,
     "start_time": "2023-05-24T07:39:35.061482",
     "status": "completed"
    },
    "tags": []
   },
   "source": [
    "## Random Forest"
   ]
  },
  {
   "cell_type": "code",
   "execution_count": 32,
   "id": "58a3b747",
   "metadata": {
    "execution": {
     "iopub.execute_input": "2023-05-24T07:39:35.150618Z",
     "iopub.status.busy": "2023-05-24T07:39:35.150148Z",
     "iopub.status.idle": "2023-05-24T07:39:35.161516Z",
     "shell.execute_reply": "2023-05-24T07:39:35.160088Z"
    },
    "papermill": {
     "duration": 0.045313,
     "end_time": "2023-05-24T07:39:35.164457",
     "exception": false,
     "start_time": "2023-05-24T07:39:35.119144",
     "status": "completed"
    },
    "tags": []
   },
   "outputs": [],
   "source": [
    "def objective(trial):\n",
    "    #Create an objective for random forest classifier\n",
    "    n_estimators = trial.suggest_int(\"n_estimators\", 2, 200)\n",
    "    max_depth = trial.suggest_int(\"max_depth\", 2, 32, log=True)\n",
    "    min_samples_split = trial.suggest_int(\"min_samples_split\", 2, 20)\n",
    "    min_samples_leaf = trial.suggest_int(\"min_samples_leaf\", 1, 20)\n",
    "    max_features = trial.suggest_categorical(\"max_features\", [\"auto\", \"sqrt\", \"log2\"])\n",
    "    max_samples = trial.suggest_categorical(\"max_samples\", [0.5, 0.7, 0.9, 1.0])\n",
    "\n",
    "    model = RandomForestClassifier(\n",
    "        n_estimators=n_estimators,\n",
    "        max_depth=max_depth,\n",
    "        min_samples_split=min_samples_split,\n",
    "        min_samples_leaf=min_samples_leaf,\n",
    "        max_features=max_features,\n",
    "        max_samples=max_samples,\n",
    "        n_jobs=-1,\n",
    "    )\n",
    "    model.fit(X_train, y_train)\n",
    "    return model.score(X_test, y_test)"
   ]
  },
  {
   "cell_type": "code",
   "execution_count": 33,
   "id": "8818e7ad",
   "metadata": {
    "execution": {
     "iopub.execute_input": "2023-05-24T07:39:35.225912Z",
     "iopub.status.busy": "2023-05-24T07:39:35.224495Z",
     "iopub.status.idle": "2023-05-24T07:39:35.230672Z",
     "shell.execute_reply": "2023-05-24T07:39:35.229636Z"
    },
    "papermill": {
     "duration": 0.040129,
     "end_time": "2023-05-24T07:39:35.233454",
     "exception": false,
     "start_time": "2023-05-24T07:39:35.193325",
     "status": "completed"
    },
    "tags": []
   },
   "outputs": [],
   "source": [
    "# # create a study object\n",
    "# study = optuna.create_study(direction=\"maximize\", study_name=\"Random Forest\")\n",
    "# # optimize the objective function\n",
    "# study.optimize(objective, n_trials=100, show_progress_bar=True)"
   ]
  },
  {
   "cell_type": "code",
   "execution_count": 34,
   "id": "2388a68f",
   "metadata": {
    "execution": {
     "iopub.execute_input": "2023-05-24T07:39:35.295394Z",
     "iopub.status.busy": "2023-05-24T07:39:35.294129Z",
     "iopub.status.idle": "2023-05-24T07:39:35.299056Z",
     "shell.execute_reply": "2023-05-24T07:39:35.298096Z"
    },
    "papermill": {
     "duration": 0.039453,
     "end_time": "2023-05-24T07:39:35.301696",
     "exception": false,
     "start_time": "2023-05-24T07:39:35.262243",
     "status": "completed"
    },
    "tags": []
   },
   "outputs": [],
   "source": [
    "# message = create_text_message(study)\n",
    "# print(message)"
   ]
  },
  {
   "attachments": {},
   "cell_type": "markdown",
   "id": "2e749df4",
   "metadata": {
    "papermill": {
     "duration": 0.028894,
     "end_time": "2023-05-24T07:39:35.360216",
     "exception": false,
     "start_time": "2023-05-24T07:39:35.331322",
     "status": "completed"
    },
    "tags": []
   },
   "source": [
    "Random Forest Best Parameters\n",
    "```python\n",
    "{'n_estimators': 76,\n",
    " 'max_depth': 19,\n",
    " 'min_samples_split': 10,\n",
    " 'min_samples_leaf': 2,\n",
    " 'max_features': 'sqrt',\n",
    " 'max_samples': 1.0}\n",
    "```"
   ]
  },
  {
   "cell_type": "code",
   "execution_count": 35,
   "id": "bd5c6f65",
   "metadata": {
    "execution": {
     "iopub.execute_input": "2023-05-24T07:39:35.423978Z",
     "iopub.status.busy": "2023-05-24T07:39:35.423212Z",
     "iopub.status.idle": "2023-05-24T07:39:35.428700Z",
     "shell.execute_reply": "2023-05-24T07:39:35.427376Z"
    },
    "papermill": {
     "duration": 0.041035,
     "end_time": "2023-05-24T07:39:35.431628",
     "exception": false,
     "start_time": "2023-05-24T07:39:35.390593",
     "status": "completed"
    },
    "tags": []
   },
   "outputs": [],
   "source": [
    "best_params = {'n_estimators': 76,\n",
    " 'max_depth': 19,\n",
    " 'min_samples_split': 10,\n",
    " 'min_samples_leaf': 2,\n",
    " 'max_features': 'sqrt',\n",
    " 'max_samples': 1.0}"
   ]
  },
  {
   "cell_type": "code",
   "execution_count": 36,
   "id": "85a9ba6a",
   "metadata": {
    "execution": {
     "iopub.execute_input": "2023-05-24T07:39:35.493910Z",
     "iopub.status.busy": "2023-05-24T07:39:35.493450Z",
     "iopub.status.idle": "2023-05-24T07:39:46.465879Z",
     "shell.execute_reply": "2023-05-24T07:39:46.464233Z"
    },
    "papermill": {
     "duration": 11.008038,
     "end_time": "2023-05-24T07:39:46.469554",
     "exception": false,
     "start_time": "2023-05-24T07:39:35.461516",
     "status": "completed"
    },
    "tags": []
   },
   "outputs": [
    {
     "data": {
      "text/plain": [
       "RandomForestClassifier(max_depth=19, max_features='sqrt', max_samples=1.0,\n",
       "                       min_samples_leaf=2, min_samples_split=10,\n",
       "                       n_estimators=76)"
      ]
     },
     "execution_count": 36,
     "metadata": {},
     "output_type": "execute_result"
    }
   ],
   "source": [
    "rfc = RandomForestClassifier(**best_params)\n",
    "rfc.fit(X_train, y_train)"
   ]
  },
  {
   "cell_type": "code",
   "execution_count": 37,
   "id": "c986b5a8",
   "metadata": {
    "execution": {
     "iopub.execute_input": "2023-05-24T07:39:46.533321Z",
     "iopub.status.busy": "2023-05-24T07:39:46.532206Z",
     "iopub.status.idle": "2023-05-24T07:39:46.904208Z",
     "shell.execute_reply": "2023-05-24T07:39:46.902619Z"
    },
    "papermill": {
     "duration": 0.406586,
     "end_time": "2023-05-24T07:39:46.907017",
     "exception": false,
     "start_time": "2023-05-24T07:39:46.500431",
     "status": "completed"
    },
    "tags": []
   },
   "outputs": [
    {
     "data": {
      "image/png": "[encoded data removed]",
      "text/plain": [
       "<Figure size 640x480 with 2 Axes>"
      ]
     },
     "metadata": {},
     "output_type": "display_data"
    },
    {
     "name": "stdout",
     "output_type": "stream",
     "text": [
      "Accuracy on test set of the model RandomForestClassifier: 0.9583\n",
      "Precision on test set of the model RandomForestClassifier: 0.9537\n",
      "Recall on test set of the model RandomForestClassifier: 0.9633\n",
      "F1 on test set of the model RandomForestClassifier: 0.9585\n",
      "AUC on test set of the model RandomForestClassifier: 0.9583\n",
      "\n",
      "              precision    recall  f1-score   support\n",
      "\n",
      "           0       0.96      0.95      0.96      3006\n",
      "           1       0.95      0.96      0.96      2994\n",
      "\n",
      "    accuracy                           0.96      6000\n",
      "   macro avg       0.96      0.96      0.96      6000\n",
      "weighted avg       0.96      0.96      0.96      6000\n",
      "\n"
     ]
    }
   ],
   "source": [
    "result = evaluate_model(rfc, on=\"test\", plot_cmat=True, verbose=True)"
   ]
  },
  {
   "cell_type": "code",
   "execution_count": 38,
   "id": "7894b81f",
   "metadata": {
    "execution": {
     "iopub.execute_input": "2023-05-24T07:39:46.969473Z",
     "iopub.status.busy": "2023-05-24T07:39:46.968174Z",
     "iopub.status.idle": "2023-05-24T07:39:47.548463Z",
     "shell.execute_reply": "2023-05-24T07:39:47.547385Z"
    },
    "papermill": {
     "duration": 0.614721,
     "end_time": "2023-05-24T07:39:47.551455",
     "exception": false,
     "start_time": "2023-05-24T07:39:46.936734",
     "status": "completed"
    },
    "tags": []
   },
   "outputs": [
    {
     "data": {
      "image/png": "[encoded data removed]",
      "text/plain": [
       "<Figure size 640x480 with 2 Axes>"
      ]
     },
     "metadata": {},
     "output_type": "display_data"
    },
    {
     "name": "stdout",
     "output_type": "stream",
     "text": [
      "Accuracy on train set of the model RandomForestClassifier: 0.9908\n",
      "Precision on train set of the model RandomForestClassifier: 0.9890\n",
      "Recall on train set of the model RandomForestClassifier: 0.9925\n",
      "F1 on train set of the model RandomForestClassifier: 0.9908\n",
      "AUC on train set of the model RandomForestClassifier: 0.9908\n",
      "\n",
      "              precision    recall  f1-score   support\n",
      "\n",
      "           0       0.99      0.99      0.99     12007\n",
      "           1       0.99      0.99      0.99     11993\n",
      "\n",
      "    accuracy                           0.99     24000\n",
      "   macro avg       0.99      0.99      0.99     24000\n",
      "weighted avg       0.99      0.99      0.99     24000\n",
      "\n"
     ]
    }
   ],
   "source": [
    "result = evaluate_model(rfc, on=\"train\", plot_cmat=True, verbose=True)"
   ]
  },
  {
   "cell_type": "code",
   "execution_count": 39,
   "id": "3cad53ad",
   "metadata": {
    "execution": {
     "iopub.execute_input": "2023-05-24T07:39:47.615315Z",
     "iopub.status.busy": "2023-05-24T07:39:47.614209Z",
     "iopub.status.idle": "2023-05-24T07:39:48.013909Z",
     "shell.execute_reply": "2023-05-24T07:39:48.012881Z"
    },
    "papermill": {
     "duration": 0.434448,
     "end_time": "2023-05-24T07:39:48.017050",
     "exception": false,
     "start_time": "2023-05-24T07:39:47.582602",
     "status": "completed"
    },
    "tags": []
   },
   "outputs": [],
   "source": [
    "evaluate_and_save_progress(rfc, \"Random Forest Final\")"
   ]
  },
  {
   "attachments": {},
   "cell_type": "markdown",
   "id": "c0dda2ff",
   "metadata": {
    "papermill": {
     "duration": 0.030019,
     "end_time": "2023-05-24T07:39:48.077408",
     "exception": false,
     "start_time": "2023-05-24T07:39:48.047389",
     "status": "completed"
    },
    "tags": []
   },
   "source": [
    "## XGBoost"
   ]
  },
  {
   "cell_type": "code",
   "execution_count": 40,
   "id": "17bff515",
   "metadata": {
    "execution": {
     "iopub.execute_input": "2023-05-24T07:39:48.141307Z",
     "iopub.status.busy": "2023-05-24T07:39:48.140268Z",
     "iopub.status.idle": "2023-05-24T07:39:48.152751Z",
     "shell.execute_reply": "2023-05-24T07:39:48.151704Z"
    },
    "papermill": {
     "duration": 0.048107,
     "end_time": "2023-05-24T07:39:48.155793",
     "exception": false,
     "start_time": "2023-05-24T07:39:48.107686",
     "status": "completed"
    },
    "tags": []
   },
   "outputs": [],
   "source": [
    "#Create a study for xgboost\n",
    "def objective(trial):\n",
    "    #Create an objective for xgboost classifier\n",
    "    n_estimators = trial.suggest_int(\"n_estimators\", 2, 200)\n",
    "    max_depth = trial.suggest_int(\"max_depth\", 2, 32, log=True)\n",
    "    learning_rate = trial.suggest_loguniform(\"learning_rate\", 1e-5, 1e-1)\n",
    "    subsample = trial.suggest_categorical(\"subsample\", [0.5, 0.7, 0.9, 1.0])\n",
    "    reg_alpha = trial.suggest_loguniform(\"reg_alpha\", 1e-5, 1e5)\n",
    "    reg_lambda = trial.suggest_loguniform(\"reg_lambda\", 1e-5, 1e5)\n",
    "    gamma = trial.suggest_loguniform(\"gamma\", 1e-5, 1e5)\n",
    "    min_child_weight = trial.suggest_int(\"min_child_weight\", 1, 20)\n",
    "\n",
    "    model = XGBClassifier(\n",
    "        n_estimators=n_estimators,\n",
    "        max_depth=max_depth,\n",
    "        learning_rate=learning_rate,\n",
    "        subsample=subsample,\n",
    "        reg_alpha=reg_alpha,\n",
    "        reg_lambda=reg_lambda,\n",
    "        gamma=gamma,\n",
    "        min_child_weight=min_child_weight,\n",
    "        n_jobs=-1,\n",
    "    )\n",
    "    model.fit(X_train, y_train)\n",
    "    return model.score(X_test, y_test)\n",
    "\n",
    "# create a study object\n",
    "# study = optuna.create_study(direction=\"maximize\", study_name=\"XGBoost\")\n",
    "# optimize the objective function\n",
    "# study.optimize(objective, n_trials=100, show_progress_bar=True)"
   ]
  },
  {
   "cell_type": "code",
   "execution_count": 41,
   "id": "4632753c",
   "metadata": {
    "execution": {
     "iopub.execute_input": "2023-05-24T07:39:48.219906Z",
     "iopub.status.busy": "2023-05-24T07:39:48.218947Z",
     "iopub.status.idle": "2023-05-24T07:39:48.224447Z",
     "shell.execute_reply": "2023-05-24T07:39:48.223352Z"
    },
    "papermill": {
     "duration": 0.040762,
     "end_time": "2023-05-24T07:39:48.227498",
     "exception": false,
     "start_time": "2023-05-24T07:39:48.186736",
     "status": "completed"
    },
    "tags": []
   },
   "outputs": [],
   "source": [
    "# message = create_text_message(study)\n",
    "# print(message)"
   ]
  },
  {
   "attachments": {},
   "cell_type": "markdown",
   "id": "0d7ae768",
   "metadata": {
    "execution": {
     "iopub.execute_input": "2023-05-24T05:21:50.071395Z",
     "iopub.status.busy": "2023-05-24T05:21:50.070338Z",
     "iopub.status.idle": "2023-05-24T05:21:50.082871Z",
     "shell.execute_reply": "2023-05-24T05:21:50.080394Z",
     "shell.execute_reply.started": "2023-05-24T05:21:50.071338Z"
    },
    "papermill": {
     "duration": 0.031065,
     "end_time": "2023-05-24T07:39:48.289724",
     "exception": false,
     "start_time": "2023-05-24T07:39:48.258659",
     "status": "completed"
    },
    "tags": []
   },
   "source": [
    "XGBoost Best Parameters\n",
    "```python\n",
    "{'n_estimators': 188,\n",
    " 'max_depth': 17,\n",
    " 'learning_rate': 0.08245844777734937,\n",
    " 'subsample': 0.9,\n",
    " 'reg_alpha': 0.16634334643800422,\n",
    " 'reg_lambda': 0.010449329514317554,\n",
    " 'gamma': 3.5712964675328855e-05,\n",
    " 'min_child_weight': 17}\n",
    "```"
   ]
  },
  {
   "cell_type": "code",
   "execution_count": 42,
   "id": "45eeaed8",
   "metadata": {
    "execution": {
     "iopub.execute_input": "2023-05-24T07:39:48.352504Z",
     "iopub.status.busy": "2023-05-24T07:39:48.352057Z",
     "iopub.status.idle": "2023-05-24T07:40:10.129489Z",
     "shell.execute_reply": "2023-05-24T07:40:10.128164Z"
    },
    "papermill": {
     "duration": 21.811892,
     "end_time": "2023-05-24T07:40:10.132358",
     "exception": false,
     "start_time": "2023-05-24T07:39:48.320466",
     "status": "completed"
    },
    "tags": []
   },
   "outputs": [
    {
     "data": {
      "text/plain": [
       "XGBClassifier(base_score=0.5, booster='gbtree', callbacks=None,\n",
       "              colsample_bylevel=1, colsample_bynode=1, colsample_bytree=1,\n",
       "              early_stopping_rounds=None, enable_categorical=False,\n",
       "              eval_metric=None, gamma=3.5712964675328855e-05, gpu_id=-1,\n",
       "              grow_policy='depthwise', importance_type=None,\n",
       "              interaction_constraints='', learning_rate=0.08245844777734937,\n",
       "              max_bin=256, max_cat_to_onehot=4, max_delta_step=0, max_depth=17,\n",
       "              max_leaves=0, min_child_weight=17, missing=nan,\n",
       "              monotone_constraints='()', n_estimators=188, n_jobs=0,\n",
       "              num_parallel_tree=1, predictor='auto', random_state=0,\n",
       "              reg_alpha=0.16634334643800422, reg_lambda=0.010449329514317554, ...)"
      ]
     },
     "execution_count": 42,
     "metadata": {},
     "output_type": "execute_result"
    }
   ],
   "source": [
    "best_params = {'n_estimators': 188,\n",
    " 'max_depth': 17,\n",
    " 'learning_rate': 0.08245844777734937,\n",
    " 'subsample': 0.9,\n",
    " 'reg_alpha': 0.16634334643800422,\n",
    " 'reg_lambda': 0.010449329514317554,\n",
    " 'gamma': 3.5712964675328855e-05,\n",
    " 'min_child_weight': 17}\n",
    "\n",
    "xgbc = XGBClassifier(**best_params)\n",
    "xgbc.fit(X_train, y_train)"
   ]
  },
  {
   "cell_type": "code",
   "execution_count": 43,
   "id": "4eac7e03",
   "metadata": {
    "execution": {
     "iopub.execute_input": "2023-05-24T07:40:10.198169Z",
     "iopub.status.busy": "2023-05-24T07:40:10.197026Z",
     "iopub.status.idle": "2023-05-24T07:40:10.862701Z",
     "shell.execute_reply": "2023-05-24T07:40:10.861304Z"
    },
    "papermill": {
     "duration": 0.702875,
     "end_time": "2023-05-24T07:40:10.866062",
     "exception": false,
     "start_time": "2023-05-24T07:40:10.163187",
     "status": "completed"
    },
    "tags": []
   },
   "outputs": [
    {
     "data": {
      "image/png": "[encoded data removed]",
      "text/plain": [
       "<Figure size 640x480 with 2 Axes>"
      ]
     },
     "metadata": {},
     "output_type": "display_data"
    },
    {
     "name": "stdout",
     "output_type": "stream",
     "text": [
      "Accuracy on test set of the model XGBClassifier: 0.9698\n",
      "Precision on test set of the model XGBClassifier: 0.9721\n",
      "Recall on test set of the model XGBClassifier: 0.9673\n",
      "F1 on test set of the model XGBClassifier: 0.9697\n",
      "AUC on test set of the model XGBClassifier: 0.9698\n",
      "\n",
      "              precision    recall  f1-score   support\n",
      "\n",
      "           0       0.97      0.97      0.97      3006\n",
      "           1       0.97      0.97      0.97      2994\n",
      "\n",
      "    accuracy                           0.97      6000\n",
      "   macro avg       0.97      0.97      0.97      6000\n",
      "weighted avg       0.97      0.97      0.97      6000\n",
      "\n"
     ]
    },
    {
     "data": {
      "image/png": "[encoded data removed]",
      "text/plain": [
       "<Figure size 640x480 with 2 Axes>"
      ]
     },
     "metadata": {},
     "output_type": "display_data"
    },
    {
     "name": "stdout",
     "output_type": "stream",
     "text": [
      "Accuracy on train set of the model XGBClassifier: 0.9948\n",
      "Precision on train set of the model XGBClassifier: 0.9956\n",
      "Recall on train set of the model XGBClassifier: 0.9940\n",
      "F1 on train set of the model XGBClassifier: 0.9948\n",
      "AUC on train set of the model XGBClassifier: 0.9948\n",
      "\n",
      "              precision    recall  f1-score   support\n",
      "\n",
      "           0       0.99      1.00      0.99     12007\n",
      "           1       1.00      0.99      0.99     11993\n",
      "\n",
      "    accuracy                           0.99     24000\n",
      "   macro avg       0.99      0.99      0.99     24000\n",
      "weighted avg       0.99      0.99      0.99     24000\n",
      "\n"
     ]
    }
   ],
   "source": [
    "result = evaluate_model(xgbc, on=\"test\", plot_cmat=True, verbose=True)\n",
    "result = evaluate_model(xgbc, on=\"train\", plot_cmat=True, verbose=True)"
   ]
  },
  {
   "cell_type": "code",
   "execution_count": 44,
   "id": "55550ddd",
   "metadata": {
    "execution": {
     "iopub.execute_input": "2023-05-24T07:40:10.932638Z",
     "iopub.status.busy": "2023-05-24T07:40:10.931762Z",
     "iopub.status.idle": "2023-05-24T07:40:11.071909Z",
     "shell.execute_reply": "2023-05-24T07:40:11.070726Z"
    },
    "papermill": {
     "duration": 0.176793,
     "end_time": "2023-05-24T07:40:11.074919",
     "exception": false,
     "start_time": "2023-05-24T07:40:10.898126",
     "status": "completed"
    },
    "tags": []
   },
   "outputs": [],
   "source": [
    "evaluate_and_save_progress(xgbc, \"XGBoost Final\")"
   ]
  },
  {
   "attachments": {},
   "cell_type": "markdown",
   "id": "1a8e9e9b",
   "metadata": {
    "papermill": {
     "duration": 0.032012,
     "end_time": "2023-05-24T07:40:11.140832",
     "exception": false,
     "start_time": "2023-05-24T07:40:11.108820",
     "status": "completed"
    },
    "tags": []
   },
   "source": [
    "## Catboost"
   ]
  },
  {
   "cell_type": "code",
   "execution_count": 45,
   "id": "f3e4eb51",
   "metadata": {
    "execution": {
     "iopub.execute_input": "2023-05-24T07:40:11.207270Z",
     "iopub.status.busy": "2023-05-24T07:40:11.206793Z",
     "iopub.status.idle": "2023-05-24T07:40:11.218781Z",
     "shell.execute_reply": "2023-05-24T07:40:11.217131Z"
    },
    "papermill": {
     "duration": 0.04841,
     "end_time": "2023-05-24T07:40:11.221988",
     "exception": false,
     "start_time": "2023-05-24T07:40:11.173578",
     "status": "completed"
    },
    "tags": []
   },
   "outputs": [],
   "source": [
    "#create a study for catboost\n",
    "def objective(trial):\n",
    "    #Create an objective for catboost classifier\n",
    "    n_estimators = trial.suggest_int(\"n_estimators\", 100, 200)\n",
    "    max_depth = trial.suggest_int(\"max_depth\", 4, 10, log=True)\n",
    "    learning_rate = trial.suggest_float(\"learning_rate\", 1e-5, 1e-2, log=True)\n",
    "    subsample = trial.suggest_categorical(\"subsample\", [0.8, 0.9, 1.0])\n",
    "    reg_lambda = trial.suggest_float(\"reg_lambda\", 1e-3, 1, log=True)\n",
    "    min_child_samples = trial.suggest_int(\"min_child_samples\", 1, 10)\n",
    "    max_bin = trial.suggest_int(\"max_bin\", 100, 255)\n",
    "\n",
    "    model = CatBoostClassifier(\n",
    "        n_estimators=n_estimators,\n",
    "        max_depth=max_depth,\n",
    "        learning_rate=learning_rate,\n",
    "        subsample=subsample,\n",
    "        reg_lambda=reg_lambda,\n",
    "        min_child_samples=min_child_samples,\n",
    "        max_bin=max_bin,\n",
    "        verbose=0,\n",
    "    )\n",
    "    model.fit(X_train, y_train)\n",
    "    return model.score(X_test, y_test)\n",
    "\n",
    "# create a study object\n",
    "# study = optuna.create_study(direction=\"maximize\", study_name=\"CatBoost\")\n",
    "# # optimize the objective function\n",
    "# study.optimize(objective, n_trials=100, show_progress_bar=True)"
   ]
  },
  {
   "cell_type": "code",
   "execution_count": 46,
   "id": "555991da",
   "metadata": {
    "execution": {
     "iopub.execute_input": "2023-05-24T07:40:11.287340Z",
     "iopub.status.busy": "2023-05-24T07:40:11.286873Z",
     "iopub.status.idle": "2023-05-24T07:40:11.292666Z",
     "shell.execute_reply": "2023-05-24T07:40:11.291055Z"
    },
    "papermill": {
     "duration": 0.041779,
     "end_time": "2023-05-24T07:40:11.295481",
     "exception": false,
     "start_time": "2023-05-24T07:40:11.253702",
     "status": "completed"
    },
    "tags": []
   },
   "outputs": [],
   "source": [
    "# message = create_text_message(study)\n",
    "# print(message)"
   ]
  },
  {
   "attachments": {},
   "cell_type": "markdown",
   "id": "3fb80bdc",
   "metadata": {
    "papermill": {
     "duration": 0.032352,
     "end_time": "2023-05-24T07:40:11.361618",
     "exception": false,
     "start_time": "2023-05-24T07:40:11.329266",
     "status": "completed"
    },
    "tags": []
   },
   "source": [
    "Catboost Best Parameters:\n",
    "```python\n",
    "{'n_estimators': 198,\n",
    " 'max_depth': 10,\n",
    " 'learning_rate': 0.009814179840225703,\n",
    " 'subsample': 0.8,\n",
    " 'reg_lambda': 0.7960086364994374,\n",
    " 'min_child_samples': 3,\n",
    " 'max_bin': 255}\n",
    "```"
   ]
  },
  {
   "cell_type": "code",
   "execution_count": 47,
   "id": "5e94a337",
   "metadata": {
    "execution": {
     "iopub.execute_input": "2023-05-24T07:40:11.428520Z",
     "iopub.status.busy": "2023-05-24T07:40:11.427506Z",
     "iopub.status.idle": "2023-05-24T07:40:11.433398Z",
     "shell.execute_reply": "2023-05-24T07:40:11.431974Z"
    },
    "papermill": {
     "duration": 0.041638,
     "end_time": "2023-05-24T07:40:11.436162",
     "exception": false,
     "start_time": "2023-05-24T07:40:11.394524",
     "status": "completed"
    },
    "tags": []
   },
   "outputs": [],
   "source": [
    "# study.best_params"
   ]
  },
  {
   "cell_type": "code",
   "execution_count": 48,
   "id": "cb5f1e58",
   "metadata": {
    "execution": {
     "iopub.execute_input": "2023-05-24T07:40:11.501843Z",
     "iopub.status.busy": "2023-05-24T07:40:11.501404Z",
     "iopub.status.idle": "2023-05-24T07:40:11.507675Z",
     "shell.execute_reply": "2023-05-24T07:40:11.506370Z"
    },
    "papermill": {
     "duration": 0.042241,
     "end_time": "2023-05-24T07:40:11.510607",
     "exception": false,
     "start_time": "2023-05-24T07:40:11.468366",
     "status": "completed"
    },
    "tags": []
   },
   "outputs": [],
   "source": [
    "best_params = {'n_estimators': 198,\n",
    " 'max_depth': 10,\n",
    " 'learning_rate': 0.009814179840225703,\n",
    " 'subsample': 0.8,\n",
    " 'reg_lambda': 0.7960086364994374,\n",
    " 'min_child_samples': 3,\n",
    " 'max_bin': 255}"
   ]
  },
  {
   "cell_type": "code",
   "execution_count": 49,
   "id": "fe105fcf",
   "metadata": {
    "execution": {
     "iopub.execute_input": "2023-05-24T07:40:11.576483Z",
     "iopub.status.busy": "2023-05-24T07:40:11.576020Z",
     "iopub.status.idle": "2023-05-24T07:40:30.531755Z",
     "shell.execute_reply": "2023-05-24T07:40:30.530208Z"
    },
    "papermill": {
     "duration": 18.992279,
     "end_time": "2023-05-24T07:40:30.534823",
     "exception": false,
     "start_time": "2023-05-24T07:40:11.542544",
     "status": "completed"
    },
    "tags": []
   },
   "outputs": [
    {
     "data": {
      "text/plain": [
       "<catboost.core.CatBoostClassifier at 0x7d9fd13e7550>"
      ]
     },
     "execution_count": 49,
     "metadata": {},
     "output_type": "execute_result"
    }
   ],
   "source": [
    "cbc = CatBoostClassifier(**best_params)\n",
    "cbc.fit(X_train, y_train, verbose = False)"
   ]
  },
  {
   "cell_type": "code",
   "execution_count": 50,
   "id": "d0cbd806",
   "metadata": {
    "execution": {
     "iopub.execute_input": "2023-05-24T07:40:30.601760Z",
     "iopub.status.busy": "2023-05-24T07:40:30.601263Z",
     "iopub.status.idle": "2023-05-24T07:40:31.258686Z",
     "shell.execute_reply": "2023-05-24T07:40:31.257186Z"
    },
    "papermill": {
     "duration": 0.693989,
     "end_time": "2023-05-24T07:40:31.261749",
     "exception": false,
     "start_time": "2023-05-24T07:40:30.567760",
     "status": "completed"
    },
    "tags": []
   },
   "outputs": [
    {
     "data": {
      "image/png": "[encoded data removed]",
      "text/plain": [
       "<Figure size 640x480 with 2 Axes>"
      ]
     },
     "metadata": {},
     "output_type": "display_data"
    },
    {
     "name": "stdout",
     "output_type": "stream",
     "text": [
      "Accuracy on test set of the model CatBoostClassifier: 0.9613\n",
      "Precision on test set of the model CatBoostClassifier: 0.9619\n",
      "Recall on test set of the model CatBoostClassifier: 0.9606\n",
      "F1 on test set of the model CatBoostClassifier: 0.9612\n",
      "AUC on test set of the model CatBoostClassifier: 0.9613\n",
      "\n",
      "              precision    recall  f1-score   support\n",
      "\n",
      "           0       0.96      0.96      0.96      3006\n",
      "           1       0.96      0.96      0.96      2994\n",
      "\n",
      "    accuracy                           0.96      6000\n",
      "   macro avg       0.96      0.96      0.96      6000\n",
      "weighted avg       0.96      0.96      0.96      6000\n",
      "\n"
     ]
    },
    {
     "data": {
      "image/png": "[encoded data removed]",
      "text/plain": [
       "<Figure size 640x480 with 2 Axes>"
      ]
     },
     "metadata": {},
     "output_type": "display_data"
    },
    {
     "name": "stdout",
     "output_type": "stream",
     "text": [
      "Accuracy on train set of the model CatBoostClassifier: 0.9766\n",
      "Precision on train set of the model CatBoostClassifier: 0.9760\n",
      "Recall on train set of the model CatBoostClassifier: 0.9772\n",
      "F1 on train set of the model CatBoostClassifier: 0.9766\n",
      "AUC on train set of the model CatBoostClassifier: 0.9766\n",
      "\n",
      "              precision    recall  f1-score   support\n",
      "\n",
      "           0       0.98      0.98      0.98     12007\n",
      "           1       0.98      0.98      0.98     11993\n",
      "\n",
      "    accuracy                           0.98     24000\n",
      "   macro avg       0.98      0.98      0.98     24000\n",
      "weighted avg       0.98      0.98      0.98     24000\n",
      "\n"
     ]
    }
   ],
   "source": [
    "result = evaluate_model(cbc, on=\"test\", plot_cmat=True, verbose=True)\n",
    "result = evaluate_model(cbc, on=\"train\", plot_cmat=True, verbose=True)"
   ]
  },
  {
   "cell_type": "code",
   "execution_count": 51,
   "id": "136a65a7",
   "metadata": {
    "execution": {
     "iopub.execute_input": "2023-05-24T07:40:31.331876Z",
     "iopub.status.busy": "2023-05-24T07:40:31.331399Z",
     "iopub.status.idle": "2023-05-24T07:40:31.404134Z",
     "shell.execute_reply": "2023-05-24T07:40:31.402681Z"
    },
    "papermill": {
     "duration": 0.111879,
     "end_time": "2023-05-24T07:40:31.407555",
     "exception": false,
     "start_time": "2023-05-24T07:40:31.295676",
     "status": "completed"
    },
    "tags": []
   },
   "outputs": [],
   "source": [
    "evaluate_and_save_progress(cbc, \"Catboost Final\")"
   ]
  }
 ],
 "metadata": {
  "kernelspec": {
   "display_name": "Python 3",
   "language": "python",
   "name": "python3"
  },
  "language_info": {
   "codemirror_mode": {
    "name": "ipython",
    "version": 3
   },
   "file_extension": ".py",
   "mimetype": "text/x-python",
   "name": "python",
   "nbconvert_exporter": "python",
   "pygments_lexer": "ipython3",
   "version": "3.7.12"
  },
  "papermill": {
   "default_parameters": {},
   "duration": 252.995629,
   "end_time": "2023-05-24T07:40:32.467009",
   "environment_variables": {},
   "exception": null,
   "input_path": "__notebook__.ipynb",
   "output_path": "__notebook__.ipynb",
   "parameters": {},
   "start_time": "2023-05-24T07:36:19.471380",
   "version": "2.4.0"
  }
 },
 "nbformat": 4,
 "nbformat_minor": 5
}

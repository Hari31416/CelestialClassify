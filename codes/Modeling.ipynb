{
 "cells": [
  {
   "attachments": {},
   "cell_type": "markdown",
   "metadata": {},
   "source": [
    "# Imports"
   ]
  },
  {
   "cell_type": "code",
   "execution_count": 101,
   "metadata": {},
   "outputs": [],
   "source": [
    "import pandas as pd\n",
    "import numpy as np\n",
    "import matplotlib.pyplot as plt\n",
    "import seaborn as sns\n",
    "from tqdm import tqdm\n",
    "from twilio.rest import Client\n",
    "from decouple import config\n",
    "import datetime\n",
    "import optuna\n",
    "\n",
    "from sklearn.preprocessing import StandardScaler\n",
    "from sklearn.pipeline import Pipeline\n",
    "from sklearn.model_selection import train_test_split\n",
    "from sklearn.metrics import (\n",
    "    accuracy_score,\n",
    "    confusion_matrix,\n",
    "    classification_report,\n",
    "    ConfusionMatrixDisplay,\n",
    "    roc_auc_score,\n",
    ")\n",
    "\n",
    "from sklearn.linear_model import LogisticRegression\n",
    "from sklearn.tree import DecisionTreeClassifier\n",
    "from sklearn.ensemble import RandomForestClassifier,  AdaBoostClassifier\n",
    "from sklearn.svm import SVC\n",
    "from xgboost import XGBClassifier\n",
    "from catboost import CatBoostClassifier\n",
    "\n",
    "sns.set_style(\"whitegrid\")\n",
    "sns.set_context(\"notebook\")"
   ]
  },
  {
   "attachments": {},
   "cell_type": "markdown",
   "metadata": {},
   "source": [
    "# Preprocessing"
   ]
  },
  {
   "attachments": {},
   "cell_type": "markdown",
   "metadata": {},
   "source": [
    "## Loading Data"
   ]
  },
  {
   "attachments": {},
   "cell_type": "markdown",
   "metadata": {},
   "source": [
    "Let's start by loading the data."
   ]
  },
  {
   "cell_type": "code",
   "execution_count": 57,
   "metadata": {},
   "outputs": [
    {
     "name": "stdout",
     "output_type": "stream",
     "text": [
      "(30000, 47)\n"
     ]
    },
    {
     "data": {
      "text/html": [
       "<div>\n",
       "<style scoped>\n",
       "    .dataframe tbody tr th:only-of-type {\n",
       "        vertical-align: middle;\n",
       "    }\n",
       "\n",
       "    .dataframe tbody tr th {\n",
       "        vertical-align: top;\n",
       "    }\n",
       "\n",
       "    .dataframe thead th {\n",
       "        text-align: right;\n",
       "    }\n",
       "</style>\n",
       "<table border=\"1\" class=\"dataframe\">\n",
       "  <thead>\n",
       "    <tr style=\"text-align: right;\">\n",
       "      <th></th>\n",
       "      <th>type</th>\n",
       "      <th>rowv</th>\n",
       "      <th>colv</th>\n",
       "      <th>u</th>\n",
       "      <th>g</th>\n",
       "      <th>r</th>\n",
       "      <th>i</th>\n",
       "      <th>z</th>\n",
       "      <th>psfMag_u</th>\n",
       "      <th>psfMag_g</th>\n",
       "      <th>...</th>\n",
       "      <th>u_z</th>\n",
       "      <th>expAB_u</th>\n",
       "      <th>expAB_g</th>\n",
       "      <th>expAB_r</th>\n",
       "      <th>expAB_i</th>\n",
       "      <th>expAB_z</th>\n",
       "      <th>ra</th>\n",
       "      <th>dec</th>\n",
       "      <th>b</th>\n",
       "      <th>l</th>\n",
       "    </tr>\n",
       "  </thead>\n",
       "  <tbody>\n",
       "    <tr>\n",
       "      <th>0</th>\n",
       "      <td>0</td>\n",
       "      <td>0.000025</td>\n",
       "      <td>0.000899</td>\n",
       "      <td>21.09567</td>\n",
       "      <td>19.49611</td>\n",
       "      <td>18.65078</td>\n",
       "      <td>18.23999</td>\n",
       "      <td>17.98051</td>\n",
       "      <td>21.06064</td>\n",
       "      <td>19.48528</td>\n",
       "      <td>...</td>\n",
       "      <td>-0.004557</td>\n",
       "      <td>0.166167</td>\n",
       "      <td>0.675803</td>\n",
       "      <td>0.835346</td>\n",
       "      <td>0.999821</td>\n",
       "      <td>0.665882</td>\n",
       "      <td>100.913333</td>\n",
       "      <td>0.156187</td>\n",
       "      <td>-1.660678</td>\n",
       "      <td>211.905236</td>\n",
       "    </tr>\n",
       "    <tr>\n",
       "      <th>1</th>\n",
       "      <td>0</td>\n",
       "      <td>-0.008856</td>\n",
       "      <td>-0.003417</td>\n",
       "      <td>24.76185</td>\n",
       "      <td>21.03924</td>\n",
       "      <td>20.14862</td>\n",
       "      <td>19.87783</td>\n",
       "      <td>19.64817</td>\n",
       "      <td>24.66305</td>\n",
       "      <td>21.02927</td>\n",
       "      <td>...</td>\n",
       "      <td>-0.037864</td>\n",
       "      <td>0.334603</td>\n",
       "      <td>0.238365</td>\n",
       "      <td>0.627718</td>\n",
       "      <td>0.134692</td>\n",
       "      <td>0.085135</td>\n",
       "      <td>109.239909</td>\n",
       "      <td>1.273328</td>\n",
       "      <td>6.258424</td>\n",
       "      <td>214.712360</td>\n",
       "    </tr>\n",
       "    <tr>\n",
       "      <th>2</th>\n",
       "      <td>0</td>\n",
       "      <td>0.003954</td>\n",
       "      <td>-0.013018</td>\n",
       "      <td>24.75426</td>\n",
       "      <td>22.89556</td>\n",
       "      <td>21.84817</td>\n",
       "      <td>21.38259</td>\n",
       "      <td>20.73028</td>\n",
       "      <td>24.46735</td>\n",
       "      <td>22.90692</td>\n",
       "      <td>...</td>\n",
       "      <td>-0.428419</td>\n",
       "      <td>0.203522</td>\n",
       "      <td>0.090585</td>\n",
       "      <td>0.050960</td>\n",
       "      <td>0.050000</td>\n",
       "      <td>0.064225</td>\n",
       "      <td>94.713043</td>\n",
       "      <td>0.846233</td>\n",
       "      <td>-6.855484</td>\n",
       "      <td>208.440433</td>\n",
       "    </tr>\n",
       "    <tr>\n",
       "      <th>3</th>\n",
       "      <td>1</td>\n",
       "      <td>0.006517</td>\n",
       "      <td>0.021139</td>\n",
       "      <td>22.64490</td>\n",
       "      <td>22.19313</td>\n",
       "      <td>21.21620</td>\n",
       "      <td>20.76132</td>\n",
       "      <td>20.89511</td>\n",
       "      <td>23.22920</td>\n",
       "      <td>22.80916</td>\n",
       "      <td>...</td>\n",
       "      <td>-1.144998</td>\n",
       "      <td>0.183922</td>\n",
       "      <td>0.050000</td>\n",
       "      <td>0.782713</td>\n",
       "      <td>0.130607</td>\n",
       "      <td>0.050000</td>\n",
       "      <td>126.388426</td>\n",
       "      <td>0.233304</td>\n",
       "      <td>20.925171</td>\n",
       "      <td>223.943496</td>\n",
       "    </tr>\n",
       "    <tr>\n",
       "      <th>4</th>\n",
       "      <td>1</td>\n",
       "      <td>-0.059970</td>\n",
       "      <td>0.006513</td>\n",
       "      <td>21.40245</td>\n",
       "      <td>21.12101</td>\n",
       "      <td>20.58717</td>\n",
       "      <td>20.51851</td>\n",
       "      <td>20.43726</td>\n",
       "      <td>22.48758</td>\n",
       "      <td>22.01874</td>\n",
       "      <td>...</td>\n",
       "      <td>-0.386901</td>\n",
       "      <td>0.200003</td>\n",
       "      <td>0.641636</td>\n",
       "      <td>0.502803</td>\n",
       "      <td>0.405457</td>\n",
       "      <td>0.267841</td>\n",
       "      <td>63.876779</td>\n",
       "      <td>-6.201664</td>\n",
       "      <td>-37.290818</td>\n",
       "      <td>199.186782</td>\n",
       "    </tr>\n",
       "  </tbody>\n",
       "</table>\n",
       "<p>5 rows × 47 columns</p>\n",
       "</div>"
      ],
      "text/plain": [
       "   type      rowv      colv         u         g         r         i         z  \\\n",
       "0     0  0.000025  0.000899  21.09567  19.49611  18.65078  18.23999  17.98051   \n",
       "1     0 -0.008856 -0.003417  24.76185  21.03924  20.14862  19.87783  19.64817   \n",
       "2     0  0.003954 -0.013018  24.75426  22.89556  21.84817  21.38259  20.73028   \n",
       "3     1  0.006517  0.021139  22.64490  22.19313  21.21620  20.76132  20.89511   \n",
       "4     1 -0.059970  0.006513  21.40245  21.12101  20.58717  20.51851  20.43726   \n",
       "\n",
       "   psfMag_u  psfMag_g  ...       u_z   expAB_u   expAB_g   expAB_r   expAB_i  \\\n",
       "0  21.06064  19.48528  ... -0.004557  0.166167  0.675803  0.835346  0.999821   \n",
       "1  24.66305  21.02927  ... -0.037864  0.334603  0.238365  0.627718  0.134692   \n",
       "2  24.46735  22.90692  ... -0.428419  0.203522  0.090585  0.050960  0.050000   \n",
       "3  23.22920  22.80916  ... -1.144998  0.183922  0.050000  0.782713  0.130607   \n",
       "4  22.48758  22.01874  ... -0.386901  0.200003  0.641636  0.502803  0.405457   \n",
       "\n",
       "    expAB_z          ra       dec          b           l  \n",
       "0  0.665882  100.913333  0.156187  -1.660678  211.905236  \n",
       "1  0.085135  109.239909  1.273328   6.258424  214.712360  \n",
       "2  0.064225   94.713043  0.846233  -6.855484  208.440433  \n",
       "3  0.050000  126.388426  0.233304  20.925171  223.943496  \n",
       "4  0.267841   63.876779 -6.201664 -37.290818  199.186782  \n",
       "\n",
       "[5 rows x 47 columns]"
      ]
     },
     "execution_count": 57,
     "metadata": {},
     "output_type": "execute_result"
    }
   ],
   "source": [
    "sample = pd.read_csv(\"sample.csv\")\n",
    "print(sample.shape)\n",
    "sample.head()"
   ]
  },
  {
   "attachments": {},
   "cell_type": "markdown",
   "metadata": {},
   "source": [
    "## The Velocity Columns"
   ]
  },
  {
   "cell_type": "code",
   "execution_count": 58,
   "metadata": {},
   "outputs": [
    {
     "data": {
      "text/plain": [
       "count    30000.000000\n",
       "mean        -0.666290\n",
       "std         81.640146\n",
       "min      -9999.000000\n",
       "25%         -0.004513\n",
       "50%          0.000000\n",
       "75%          0.005017\n",
       "max          2.058873\n",
       "Name: rowv, dtype: float64"
      ]
     },
     "execution_count": 58,
     "metadata": {},
     "output_type": "execute_result"
    }
   ],
   "source": [
    "sample[\"rowv\"].describe()"
   ]
  },
  {
   "attachments": {},
   "cell_type": "markdown",
   "metadata": {},
   "source": [
    "We need to chage the not known values which are set to -9999 to the mean of the column."
   ]
  },
  {
   "cell_type": "code",
   "execution_count": 59,
   "metadata": {},
   "outputs": [
    {
     "name": "stdout",
     "output_type": "stream",
     "text": [
      "0\n",
      "0\n"
     ]
    }
   ],
   "source": [
    "sample[\"rowv\"].replace(-9999, np.nan, inplace=True)\n",
    "sample[\"rowv\"].fillna(sample[\"rowv\"].mean(), inplace=True)\n",
    "print(sample[\"rowv\"].isnull().sum())\n",
    "\n",
    "sample[\"colv\"].replace(-9999, np.nan, inplace=True)\n",
    "sample[\"colv\"].fillna(sample[\"colv\"].mean(), inplace=True)\n",
    "print(sample[\"colv\"].isnull().sum())"
   ]
  },
  {
   "cell_type": "code",
   "execution_count": 60,
   "metadata": {},
   "outputs": [
    {
     "data": {
      "text/plain": [
       "count    30000.000000\n",
       "mean         0.000310\n",
       "std          0.041897\n",
       "min         -2.139171\n",
       "25%         -0.004510\n",
       "50%          0.000000\n",
       "75%          0.005017\n",
       "max          2.058873\n",
       "Name: rowv, dtype: float64"
      ]
     },
     "execution_count": 60,
     "metadata": {},
     "output_type": "execute_result"
    }
   ],
   "source": [
    "sample[\"rowv\"].describe()"
   ]
  },
  {
   "attachments": {},
   "cell_type": "markdown",
   "metadata": {},
   "source": [
    "## Scaling and Splitting"
   ]
  },
  {
   "attachments": {},
   "cell_type": "markdown",
   "metadata": {},
   "source": [
    "We will scale and split the data."
   ]
  },
  {
   "cell_type": "code",
   "execution_count": 61,
   "metadata": {},
   "outputs": [],
   "source": [
    "X = sample.drop(\"type\", axis=1)\n",
    "y = sample[\"type\"]\n",
    "\n",
    "X_train, X_test, y_train, y_test = train_test_split(X, y, test_size=0.2, random_state=42)"
   ]
  },
  {
   "cell_type": "code",
   "execution_count": 62,
   "metadata": {},
   "outputs": [],
   "source": [
    "scalar = StandardScaler()\n",
    "\n",
    "X_train = scalar.fit_transform(X_train)\n",
    "X_test = scalar.transform(X_test)"
   ]
  },
  {
   "attachments": {},
   "cell_type": "markdown",
   "metadata": {},
   "source": [
    "Great! Now we have our data ready for our model!"
   ]
  },
  {
   "attachments": {},
   "cell_type": "markdown",
   "metadata": {},
   "source": [
    "## Some Functions"
   ]
  },
  {
   "attachments": {},
   "cell_type": "markdown",
   "metadata": {},
   "source": [
    "Before starting to build our model, we will define some functions that will help us to evaluate our model and track the progress."
   ]
  },
  {
   "cell_type": "code",
   "execution_count": 63,
   "metadata": {},
   "outputs": [],
   "source": [
    "TRAIN_RESULT_CSV_NAME = \"train_results.csv\"\n",
    "TEST_RESULT_CSV_NAME = \"test_results.csv\""
   ]
  },
  {
   "cell_type": "code",
   "execution_count": 64,
   "metadata": {},
   "outputs": [],
   "source": [
    "def cm_to_metrics(cm):\n",
    "    \"\"\"Calculate accuracy, precision, recall and f1 score from confusion matrix.\n",
    "    \n",
    "    Parameters\n",
    "    ----------\n",
    "    cm : array-like\n",
    "        Confusion matrix.\n",
    "    \n",
    "    Returns\n",
    "    -------\n",
    "    accuracy : float\n",
    "        Accuracy score.\n",
    "    precision : float\n",
    "        Precision score.\n",
    "    recall : float\n",
    "        Recall score.\n",
    "    f1 : float\n",
    "        F1 score.\n",
    "    \"\"\"\n",
    "    tn, fp, fn, tp = cm.ravel()\n",
    "    accuracy = (tp + tn) / (tp + tn + fp + fn)\n",
    "    precision = tp / (tp + fp)\n",
    "    recall = tp / (tp + fn)\n",
    "    f1 = 2 * (precision * recall) / (precision + recall)\n",
    "    return accuracy, precision, recall, f1"
   ]
  },
  {
   "cell_type": "code",
   "execution_count": 65,
   "metadata": {},
   "outputs": [],
   "source": [
    "def evaluate_model(\n",
    "    model,\n",
    "    on=\"train\",\n",
    "    plot_cmat=False,\n",
    "    verbose=True,\n",
    "):\n",
    "    \"\"\"\n",
    "    This function evaluates a model and returns the metrics.\n",
    "    It can be used to evaluate the model on the training set or the test set.\n",
    "    It can also plot the confusion matrix.\n",
    "    Parameters\n",
    "    ----------\n",
    "    model : object\n",
    "        The model to be evaluated.\n",
    "    on : str, optional\n",
    "        The set on which the model will be evaluated. The default is \"train\".\n",
    "    plot_cmat : bool, optional\n",
    "        Whether to plot the confusion matrix. The default is False.\n",
    "    verbose : bool, optional\n",
    "        Whether to print the metrics. The default is True.\n",
    "\n",
    "    Returns\n",
    "    -------\n",
    "    result : dict\n",
    "        A dictionary with the metrics.\n",
    "    \n",
    "    Example\n",
    "    -------\n",
    "    >>> result = evaluate_model(model)\n",
    "    >>> print(result)\n",
    "    {'accuracy': 0.8, 'precision': 0.8, 'recall': 0.8, 'f1': 0.8, 'auc': 0.8}\n",
    "    \n",
    "    >>> result = evaluate_model(model, on=\"test\")\n",
    "    >>> print(result)\n",
    "    {'accuracy': 0.8, 'precision': 0.8, 'recall': 0.8, 'f1': 0.8, 'auc': 0.8}\n",
    "    \n",
    "    >>> result = evaluate_model(model, plot_cmat=True)\n",
    "    >>> print(result)\n",
    "    {'accuracy': 0.8, 'precision': 0.8, 'recall': 0.8, 'f1': 0.8, 'auc': 0.8}\n",
    "    \n",
    "    >>> result = evaluate_model(model, on=\"test\", plot_cmat=True)\n",
    "    >>> print(result)\n",
    "    {'accuracy': 0.8, 'precision': 0.8, 'recall': 0.8, 'f1': 0.8, 'auc': 0.8}\n",
    "    \"\"\"\n",
    "    if on == \"train\":\n",
    "        X = X_train\n",
    "        y = y_train\n",
    "    else:\n",
    "        X = X_test\n",
    "        y = y_test\n",
    "    y_pred = model.predict(X)\n",
    "    cm = confusion_matrix(y, y_pred)\n",
    "    accuracy, precision, recall, f1 = cm_to_metrics(cm)\n",
    "    auc_score = roc_auc_score(y, y_pred)\n",
    "\n",
    "    if plot_cmat:\n",
    "        disp = ConfusionMatrixDisplay(\n",
    "            confusion_matrix=cm, display_labels=[\"star\", \"galaxy\"]\n",
    "        )\n",
    "        disp.plot()\n",
    "        plt.show()\n",
    "    if verbose:\n",
    "        try:\n",
    "            model_name = model.__class__.__name__\n",
    "        except:\n",
    "            model_name = \"\"\n",
    "        print(f\"Accuracy on {on} set of the model {model_name}: {accuracy:.4f}\")\n",
    "        print(f\"Precision on {on} set of the model {model_name}: {precision:.4f}\")\n",
    "        print(f\"Recall on {on} set of the model {model_name}: {recall:.4f}\")\n",
    "        print(f\"F1 on {on} set of the model {model_name}: {f1:.4f}\")\n",
    "        print(f\"AUC on {on} set of the model {model_name}: {auc_score:.4f}\\n\")\n",
    "        cr = classification_report(y, y_pred)\n",
    "        print(cr)\n",
    "    result = {\n",
    "        \"accuracy\": accuracy,\n",
    "        \"precision\": precision,\n",
    "        \"recall\": recall,\n",
    "        \"f1\": f1,\n",
    "        \"auc\": auc_score,\n",
    "    }\n",
    "    return result"
   ]
  },
  {
   "cell_type": "code",
   "execution_count": 66,
   "metadata": {},
   "outputs": [],
   "source": [
    "def dictionary_to_series(dictionary, name):\n",
    "    \"\"\"Convert dictionary to pandas series.\n",
    "    \n",
    "    Parameters\n",
    "    ----------\n",
    "    dictionary : dict\n",
    "        Dictionary to convert.\n",
    "    name : str\n",
    "        Name of the series.\n",
    "    \n",
    "    Returns\n",
    "    -------\n",
    "    series : pandas.Series\n",
    "        Series with the dictionary values.\n",
    "    \"\"\"\n",
    "    dictionary[\"model\"] = name\n",
    "    series = pd.Series(dictionary)\n",
    "    return series"
   ]
  },
  {
   "cell_type": "code",
   "execution_count": 67,
   "metadata": {},
   "outputs": [],
   "source": [
    "def load_and_update_result(result, filename, name, save=False):\n",
    "    \"\"\"\n",
    "    Load a result from a file and update it with the new result.\n",
    "    \n",
    "    Parameters\n",
    "    ----------\n",
    "    result : dict\n",
    "        The result to be added to the file.\n",
    "    filename : str\n",
    "        The name of the file to be updated.\n",
    "    name : str\n",
    "        The name of the result.\n",
    "    save : bool\n",
    "        Whether to save the file after updating.\n",
    "    \n",
    "    Returns\n",
    "    -------\n",
    "    df : pandas.DataFrame\n",
    "        The updated file.\n",
    "    \n",
    "    Examples\n",
    "    --------\n",
    "    >>> load_and_update_result(result, filename, name)\n",
    "    \"\"\"\n",
    "\n",
    "    df = pd.read_csv(filename)\n",
    "    if name in df[\"model\"].values:\n",
    "        print(f\"Model {name} already exists in the file {filename}.\")\n",
    "        return None\n",
    "    result_series = dictionary_to_series(result, name)\n",
    "    result_df = pd.DataFrame(result_series).T\n",
    "    df = pd.concat([df, result_df], axis=0)\n",
    "    if save:\n",
    "        df.to_csv(filename, index=False)\n",
    "        return None\n",
    "    return df"
   ]
  },
  {
   "cell_type": "code",
   "execution_count": 68,
   "metadata": {},
   "outputs": [],
   "source": [
    "def evaluate_and_save_progress(model, name):\n",
    "    \"\"\"Evaluate model on train and test set and save the results in a csv file.\n",
    "\n",
    "    Parameters\n",
    "    ----------\n",
    "    model : sklearn model\n",
    "        Model to evaluate.\n",
    "    name : str\n",
    "        Name of the model.\n",
    "\n",
    "    Returns\n",
    "    -------\n",
    "    None.\n",
    "\n",
    "    Example\n",
    "    -------\n",
    "    >>> evaluate_and_save_progress(model, \"model_name\")\n",
    "    \"\"\"\n",
    "    train_results = evaluate_model(model, on=\"train\", plot_cmat=False, verbose=False)\n",
    "    test_results = evaluate_model(model, on=\"test\", plot_cmat=False, verbose=False)\n",
    "    load_and_update_result(\n",
    "        train_results,\n",
    "        TRAIN_RESULT_CSV_NAME,\n",
    "        name,\n",
    "        save=True,\n",
    "    )\n",
    "    load_and_update_result(\n",
    "        test_results,\n",
    "        TEST_RESULT_CSV_NAME,\n",
    "        name,\n",
    "        save=True,\n",
    "    )"
   ]
  },
  {
   "cell_type": "code",
   "execution_count": 72,
   "metadata": {},
   "outputs": [],
   "source": [
    "def init_whatsapp_text():\n",
    "    \"\"\"\n",
    "    If the function `send_whatsapp_text` does not work, this\\\\\n",
    "    function can be used to initialize Whatsapp sandbox by Twillio.\n",
    "    We need to send a reply to the message send by this function.\n",
    "\n",
    "    Parameters\n",
    "    ----------\n",
    "    None\n",
    "\n",
    "    Returns\n",
    "    -------\n",
    "    None\n",
    "    \"\"\"\n",
    "    account_sid = config(\"TWILIO_ACCOUNT_SID\")\n",
    "    auth_token = config(\"TWILIO_AUTH_TOKEN\")\n",
    "    client = Client(account_sid, auth_token)\n",
    "\n",
    "    message = client.messages.create(\n",
    "        from_=f\"whatsapp:+14155238886\",\n",
    "        body=f\"Your appointment is coming up on {datetime.date.today().strftime('%d-%m-%Y')}\",\n",
    "        to=\"whatsapp:+919838422934\",\n",
    "    )\n",
    "    print(message.sid)"
   ]
  },
  {
   "cell_type": "code",
   "execution_count": 87,
   "metadata": {},
   "outputs": [],
   "source": [
    "def send_whatsapp_text(message, media=None):\n",
    "    \"\"\"\n",
    "    This function sends a text message.\n",
    "\n",
    "    Parameters\n",
    "    ----------\n",
    "    message : str\n",
    "        The message to be sent.\n",
    "\n",
    "    media : str, optional\n",
    "        The media to be sent. The default is None.\n",
    "\n",
    "    Returns\n",
    "    -------\n",
    "    None\n",
    "    \"\"\"\n",
    "    account_sid = config(\"TWILIO_ACCOUNT_SID\")\n",
    "    auth_token = config(\"TWILIO_AUTH_TOKEN\")\n",
    "    client = Client(account_sid, auth_token)\n",
    "\n",
    "    message = client.messages.create(\n",
    "        from_=f\"whatsapp:+14155238886\",\n",
    "        body=message,\n",
    "        media_url=media,\n",
    "        to=\"whatsapp:+919838422934\",\n",
    "    )\n",
    "    print(message.sid)\n",
    "    return message"
   ]
  },
  {
   "cell_type": "code",
   "execution_count": 89,
   "metadata": {},
   "outputs": [],
   "source": [
    "# init_whatsapp_text()"
   ]
  },
  {
   "cell_type": "code",
   "execution_count": 90,
   "metadata": {},
   "outputs": [
    {
     "name": "stdout",
     "output_type": "stream",
     "text": [
      "MMa40c5f16db2b10fbc2c90a7aea0f9cf3\n"
     ]
    }
   ],
   "source": [
    "message = f\"Hello There! Today is {datetime.date.today().strftime('%d-%m-%Y')}\"\n",
    "media = \"https://upload.wikimedia.org/wikipedia/commons/thumb/e/ea/Van_Gogh_-_Starry_Night_-_Google_Art_Project.jpg/1200px-Van_Gogh_-_Starry_Night_-_Google_Art_Project.jpg\"\n",
    "m = send_whatsapp_text(message, media)"
   ]
  },
  {
   "cell_type": "code",
   "execution_count": 48,
   "metadata": {},
   "outputs": [],
   "source": [
    "def send_text(message, media=None):\n",
    "    \"\"\"\n",
    "    This function sends a text message.\n",
    "\n",
    "    Parameters\n",
    "    ----------\n",
    "    message : str\n",
    "        The message to be sent.\n",
    "\n",
    "    media : str, optional\n",
    "        The media to be sent. The default is None.\n",
    "\n",
    "    Returns\n",
    "    -------\n",
    "    None\n",
    "    \"\"\"\n",
    "    account_sid = config(\"TWILIO_ACCOUNT_SID\")\n",
    "    auth_token = config(\"TWILIO_AUTH_TOKEN\")\n",
    "    number = config(\"TWILIO_NUMBER\")\n",
    "    client = Client(account_sid, auth_token)\n",
    "\n",
    "    message = client.messages.create(\n",
    "        body=message, media_url=media, from_=number, to=\"+919838422934\"\n",
    "    )\n",
    "    print(message.sid)"
   ]
  },
  {
   "cell_type": "code",
   "execution_count": 92,
   "metadata": {},
   "outputs": [],
   "source": [
    "# message = f\"Hello There! Today is {datetime.date.today().strftime('%d-%m-%Y')}\"\n",
    "# media = \"https://upload.wikimedia.org/wikipedia/commons/thumb/e/ea/Van_Gogh_-_Starry_Night_-_Google_Art_Project.jpg/1200px-Van_Gogh_-_Starry_Night_-_Google_Art_Project.jpg\"\n",
    "# send_text(message, media)"
   ]
  },
  {
   "attachments": {},
   "cell_type": "markdown",
   "metadata": {},
   "source": [
    "# Models"
   ]
  },
  {
   "attachments": {},
   "cell_type": "markdown",
   "metadata": {},
   "source": [
    "## Baseline"
   ]
  },
  {
   "attachments": {},
   "cell_type": "markdown",
   "metadata": {},
   "source": [
    "The baseline used for the experiments will be a simple linear regression model. The model will be trained on the training set and evaluated on the test set. The model will be trained using the following features:"
   ]
  },
  {
   "cell_type": "code",
   "execution_count": 14,
   "metadata": {},
   "outputs": [
    {
     "name": "stdout",
     "output_type": "stream",
     "text": [
      "Train accuracy: 0.9418\n",
      "Test accuracy: 0.9390\n"
     ]
    }
   ],
   "source": [
    "lr = LogisticRegression(max_iter=1000)\n",
    "\n",
    "lr.fit(X_train, y_train)\n",
    "train_acc = lr.score(X_train, y_train)\n",
    "test_acc = lr.score(X_test, y_test)\n",
    "\n",
    "print(f\"Train accuracy: {train_acc:.4f}\")\n",
    "print(f\"Test accuracy: {test_acc:.4f}\")"
   ]
  },
  {
   "cell_type": "code",
   "execution_count": 15,
   "metadata": {},
   "outputs": [
    {
     "data": {
      "image/png": "[encoded data removed]",
      "text/plain": [
       "<Figure size 640x480 with 2 Axes>"
      ]
     },
     "metadata": {},
     "output_type": "display_data"
    },
    {
     "name": "stdout",
     "output_type": "stream",
     "text": [
      "Accuracy on train set of the model LogisticRegression: 0.9418\n",
      "Precision on train set of the model LogisticRegression: 0.9485\n",
      "Recall on train set of the model LogisticRegression: 0.9342\n",
      "F1 on train set of the model LogisticRegression: 0.9413\n",
      "AUC on train set of the model LogisticRegression: 0.9418\n",
      "\n",
      "              precision    recall  f1-score   support\n",
      "\n",
      "           0       0.94      0.95      0.94     12007\n",
      "           1       0.95      0.93      0.94     11993\n",
      "\n",
      "    accuracy                           0.94     24000\n",
      "   macro avg       0.94      0.94      0.94     24000\n",
      "weighted avg       0.94      0.94      0.94     24000\n",
      "\n"
     ]
    }
   ],
   "source": [
    "result = evaluate_model(lr, on=\"train\", plot_cmat=True, verbose=True)"
   ]
  },
  {
   "cell_type": "code",
   "execution_count": 16,
   "metadata": {},
   "outputs": [
    {
     "data": {
      "image/png": "[encoded data removed]",
      "text/plain": [
       "<Figure size 640x480 with 2 Axes>"
      ]
     },
     "metadata": {},
     "output_type": "display_data"
    },
    {
     "name": "stdout",
     "output_type": "stream",
     "text": [
      "Accuracy on test set of the model LogisticRegression: 0.9390\n",
      "Precision on test set of the model LogisticRegression: 0.9500\n",
      "Recall on test set of the model LogisticRegression: 0.9265\n",
      "F1 on test set of the model LogisticRegression: 0.9381\n",
      "AUC on test set of the model LogisticRegression: 0.9390\n",
      "\n",
      "              precision    recall  f1-score   support\n",
      "\n",
      "           0       0.93      0.95      0.94      3006\n",
      "           1       0.95      0.93      0.94      2994\n",
      "\n",
      "    accuracy                           0.94      6000\n",
      "   macro avg       0.94      0.94      0.94      6000\n",
      "weighted avg       0.94      0.94      0.94      6000\n",
      "\n"
     ]
    }
   ],
   "source": [
    "result = evaluate_model(lr, on=\"test\", plot_cmat=True, verbose=True)"
   ]
  },
  {
   "cell_type": "code",
   "execution_count": 17,
   "metadata": {},
   "outputs": [
    {
     "name": "stdout",
     "output_type": "stream",
     "text": [
      "Model Logistic Regression already exists in the file train_results.csv.\n",
      "Model Logistic Regression already exists in the file test_results.csv.\n"
     ]
    }
   ],
   "source": [
    "evaluate_and_save_progress(lr, \"Logistic Regression\")"
   ]
  },
  {
   "attachments": {},
   "cell_type": "markdown",
   "metadata": {},
   "source": [
    "## SVC"
   ]
  },
  {
   "cell_type": "code",
   "execution_count": 97,
   "metadata": {},
   "outputs": [
    {
     "data": {
      "text/html": [
       "<style>#sk-container-id-2 {color: black;background-color: white;}#sk-container-id-2 pre{padding: 0;}#sk-container-id-2 div.sk-toggleable {background-color: white;}#sk-container-id-2 label.sk-toggleable__label {cursor: pointer;display: block;width: 100%;margin-bottom: 0;padding: 0.3em;box-sizing: border-box;text-align: center;}#sk-container-id-2 label.sk-toggleable__label-arrow:before {content: \"▸\";float: left;margin-right: 0.25em;color: #696969;}#sk-container-id-2 label.sk-toggleable__label-arrow:hover:before {color: black;}#sk-container-id-2 div.sk-estimator:hover label.sk-toggleable__label-arrow:before {color: black;}#sk-container-id-2 div.sk-toggleable__content {max-height: 0;max-width: 0;overflow: hidden;text-align: left;background-color: #f0f8ff;}#sk-container-id-2 div.sk-toggleable__content pre {margin: 0.2em;color: black;border-radius: 0.25em;background-color: #f0f8ff;}#sk-container-id-2 input.sk-toggleable__control:checked~div.sk-toggleable__content {max-height: 200px;max-width: 100%;overflow: auto;}#sk-container-id-2 input.sk-toggleable__control:checked~label.sk-toggleable__label-arrow:before {content: \"▾\";}#sk-container-id-2 div.sk-estimator input.sk-toggleable__control:checked~label.sk-toggleable__label {background-color: #d4ebff;}#sk-container-id-2 div.sk-label input.sk-toggleable__control:checked~label.sk-toggleable__label {background-color: #d4ebff;}#sk-container-id-2 input.sk-hidden--visually {border: 0;clip: rect(1px 1px 1px 1px);clip: rect(1px, 1px, 1px, 1px);height: 1px;margin: -1px;overflow: hidden;padding: 0;position: absolute;width: 1px;}#sk-container-id-2 div.sk-estimator {font-family: monospace;background-color: #f0f8ff;border: 1px dotted black;border-radius: 0.25em;box-sizing: border-box;margin-bottom: 0.5em;}#sk-container-id-2 div.sk-estimator:hover {background-color: #d4ebff;}#sk-container-id-2 div.sk-parallel-item::after {content: \"\";width: 100%;border-bottom: 1px solid gray;flex-grow: 1;}#sk-container-id-2 div.sk-label:hover label.sk-toggleable__label {background-color: #d4ebff;}#sk-container-id-2 div.sk-serial::before {content: \"\";position: absolute;border-left: 1px solid gray;box-sizing: border-box;top: 0;bottom: 0;left: 50%;z-index: 0;}#sk-container-id-2 div.sk-serial {display: flex;flex-direction: column;align-items: center;background-color: white;padding-right: 0.2em;padding-left: 0.2em;position: relative;}#sk-container-id-2 div.sk-item {position: relative;z-index: 1;}#sk-container-id-2 div.sk-parallel {display: flex;align-items: stretch;justify-content: center;background-color: white;position: relative;}#sk-container-id-2 div.sk-item::before, #sk-container-id-2 div.sk-parallel-item::before {content: \"\";position: absolute;border-left: 1px solid gray;box-sizing: border-box;top: 0;bottom: 0;left: 50%;z-index: -1;}#sk-container-id-2 div.sk-parallel-item {display: flex;flex-direction: column;z-index: 1;position: relative;background-color: white;}#sk-container-id-2 div.sk-parallel-item:first-child::after {align-self: flex-end;width: 50%;}#sk-container-id-2 div.sk-parallel-item:last-child::after {align-self: flex-start;width: 50%;}#sk-container-id-2 div.sk-parallel-item:only-child::after {width: 0;}#sk-container-id-2 div.sk-dashed-wrapped {border: 1px dashed gray;margin: 0 0.4em 0.5em 0.4em;box-sizing: border-box;padding-bottom: 0.4em;background-color: white;}#sk-container-id-2 div.sk-label label {font-family: monospace;font-weight: bold;display: inline-block;line-height: 1.2em;}#sk-container-id-2 div.sk-label-container {text-align: center;}#sk-container-id-2 div.sk-container {/* jupyter's `normalize.less` sets `[hidden] { display: none; }` but bootstrap.min.css set `[hidden] { display: none !important; }` so we also need the `!important` here to be able to override the default hidden behavior on the sphinx rendered scikit-learn.org. See: https://github.com/scikit-learn/scikit-learn/issues/21755 */display: inline-block !important;position: relative;}#sk-container-id-2 div.sk-text-repr-fallback {display: none;}</style><div id=\"sk-container-id-2\" class=\"sk-top-container\"><div class=\"sk-text-repr-fallback\"><pre>SVC()</pre><b>In a Jupyter environment, please rerun this cell to show the HTML representation or trust the notebook. <br />On GitHub, the HTML representation is unable to render, please try loading this page with nbviewer.org.</b></div><div class=\"sk-container\" hidden><div class=\"sk-item\"><div class=\"sk-estimator sk-toggleable\"><input class=\"sk-toggleable__control sk-hidden--visually\" id=\"sk-estimator-id-2\" type=\"checkbox\" checked><label for=\"sk-estimator-id-2\" class=\"sk-toggleable__label sk-toggleable__label-arrow\">SVC</label><div class=\"sk-toggleable__content\"><pre>SVC()</pre></div></div></div></div></div>"
      ],
      "text/plain": [
       "SVC()"
      ]
     },
     "execution_count": 97,
     "metadata": {},
     "output_type": "execute_result"
    }
   ],
   "source": [
    "svc_base = SVC()\n",
    "svc_base.fit(X_train, y_train)"
   ]
  },
  {
   "cell_type": "code",
   "execution_count": 98,
   "metadata": {},
   "outputs": [
    {
     "data": {
      "image/png": "[encoded data removed]",
      "text/plain": [
       "<Figure size 640x480 with 2 Axes>"
      ]
     },
     "metadata": {},
     "output_type": "display_data"
    },
    {
     "name": "stdout",
     "output_type": "stream",
     "text": [
      "Accuracy on train set of the model SVC: 0.9538\n",
      "Precision on train set of the model SVC: 0.9568\n",
      "Recall on train set of the model SVC: 0.9506\n",
      "F1 on train set of the model SVC: 0.9537\n",
      "AUC on train set of the model SVC: 0.9538\n",
      "\n",
      "              precision    recall  f1-score   support\n",
      "\n",
      "           0       0.95      0.96      0.95     12007\n",
      "           1       0.96      0.95      0.95     11993\n",
      "\n",
      "    accuracy                           0.95     24000\n",
      "   macro avg       0.95      0.95      0.95     24000\n",
      "weighted avg       0.95      0.95      0.95     24000\n",
      "\n"
     ]
    }
   ],
   "source": [
    "result = evaluate_model(svc_base, on=\"train\", plot_cmat=True, verbose=True)"
   ]
  },
  {
   "cell_type": "code",
   "execution_count": 99,
   "metadata": {},
   "outputs": [
    {
     "data": {
      "image/png": "[encoded data removed]",
      "text/plain": [
       "<Figure size 640x480 with 2 Axes>"
      ]
     },
     "metadata": {},
     "output_type": "display_data"
    },
    {
     "name": "stdout",
     "output_type": "stream",
     "text": [
      "Accuracy on test set of the model SVC: 0.9463\n",
      "Precision on test set of the model SVC: 0.9480\n",
      "Recall on test set of the model SVC: 0.9442\n",
      "F1 on test set of the model SVC: 0.9461\n",
      "AUC on test set of the model SVC: 0.9463\n",
      "\n",
      "              precision    recall  f1-score   support\n",
      "\n",
      "           0       0.94      0.95      0.95      3006\n",
      "           1       0.95      0.94      0.95      2994\n",
      "\n",
      "    accuracy                           0.95      6000\n",
      "   macro avg       0.95      0.95      0.95      6000\n",
      "weighted avg       0.95      0.95      0.95      6000\n",
      "\n"
     ]
    }
   ],
   "source": [
    "result = evaluate_model(svc_base, on=\"test\", plot_cmat=True, verbose=True)"
   ]
  },
  {
   "cell_type": "code",
   "execution_count": 100,
   "metadata": {},
   "outputs": [],
   "source": [
    "evaluate_and_save_progress(svc_base, \"SVC Base\")"
   ]
  },
  {
   "attachments": {},
   "cell_type": "markdown",
   "metadata": {},
   "source": [
    "## SVC Fine Tuning"
   ]
  },
  {
   "cell_type": "code",
   "execution_count": 102,
   "metadata": {},
   "outputs": [],
   "source": [
    "# create a grid search using optuna\n",
    "def objective(trial):\n",
    "    C = trial.suggest_loguniform(\"C\", 1e-5, 1e5)\n",
    "    gamma = trial.suggest_loguniform(\"gamma\", 1e-5, 1e5)\n",
    "    kernel = trial.suggest_categorical(\"kernel\", [\"rbf\", \"sigmoid\"])\n",
    "    degree = trial.suggest_int(\"degree\", 1, 10)\n",
    "    coef0 = trial.suggest_loguniform(\"coef0\", 1e-5, 1e5)\n",
    "\n",
    "    model = SVC(\n",
    "        C=C,\n",
    "        kernel=kernel,\n",
    "        degree=degree,\n",
    "        gamma=gamma,\n",
    "        coef0=coef0,\n",
    "    )\n",
    "    model.fit(X_train, y_train)\n",
    "    return model.score(X_test, y_test)"
   ]
  },
  {
   "cell_type": "code",
   "execution_count": 104,
   "metadata": {},
   "outputs": [
    {
     "name": "stderr",
     "output_type": "stream",
     "text": [
      "\u001b[32m[I 2023-04-18 18:24:31,277]\u001b[0m A new study created in memory with name: SVC\u001b[0m\n",
      "/home/hari31416/anaconda3/envs/data-science/lib/python3.9/site-packages/optuna/progress_bar.py:49: ExperimentalWarning: Progress bar is experimental (supported from v1.2.0). The interface can change in the future.\n",
      "  self._init_valid()\n"
     ]
    },
    {
     "data": {
      "application/vnd.jupyter.widget-view+json": {
       "model_id": "d4f725a8cfea406eb5332a9705bfa2b9",
       "version_major": 2,
       "version_minor": 0
      },
      "text/plain": [
       "  0%|          | 0/1 [00:00<?, ?it/s]"
      ]
     },
     "metadata": {},
     "output_type": "display_data"
    },
    {
     "name": "stderr",
     "output_type": "stream",
     "text": [
      "/tmp/ipykernel_21081/2972611437.py:3: FutureWarning: suggest_loguniform has been deprecated in v3.0.0. This feature will be removed in v6.0.0. See https://github.com/optuna/optuna/releases/tag/v3.0.0. Use :func:`~optuna.trial.Trial.suggest_float` instead.\n",
      "  C = trial.suggest_loguniform(\"C\", 1e-10, 1e10)\n",
      "/tmp/ipykernel_21081/2972611437.py:4: FutureWarning: suggest_loguniform has been deprecated in v3.0.0. This feature will be removed in v6.0.0. See https://github.com/optuna/optuna/releases/tag/v3.0.0. Use :func:`~optuna.trial.Trial.suggest_float` instead.\n",
      "  gamma = trial.suggest_loguniform(\"gamma\", 1e-10, 1e10)\n",
      "/tmp/ipykernel_21081/2972611437.py:7: FutureWarning: suggest_loguniform has been deprecated in v3.0.0. This feature will be removed in v6.0.0. See https://github.com/optuna/optuna/releases/tag/v3.0.0. Use :func:`~optuna.trial.Trial.suggest_float` instead.\n",
      "  coef0 = trial.suggest_loguniform(\"coef0\", 1e-10, 1e10)\n"
     ]
    },
    {
     "name": "stdout",
     "output_type": "stream",
     "text": [
      "\u001b[32m[I 2023-04-18 18:25:53,481]\u001b[0m Trial 0 finished with value: 0.501 and parameters: {'C': 2.9502803295612827e-07, 'gamma': 43750.83088278491, 'kernel': 'sigmoid', 'degree': 8, 'coef0': 1.0082635413914862e-08}. Best is trial 0 with value: 0.501.\u001b[0m\n"
     ]
    }
   ],
   "source": [
    "# create a study object\n",
    "study = optuna.create_study(direction=\"maximize\", study_name=\"SVC\")\n",
    "# optimize the objective function\n",
    "study.optimize(objective, n_trials=1, show_progress_bar=True)"
   ]
  },
  {
   "cell_type": "code",
   "execution_count": 114,
   "metadata": {},
   "outputs": [],
   "source": [
    "def create_text_message(study):\n",
    "    \"\"\"\n",
    "    This function creates a text message from the study object.\n",
    "\n",
    "    Parameters\n",
    "    ----------\n",
    "    study : optuna study object\n",
    "        The study object.\n",
    "\n",
    "    Returns\n",
    "    -------\n",
    "    message : str\n",
    "        The message to be sent.\n",
    "    \"\"\"\n",
    "    message = f\"Study Name: {study.study_name}\\n\"\n",
    "    message += f\"Number of trials: {len(study.trials)}\\n\"\n",
    "    message += \"Here are the best parameters:\\n\"\n",
    "    message += \"-----------------------------\\n\"\n",
    "    best_params = study.best_params\n",
    "    for key, value in best_params.items():\n",
    "        message += f\"{key} : {value}\\n\"\n",
    "    best_value = study.best_value\n",
    "    message += f\"Best Accuracy: {best_value:.4f}\"\n",
    "    return message"
   ]
  },
  {
   "cell_type": "code",
   "execution_count": 115,
   "metadata": {},
   "outputs": [
    {
     "name": "stdout",
     "output_type": "stream",
     "text": [
      "Study Name: SVC\n",
      "Number of trials: 1\n",
      "Here are the best parameters:\n",
      "-----------------------------\n",
      "C : 2.9502803295612827e-07\n",
      "gamma : 43750.83088278491\n",
      "kernel : sigmoid\n",
      "degree : 8\n",
      "coef0 : 1.0082635413914862e-08\n",
      "Best Accuracy: 0.5010\n"
     ]
    }
   ],
   "source": [
    "message = create_text_message(study)\n",
    "print(message)"
   ]
  },
  {
   "cell_type": "code",
   "execution_count": 117,
   "metadata": {},
   "outputs": [
    {
     "data": {
      "text/html": [
       "<div>\n",
       "<style scoped>\n",
       "    .dataframe tbody tr th:only-of-type {\n",
       "        vertical-align: middle;\n",
       "    }\n",
       "\n",
       "    .dataframe tbody tr th {\n",
       "        vertical-align: top;\n",
       "    }\n",
       "\n",
       "    .dataframe thead th {\n",
       "        text-align: right;\n",
       "    }\n",
       "</style>\n",
       "<table border=\"1\" class=\"dataframe\">\n",
       "  <thead>\n",
       "    <tr style=\"text-align: right;\">\n",
       "      <th></th>\n",
       "      <th>number</th>\n",
       "      <th>value</th>\n",
       "      <th>datetime_start</th>\n",
       "      <th>datetime_complete</th>\n",
       "      <th>duration</th>\n",
       "      <th>params_C</th>\n",
       "      <th>params_coef0</th>\n",
       "      <th>params_degree</th>\n",
       "      <th>params_gamma</th>\n",
       "      <th>params_kernel</th>\n",
       "      <th>state</th>\n",
       "    </tr>\n",
       "  </thead>\n",
       "  <tbody>\n",
       "    <tr>\n",
       "      <th>0</th>\n",
       "      <td>0</td>\n",
       "      <td>0.501</td>\n",
       "      <td>2023-04-18 18:24:31.300734</td>\n",
       "      <td>2023-04-18 18:25:53.481020</td>\n",
       "      <td>0 days 00:01:22.180286</td>\n",
       "      <td>2.950280e-07</td>\n",
       "      <td>1.008264e-08</td>\n",
       "      <td>8</td>\n",
       "      <td>43750.830883</td>\n",
       "      <td>sigmoid</td>\n",
       "      <td>COMPLETE</td>\n",
       "    </tr>\n",
       "  </tbody>\n",
       "</table>\n",
       "</div>"
      ],
      "text/plain": [
       "   number  value             datetime_start          datetime_complete  \\\n",
       "0       0  0.501 2023-04-18 18:24:31.300734 2023-04-18 18:25:53.481020   \n",
       "\n",
       "                duration      params_C  params_coef0  params_degree  \\\n",
       "0 0 days 00:01:22.180286  2.950280e-07  1.008264e-08              8   \n",
       "\n",
       "   params_gamma params_kernel     state  \n",
       "0  43750.830883       sigmoid  COMPLETE  "
      ]
     },
     "execution_count": 117,
     "metadata": {},
     "output_type": "execute_result"
    }
   ],
   "source": [
    "study.trials_dataframe()"
   ]
  }
 ],
 "metadata": {
  "kernelspec": {
   "display_name": "data-science",
   "language": "python",
   "name": "python3"
  },
  "language_info": {
   "codemirror_mode": {
    "name": "ipython",
    "version": 3
   },
   "file_extension": ".py",
   "mimetype": "text/x-python",
   "name": "python",
   "nbconvert_exporter": "python",
   "pygments_lexer": "ipython3",
   "version": "3.9.15"
  },
  "orig_nbformat": 4
 },
 "nbformat": 4,
 "nbformat_minor": 2
}

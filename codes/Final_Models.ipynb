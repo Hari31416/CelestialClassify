{
 "cells": [
  {
   "attachments": {},
   "cell_type": "markdown",
   "id": "f4261c4d",
   "metadata": {
    "execution": {
     "iopub.execute_input": "2023-06-01T06:21:08.990542Z",
     "iopub.status.busy": "2023-06-01T06:21:08.989756Z",
     "iopub.status.idle": "2023-06-01T06:21:08.997968Z",
     "shell.execute_reply": "2023-06-01T06:21:08.996537Z",
     "shell.execute_reply.started": "2023-06-01T06:21:08.990502Z"
    },
    "papermill": {
     "duration": 0.009632,
     "end_time": "2023-06-01T06:26:39.010325",
     "exception": false,
     "start_time": "2023-06-01T06:26:39.000693",
     "status": "completed"
    },
    "tags": []
   },
   "source": [
    "# Imports"
   ]
  },
  {
   "cell_type": "code",
   "execution_count": 1,
   "id": "6e699e28",
   "metadata": {
    "_cell_guid": "b1076dfc-b9ad-4769-8c92-a6c4dae69d19",
    "_uuid": "8f2839f25d086af736a60e9eeb907d3b93b6e0e5",
    "execution": {
     "iopub.execute_input": "2023-06-01T06:26:39.027954Z",
     "iopub.status.busy": "2023-06-01T06:26:39.026910Z",
     "iopub.status.idle": "2023-06-01T06:26:40.443750Z",
     "shell.execute_reply": "2023-06-01T06:26:40.442821Z"
    },
    "papermill": {
     "duration": 1.428076,
     "end_time": "2023-06-01T06:26:40.446163",
     "exception": false,
     "start_time": "2023-06-01T06:26:39.018087",
     "status": "completed"
    },
    "tags": []
   },
   "outputs": [
    {
     "name": "stderr",
     "output_type": "stream",
     "text": [
      "/opt/conda/lib/python3.10/site-packages/scipy/__init__.py:146: UserWarning: A NumPy version >=1.16.5 and <1.23.0 is required for this version of SciPy (detected version 1.23.5\n",
      "  warnings.warn(f\"A NumPy version >={np_minversion} and <{np_maxversion}\"\n"
     ]
    }
   ],
   "source": [
    "import pandas as pd\n",
    "import numpy as np\n",
    "import matplotlib.pyplot as plt\n",
    "from tqdm import tqdm\n",
    "import gc\n",
    "\n",
    "from sklearn.preprocessing import StandardScaler\n",
    "from sklearn.model_selection import train_test_split\n",
    "from sklearn.metrics import (\n",
    "    accuracy_score,\n",
    "    confusion_matrix,\n",
    "    classification_report,\n",
    "    ConfusionMatrixDisplay,\n",
    "    roc_auc_score,\n",
    ")\n",
    "\n",
    "from xgboost import XGBClassifier\n",
    "from catboost import CatBoostClassifier"
   ]
  },
  {
   "attachments": {},
   "cell_type": "markdown",
   "id": "bc82be58",
   "metadata": {
    "papermill": {
     "duration": 0.006752,
     "end_time": "2023-06-01T06:26:40.459961",
     "exception": false,
     "start_time": "2023-06-01T06:26:40.453209",
     "status": "completed"
    },
    "tags": []
   },
   "source": [
    "# Preparing Data"
   ]
  },
  {
   "attachments": {},
   "cell_type": "markdown",
   "id": "0ac1d1a1",
   "metadata": {},
   "source": [
    "## Loading Data"
   ]
  },
  {
   "cell_type": "code",
   "execution_count": 2,
   "id": "d1d944a3",
   "metadata": {
    "execution": {
     "iopub.execute_input": "2023-06-01T06:26:40.474679Z",
     "iopub.status.busy": "2023-06-01T06:26:40.474388Z",
     "iopub.status.idle": "2023-06-01T06:27:47.838765Z",
     "shell.execute_reply": "2023-06-01T06:27:47.837835Z"
    },
    "papermill": {
     "duration": 67.374561,
     "end_time": "2023-06-01T06:27:47.841285",
     "exception": false,
     "start_time": "2023-06-01T06:26:40.466724",
     "status": "completed"
    },
    "tags": []
   },
   "outputs": [],
   "source": [
    "train = pd.read_csv(\"/kaggle/input/celestialclassify/train.csv\")\n",
    "test = pd.read_csv(\"/kaggle/input/celestialclassify/test.csv\")"
   ]
  },
  {
   "attachments": {},
   "cell_type": "markdown",
   "id": "609b82b1",
   "metadata": {},
   "source": [
    "## Replace NaNs"
   ]
  },
  {
   "cell_type": "code",
   "execution_count": 3,
   "id": "8d78ef81",
   "metadata": {
    "execution": {
     "iopub.execute_input": "2023-06-01T06:27:47.856766Z",
     "iopub.status.busy": "2023-06-01T06:27:47.856478Z",
     "iopub.status.idle": "2023-06-01T06:27:47.920244Z",
     "shell.execute_reply": "2023-06-01T06:27:47.918800Z"
    },
    "papermill": {
     "duration": 0.074372,
     "end_time": "2023-06-01T06:27:47.922904",
     "exception": false,
     "start_time": "2023-06-01T06:27:47.848532",
     "status": "completed"
    },
    "tags": []
   },
   "outputs": [
    {
     "name": "stdout",
     "output_type": "stream",
     "text": [
      "0\n",
      "0\n"
     ]
    }
   ],
   "source": [
    "train[\"rowv\"].replace(-9999, np.nan, inplace=True)\n",
    "train[\"rowv\"].fillna(train[\"rowv\"].mean(), inplace=True)\n",
    "print(train[\"rowv\"].isnull().sum())\n",
    "\n",
    "test[\"colv\"].replace(-9999, np.nan, inplace=True)\n",
    "test[\"colv\"].fillna(test[\"colv\"].mean(), inplace=True)\n",
    "print(test[\"colv\"].isnull().sum())"
   ]
  },
  {
   "attachments": {},
   "cell_type": "markdown",
   "id": "f1c8d1b5",
   "metadata": {},
   "source": [
    "## Standardizing and Creating Train and Test Sets"
   ]
  },
  {
   "cell_type": "code",
   "execution_count": 4,
   "id": "ae9566f7",
   "metadata": {
    "execution": {
     "iopub.execute_input": "2023-06-01T06:27:47.938875Z",
     "iopub.status.busy": "2023-06-01T06:27:47.938571Z",
     "iopub.status.idle": "2023-06-01T06:27:48.998639Z",
     "shell.execute_reply": "2023-06-01T06:27:48.997782Z"
    },
    "papermill": {
     "duration": 1.07038,
     "end_time": "2023-06-01T06:27:49.000817",
     "exception": false,
     "start_time": "2023-06-01T06:27:47.930437",
     "status": "completed"
    },
    "tags": []
   },
   "outputs": [
    {
     "data": {
      "text/plain": [
       "0"
      ]
     },
     "execution_count": 4,
     "metadata": {},
     "output_type": "execute_result"
    }
   ],
   "source": [
    "X_train = train.drop(\"type\", axis=1)\n",
    "y_train = train[\"type\"]\n",
    "del train\n",
    "gc.collect()\n",
    "X_test = test.drop(\"type\", axis = 1)\n",
    "y_test = test[\"type\"]\n",
    "del test\n",
    "gc.collect()"
   ]
  },
  {
   "cell_type": "code",
   "execution_count": 5,
   "id": "6f34fc15",
   "metadata": {
    "execution": {
     "iopub.execute_input": "2023-06-01T06:27:49.016607Z",
     "iopub.status.busy": "2023-06-01T06:27:49.016312Z",
     "iopub.status.idle": "2023-06-01T06:27:52.706799Z",
     "shell.execute_reply": "2023-06-01T06:27:52.705835Z"
    },
    "papermill": {
     "duration": 3.701044,
     "end_time": "2023-06-01T06:27:52.709199",
     "exception": false,
     "start_time": "2023-06-01T06:27:49.008155",
     "status": "completed"
    },
    "tags": []
   },
   "outputs": [],
   "source": [
    "y_train = y_train.apply(lambda x: 1 if x==\"star\" else 0)\n",
    "y_test = y_test.apply(lambda x: 1 if x==\"star\" else 0)"
   ]
  },
  {
   "cell_type": "code",
   "execution_count": 6,
   "id": "38b4bf69",
   "metadata": {
    "execution": {
     "iopub.execute_input": "2023-06-01T06:27:52.725276Z",
     "iopub.status.busy": "2023-06-01T06:27:52.724959Z",
     "iopub.status.idle": "2023-06-01T06:27:57.185207Z",
     "shell.execute_reply": "2023-06-01T06:27:57.184151Z"
    },
    "papermill": {
     "duration": 4.470888,
     "end_time": "2023-06-01T06:27:57.187634",
     "exception": false,
     "start_time": "2023-06-01T06:27:52.716746",
     "status": "completed"
    },
    "tags": []
   },
   "outputs": [],
   "source": [
    "scalar = StandardScaler()\n",
    "\n",
    "X_train = scalar.fit_transform(X_train)\n",
    "X_test = scalar.transform(X_test)"
   ]
  },
  {
   "attachments": {},
   "cell_type": "markdown",
   "id": "7fde1960",
   "metadata": {},
   "source": [
    "## Some Functions to Evaluate Models"
   ]
  },
  {
   "cell_type": "code",
   "execution_count": 7,
   "id": "8d95edfa",
   "metadata": {
    "execution": {
     "iopub.execute_input": "2023-06-01T06:27:57.204948Z",
     "iopub.status.busy": "2023-06-01T06:27:57.204270Z",
     "iopub.status.idle": "2023-06-01T06:27:57.216838Z",
     "shell.execute_reply": "2023-06-01T06:27:57.215949Z"
    },
    "jupyter": {
     "source_hidden": true
    },
    "papermill": {
     "duration": 0.023378,
     "end_time": "2023-06-01T06:27:57.218964",
     "exception": false,
     "start_time": "2023-06-01T06:27:57.195586",
     "status": "completed"
    },
    "tags": []
   },
   "outputs": [],
   "source": [
    "def cm_to_metrics(cm):\n",
    "    \"\"\"Calculate accuracy, precision, recall and f1 score from confusion matrix.\n",
    "    \n",
    "    Parameters\n",
    "    ----------\n",
    "    cm : array-like\n",
    "        Confusion matrix.\n",
    "    \n",
    "    Returns\n",
    "    -------\n",
    "    accuracy : float\n",
    "        Accuracy score.\n",
    "    precision : float\n",
    "        Precision score.\n",
    "    recall : float\n",
    "        Recall score.\n",
    "    f1 : float\n",
    "        F1 score.\n",
    "    \"\"\"\n",
    "    tn, fp, fn, tp = cm.ravel()\n",
    "    accuracy = (tp + tn) / (tp + tn + fp + fn)\n",
    "    precision = tp / (tp + fp)\n",
    "    recall = tp / (tp + fn)\n",
    "    f1 = 2 * (precision * recall) / (precision + recall)\n",
    "    return accuracy, precision, recall, f1\n",
    "\n",
    "def evaluate_model(\n",
    "    model,\n",
    "    on=\"train\",\n",
    "    plot_cmat=False,\n",
    "    verbose=True,\n",
    "):\n",
    "    \"\"\"\n",
    "    This function evaluates a model and returns the metrics.\n",
    "    It can be used to evaluate the model on the training set or the test set.\n",
    "    It can also plot the confusion matrix.\n",
    "    Parameters\n",
    "    ----------\n",
    "    model : object\n",
    "        The model to be evaluated.\n",
    "    on : str, optional\n",
    "        The set on which the model will be evaluated. The default is \"train\".\n",
    "    plot_cmat : bool, optional\n",
    "        Whether to plot the confusion matrix. The default is False.\n",
    "    verbose : bool, optional\n",
    "        Whether to print the metrics. The default is True.\n",
    "\n",
    "    Returns\n",
    "    -------\n",
    "    result : dict\n",
    "        A dictionary with the metrics.\n",
    "    \n",
    "    Example\n",
    "    -------\n",
    "    >>> result = evaluate_model(model)\n",
    "    >>> print(result)\n",
    "    {'accuracy': 0.8, 'precision': 0.8, 'recall': 0.8, 'f1': 0.8, 'auc': 0.8}\n",
    "    \n",
    "    >>> result = evaluate_model(model, on=\"test\")\n",
    "    >>> print(result)\n",
    "    {'accuracy': 0.8, 'precision': 0.8, 'recall': 0.8, 'f1': 0.8, 'auc': 0.8}\n",
    "    \n",
    "    >>> result = evaluate_model(model, plot_cmat=True)\n",
    "    >>> print(result)\n",
    "    {'accuracy': 0.8, 'precision': 0.8, 'recall': 0.8, 'f1': 0.8, 'auc': 0.8}\n",
    "    \n",
    "    >>> result = evaluate_model(model, on=\"test\", plot_cmat=True)\n",
    "    >>> print(result)\n",
    "    {'accuracy': 0.8, 'precision': 0.8, 'recall': 0.8, 'f1': 0.8, 'auc': 0.8}\n",
    "    \"\"\"\n",
    "    if on == \"train\":\n",
    "        X = X_train\n",
    "        y = y_train\n",
    "    else:\n",
    "        X = X_test\n",
    "        y = y_test\n",
    "    y_pred = model.predict(X)\n",
    "    cm = confusion_matrix(y, y_pred)\n",
    "    accuracy, precision, recall, f1 = cm_to_metrics(cm)\n",
    "    auc_score = roc_auc_score(y, y_pred)\n",
    "\n",
    "    if plot_cmat:\n",
    "        disp = ConfusionMatrixDisplay(\n",
    "            confusion_matrix=cm, display_labels=[\"star\", \"galaxy\"]\n",
    "        )\n",
    "        disp.plot()\n",
    "        plt.show()\n",
    "    if verbose:\n",
    "        try:\n",
    "            model_name = model.__class__.__name__\n",
    "        except:\n",
    "            model_name = \"\"\n",
    "        print(f\"Accuracy on {on} set of the model {model_name}: {accuracy:.4f}\")\n",
    "        print(f\"Precision on {on} set of the model {model_name}: {precision:.4f}\")\n",
    "        print(f\"Recall on {on} set of the model {model_name}: {recall:.4f}\")\n",
    "        print(f\"F1 on {on} set of the model {model_name}: {f1:.4f}\")\n",
    "        print(f\"AUC on {on} set of the model {model_name}: {auc_score:.4f}\\n\")\n",
    "        cr = classification_report(y, y_pred)\n",
    "        print(cr)\n",
    "    result = {\n",
    "        \"accuracy\": accuracy,\n",
    "        \"precision\": precision,\n",
    "        \"recall\": recall,\n",
    "        \"f1\": f1,\n",
    "        \"auc\": auc_score,\n",
    "    }\n",
    "    return result"
   ]
  },
  {
   "attachments": {},
   "cell_type": "markdown",
   "id": "e86925ac",
   "metadata": {
    "papermill": {
     "duration": 0.006837,
     "end_time": "2023-06-01T06:27:57.232819",
     "exception": false,
     "start_time": "2023-06-01T06:27:57.225982",
     "status": "completed"
    },
    "tags": []
   },
   "source": [
    "# The Models"
   ]
  },
  {
   "attachments": {},
   "cell_type": "markdown",
   "id": "2ecc2331",
   "metadata": {},
   "source": [
    "The goal was to create an ensemble of four models:\n",
    "\n",
    "1. Support Vector Machine\n",
    "2. Random Forest\n",
    "3. XGBClassifier\n",
    "4. CatBoostClassifier\n",
    "\n",
    "However, as dataset is huge, training first two models started to become infeasible, especially because we can not use these two `sklearn` models to train on GPU. So, we decided to train only the last two models. These two models can be trained on GPU and are also very fast."
   ]
  },
  {
   "attachments": {},
   "cell_type": "markdown",
   "id": "3e74ae8f",
   "metadata": {},
   "source": [
    "> I tried using some alternatives for `sklearn`'s `SVC` and `RandomForestClassifier` which can be trained on GPU, but was not completely successful. In future, I will try to train these models on GPU and add them to the ensemble. For now, I will use just the last two models."
   ]
  },
  {
   "attachments": {},
   "cell_type": "markdown",
   "id": "22fa6002",
   "metadata": {},
   "source": [
    "Here are the best parameters for the models after hyperparameter tuning:"
   ]
  },
  {
   "cell_type": "code",
   "execution_count": null,
   "id": "9e380940",
   "metadata": {},
   "outputs": [],
   "source": [
    "# svc_best_params = {\n",
    "#     \"C\": 16296.601892646648,\n",
    "#     \"gamma\": 0.0011879874407358082,\n",
    "#     \"kernel\": \"rbf\",\n",
    "#     \"degree\": 2,\n",
    "#     \"coef0\": 61.32196047340159,\n",
    "# }\n",
    "\n",
    "# rf_best_params = {\n",
    "#     \"n_estimators\": 76,\n",
    "#     \"max_depth\": 19,\n",
    "#     \"min_samples_split\": 10,\n",
    "#     \"min_samples_leaf\": 2,\n",
    "#     \"max_features\": \"sqrt\",\n",
    "#     \"max_samples\": 1.0,\n",
    "# }\n",
    "\n",
    "xgb_best_params = {\n",
    "    \"n_estimators\": 188,\n",
    "    \"max_depth\": 17,\n",
    "    \"learning_rate\": 0.08245844777734937,\n",
    "    \"subsample\": 0.9,\n",
    "    \"reg_alpha\": 0.16634334643800422,\n",
    "    \"reg_lambda\": 0.010449329514317554,\n",
    "    \"gamma\": 3.5712964675328855e-05,\n",
    "    \"min_child_weight\": 17,\n",
    "}\n",
    "\n",
    "catb_best_params = {\n",
    "    \"n_estimators\": 198,\n",
    "    \"max_depth\": 10,\n",
    "    \"learning_rate\": 0.009814179840225703,\n",
    "    \"subsample\": 0.8,\n",
    "    \"reg_lambda\": 0.7960086364994374,\n",
    "    \"min_child_samples\": 3,\n",
    "    \"max_bin\": 255,\n",
    "}\n"
   ]
  },
  {
   "attachments": {},
   "cell_type": "markdown",
   "id": "2bc15cbd",
   "metadata": {},
   "source": [
    "## XGBoost"
   ]
  },
  {
   "attachments": {},
   "cell_type": "markdown",
   "id": "96ecf652",
   "metadata": {},
   "source": [
    "Let's train and evaluate the `XGBClassifier` model:"
   ]
  },
  {
   "cell_type": "code",
   "execution_count": 9,
   "id": "806cb0fe",
   "metadata": {
    "execution": {
     "iopub.execute_input": "2023-06-01T06:27:57.271412Z",
     "iopub.status.busy": "2023-06-01T06:27:57.271155Z",
     "iopub.status.idle": "2023-06-01T06:28:52.415778Z",
     "shell.execute_reply": "2023-06-01T06:28:52.414902Z"
    },
    "papermill": {
     "duration": 55.161112,
     "end_time": "2023-06-01T06:28:52.424416",
     "exception": false,
     "start_time": "2023-06-01T06:27:57.263304",
     "status": "completed"
    },
    "tags": []
   },
   "outputs": [
    {
     "data": {
      "text/html": [
       "<style>#sk-container-id-1 {color: black;background-color: white;}#sk-container-id-1 pre{padding: 0;}#sk-container-id-1 div.sk-toggleable {background-color: white;}#sk-container-id-1 label.sk-toggleable__label {cursor: pointer;display: block;width: 100%;margin-bottom: 0;padding: 0.3em;box-sizing: border-box;text-align: center;}#sk-container-id-1 label.sk-toggleable__label-arrow:before {content: \"▸\";float: left;margin-right: 0.25em;color: #696969;}#sk-container-id-1 label.sk-toggleable__label-arrow:hover:before {color: black;}#sk-container-id-1 div.sk-estimator:hover label.sk-toggleable__label-arrow:before {color: black;}#sk-container-id-1 div.sk-toggleable__content {max-height: 0;max-width: 0;overflow: hidden;text-align: left;background-color: #f0f8ff;}#sk-container-id-1 div.sk-toggleable__content pre {margin: 0.2em;color: black;border-radius: 0.25em;background-color: #f0f8ff;}#sk-container-id-1 input.sk-toggleable__control:checked~div.sk-toggleable__content {max-height: 200px;max-width: 100%;overflow: auto;}#sk-container-id-1 input.sk-toggleable__control:checked~label.sk-toggleable__label-arrow:before {content: \"▾\";}#sk-container-id-1 div.sk-estimator input.sk-toggleable__control:checked~label.sk-toggleable__label {background-color: #d4ebff;}#sk-container-id-1 div.sk-label input.sk-toggleable__control:checked~label.sk-toggleable__label {background-color: #d4ebff;}#sk-container-id-1 input.sk-hidden--visually {border: 0;clip: rect(1px 1px 1px 1px);clip: rect(1px, 1px, 1px, 1px);height: 1px;margin: -1px;overflow: hidden;padding: 0;position: absolute;width: 1px;}#sk-container-id-1 div.sk-estimator {font-family: monospace;background-color: #f0f8ff;border: 1px dotted black;border-radius: 0.25em;box-sizing: border-box;margin-bottom: 0.5em;}#sk-container-id-1 div.sk-estimator:hover {background-color: #d4ebff;}#sk-container-id-1 div.sk-parallel-item::after {content: \"\";width: 100%;border-bottom: 1px solid gray;flex-grow: 1;}#sk-container-id-1 div.sk-label:hover label.sk-toggleable__label {background-color: #d4ebff;}#sk-container-id-1 div.sk-serial::before {content: \"\";position: absolute;border-left: 1px solid gray;box-sizing: border-box;top: 0;bottom: 0;left: 50%;z-index: 0;}#sk-container-id-1 div.sk-serial {display: flex;flex-direction: column;align-items: center;background-color: white;padding-right: 0.2em;padding-left: 0.2em;position: relative;}#sk-container-id-1 div.sk-item {position: relative;z-index: 1;}#sk-container-id-1 div.sk-parallel {display: flex;align-items: stretch;justify-content: center;background-color: white;position: relative;}#sk-container-id-1 div.sk-item::before, #sk-container-id-1 div.sk-parallel-item::before {content: \"\";position: absolute;border-left: 1px solid gray;box-sizing: border-box;top: 0;bottom: 0;left: 50%;z-index: -1;}#sk-container-id-1 div.sk-parallel-item {display: flex;flex-direction: column;z-index: 1;position: relative;background-color: white;}#sk-container-id-1 div.sk-parallel-item:first-child::after {align-self: flex-end;width: 50%;}#sk-container-id-1 div.sk-parallel-item:last-child::after {align-self: flex-start;width: 50%;}#sk-container-id-1 div.sk-parallel-item:only-child::after {width: 0;}#sk-container-id-1 div.sk-dashed-wrapped {border: 1px dashed gray;margin: 0 0.4em 0.5em 0.4em;box-sizing: border-box;padding-bottom: 0.4em;background-color: white;}#sk-container-id-1 div.sk-label label {font-family: monospace;font-weight: bold;display: inline-block;line-height: 1.2em;}#sk-container-id-1 div.sk-label-container {text-align: center;}#sk-container-id-1 div.sk-container {/* jupyter's `normalize.less` sets `[hidden] { display: none; }` but bootstrap.min.css set `[hidden] { display: none !important; }` so we also need the `!important` here to be able to override the default hidden behavior on the sphinx rendered scikit-learn.org. See: https://github.com/scikit-learn/scikit-learn/issues/21755 */display: inline-block !important;position: relative;}#sk-container-id-1 div.sk-text-repr-fallback {display: none;}</style><div id=\"sk-container-id-1\" class=\"sk-top-container\"><div class=\"sk-text-repr-fallback\"><pre>XGBClassifier(base_score=None, booster=None, callbacks=None,\n",
       "              colsample_bylevel=None, colsample_bynode=None,\n",
       "              colsample_bytree=None, early_stopping_rounds=None,\n",
       "              enable_categorical=False, eval_metric=None, feature_types=None,\n",
       "              gamma=3.5712964675328855e-05, gpu_id=None, grow_policy=None,\n",
       "              importance_type=None, interaction_constraints=None,\n",
       "              learning_rate=0.08245844777734937, max_bin=None,\n",
       "              max_cat_threshold=None, max_cat_to_onehot=None,\n",
       "              max_delta_step=None, max_depth=17, max_leaves=None,\n",
       "              min_child_weight=17, missing=nan, monotone_constraints=None,\n",
       "              n_estimators=188, n_jobs=None, num_parallel_tree=None,\n",
       "              predictor=None, random_state=None, ...)</pre><b>In a Jupyter environment, please rerun this cell to show the HTML representation or trust the notebook. <br />On GitHub, the HTML representation is unable to render, please try loading this page with nbviewer.org.</b></div><div class=\"sk-container\" hidden><div class=\"sk-item\"><div class=\"sk-estimator sk-toggleable\"><input class=\"sk-toggleable__control sk-hidden--visually\" id=\"sk-estimator-id-1\" type=\"checkbox\" checked><label for=\"sk-estimator-id-1\" class=\"sk-toggleable__label sk-toggleable__label-arrow\">XGBClassifier</label><div class=\"sk-toggleable__content\"><pre>XGBClassifier(base_score=None, booster=None, callbacks=None,\n",
       "              colsample_bylevel=None, colsample_bynode=None,\n",
       "              colsample_bytree=None, early_stopping_rounds=None,\n",
       "              enable_categorical=False, eval_metric=None, feature_types=None,\n",
       "              gamma=3.5712964675328855e-05, gpu_id=None, grow_policy=None,\n",
       "              importance_type=None, interaction_constraints=None,\n",
       "              learning_rate=0.08245844777734937, max_bin=None,\n",
       "              max_cat_threshold=None, max_cat_to_onehot=None,\n",
       "              max_delta_step=None, max_depth=17, max_leaves=None,\n",
       "              min_child_weight=17, missing=nan, monotone_constraints=None,\n",
       "              n_estimators=188, n_jobs=None, num_parallel_tree=None,\n",
       "              predictor=None, random_state=None, ...)</pre></div></div></div></div></div>"
      ],
      "text/plain": [
       "XGBClassifier(base_score=None, booster=None, callbacks=None,\n",
       "              colsample_bylevel=None, colsample_bynode=None,\n",
       "              colsample_bytree=None, early_stopping_rounds=None,\n",
       "              enable_categorical=False, eval_metric=None, feature_types=None,\n",
       "              gamma=3.5712964675328855e-05, gpu_id=None, grow_policy=None,\n",
       "              importance_type=None, interaction_constraints=None,\n",
       "              learning_rate=0.08245844777734937, max_bin=None,\n",
       "              max_cat_threshold=None, max_cat_to_onehot=None,\n",
       "              max_delta_step=None, max_depth=17, max_leaves=None,\n",
       "              min_child_weight=17, missing=nan, monotone_constraints=None,\n",
       "              n_estimators=188, n_jobs=None, num_parallel_tree=None,\n",
       "              predictor=None, random_state=None, ...)"
      ]
     },
     "execution_count": 9,
     "metadata": {},
     "output_type": "execute_result"
    }
   ],
   "source": [
    "xgbc = XGBClassifier(tree_method='gpu_hist', **xgb_best_params)\n",
    "xgbc.fit(X_train, y_train)"
   ]
  },
  {
   "cell_type": "code",
   "execution_count": 10,
   "id": "5b16c651",
   "metadata": {
    "execution": {
     "iopub.execute_input": "2023-06-01T06:28:52.440914Z",
     "iopub.status.busy": "2023-06-01T06:28:52.440098Z",
     "iopub.status.idle": "2023-06-01T06:29:55.505844Z",
     "shell.execute_reply": "2023-06-01T06:29:55.503968Z"
    },
    "papermill": {
     "duration": 63.076393,
     "end_time": "2023-06-01T06:29:55.508206",
     "exception": false,
     "start_time": "2023-06-01T06:28:52.431813",
     "status": "completed"
    },
    "tags": []
   },
   "outputs": [
    {
     "data": {
      "image/png": "[encoded data removed]",
      "text/plain": [
       "<Figure size 640x480 with 2 Axes>"
      ]
     },
     "metadata": {},
     "output_type": "display_data"
    },
    {
     "name": "stdout",
     "output_type": "stream",
     "text": [
      "Accuracy on train set of the model XGBClassifier: 0.9949\n",
      "Precision on train set of the model XGBClassifier: 0.9929\n",
      "Recall on train set of the model XGBClassifier: 0.9969\n",
      "F1 on train set of the model XGBClassifier: 0.9949\n",
      "AUC on train set of the model XGBClassifier: 0.9949\n",
      "\n",
      "              precision    recall  f1-score   support\n",
      "\n",
      "           0       1.00      0.99      0.99   1999996\n",
      "           1       0.99      1.00      0.99   2000004\n",
      "\n",
      "    accuracy                           0.99   4000000\n",
      "   macro avg       0.99      0.99      0.99   4000000\n",
      "weighted avg       0.99      0.99      0.99   4000000\n",
      "\n"
     ]
    },
    {
     "data": {
      "text/plain": [
       "{'accuracy': 0.99487775,\n",
       " 'precision': 0.9928995120095258,\n",
       " 'recall': 0.9968845062309876,\n",
       " 'f1': 0.9948880186924516,\n",
       " 'auc': 0.9948777459864795}"
      ]
     },
     "execution_count": 10,
     "metadata": {},
     "output_type": "execute_result"
    }
   ],
   "source": [
    "evaluate_model(\n",
    "    xgbc,\n",
    "    on=\"train\",\n",
    "    plot_cmat=True,\n",
    "    verbose=True,)"
   ]
  },
  {
   "cell_type": "code",
   "execution_count": 11,
   "id": "b8aaa0fb",
   "metadata": {
    "execution": {
     "iopub.execute_input": "2023-06-01T06:29:55.526308Z",
     "iopub.status.busy": "2023-06-01T06:29:55.526015Z",
     "iopub.status.idle": "2023-06-01T06:30:26.410342Z",
     "shell.execute_reply": "2023-06-01T06:30:26.409365Z"
    },
    "papermill": {
     "duration": 30.903836,
     "end_time": "2023-06-01T06:30:26.420552",
     "exception": false,
     "start_time": "2023-06-01T06:29:55.516716",
     "status": "completed"
    },
    "tags": []
   },
   "outputs": [
    {
     "data": {
      "image/png": "[encoded data removed]",
      "text/plain": [
       "<Figure size 640x480 with 2 Axes>"
      ]
     },
     "metadata": {},
     "output_type": "display_data"
    },
    {
     "name": "stdout",
     "output_type": "stream",
     "text": [
      "Accuracy on test set of the model XGBClassifier: 0.9823\n",
      "Precision on test set of the model XGBClassifier: 0.9797\n",
      "Recall on test set of the model XGBClassifier: 0.9849\n",
      "F1 on test set of the model XGBClassifier: 0.9823\n",
      "AUC on test set of the model XGBClassifier: 0.9823\n",
      "\n",
      "              precision    recall  f1-score   support\n",
      "\n",
      "           0       0.98      0.98      0.98   1000004\n",
      "           1       0.98      0.98      0.98    999996\n",
      "\n",
      "    accuracy                           0.98   2000000\n",
      "   macro avg       0.98      0.98      0.98   2000000\n",
      "weighted avg       0.98      0.98      0.98   2000000\n",
      "\n"
     ]
    },
    {
     "data": {
      "text/plain": [
       "{'accuracy': 0.9822525,\n",
       " 'precision': 0.9797037527765096,\n",
       " 'recall': 0.9849089396357585,\n",
       " 'f1': 0.9822994507069996,\n",
       " 'auc': 0.9822525106257161}"
      ]
     },
     "execution_count": 11,
     "metadata": {},
     "output_type": "execute_result"
    }
   ],
   "source": [
    "evaluate_model(\n",
    "    xgbc,\n",
    "    on=\"test\",\n",
    "    plot_cmat=True,\n",
    "    verbose=True,)"
   ]
  },
  {
   "cell_type": "code",
   "execution_count": 12,
   "id": "c1e9243a",
   "metadata": {
    "execution": {
     "iopub.execute_input": "2023-06-01T06:30:26.439206Z",
     "iopub.status.busy": "2023-06-01T06:30:26.438905Z",
     "iopub.status.idle": "2023-06-01T06:30:54.120896Z",
     "shell.execute_reply": "2023-06-01T06:30:54.119580Z"
    },
    "papermill": {
     "duration": 27.693914,
     "end_time": "2023-06-01T06:30:54.123204",
     "exception": false,
     "start_time": "2023-06-01T06:30:26.429290",
     "status": "completed"
    },
    "tags": []
   },
   "outputs": [
    {
     "name": "stdout",
     "output_type": "stream",
     "text": [
      "0.9822525\n"
     ]
    }
   ],
   "source": [
    "xgbc_score = xgbc.score(X_test, y_test)\n",
    "print(xgbc_score)"
   ]
  },
  {
   "attachments": {},
   "cell_type": "markdown",
   "id": "51efe5f4",
   "metadata": {},
   "source": [
    "We can see that the model is performing quite good. It has a test accuracy of over 98%!"
   ]
  },
  {
   "attachments": {},
   "cell_type": "markdown",
   "id": "f5b6f2c3",
   "metadata": {},
   "source": [
    "## CatBoost"
   ]
  },
  {
   "attachments": {},
   "cell_type": "markdown",
   "id": "480f81b5",
   "metadata": {},
   "source": [
    "Here are the best parameters for the `CatBoostClassifier` model:"
   ]
  },
  {
   "attachments": {},
   "cell_type": "markdown",
   "id": "d40fe3f0",
   "metadata": {},
   "source": [
    "> We have to change `bootstrap_type=\"Poisson\"` as the default value of `bootstrap_type` is `Bayesian`. And, `Bayesian` is not supported for GPU training."
   ]
  },
  {
   "cell_type": "code",
   "execution_count": 13,
   "id": "b13943a8",
   "metadata": {
    "execution": {
     "iopub.execute_input": "2023-06-01T06:30:54.145175Z",
     "iopub.status.busy": "2023-06-01T06:30:54.143328Z",
     "iopub.status.idle": "2023-06-01T06:32:39.380232Z",
     "shell.execute_reply": "2023-06-01T06:32:39.379427Z"
    },
    "papermill": {
     "duration": 105.250042,
     "end_time": "2023-06-01T06:32:39.382865",
     "exception": false,
     "start_time": "2023-06-01T06:30:54.132823",
     "status": "completed"
    },
    "tags": []
   },
   "outputs": [
    {
     "name": "stdout",
     "output_type": "stream",
     "text": [
      "0:\tlearn: 0.6634077\ttotal: 72.4ms\tremaining: 14.3s\n",
      "1:\tlearn: 0.6350319\ttotal: 135ms\tremaining: 13.2s\n",
      "2:\tlearn: 0.6078244\ttotal: 196ms\tremaining: 12.8s\n",
      "3:\tlearn: 0.5815051\ttotal: 257ms\tremaining: 12.5s\n",
      "4:\tlearn: 0.5570651\ttotal: 328ms\tremaining: 12.6s\n",
      "5:\tlearn: 0.5341756\ttotal: 389ms\tremaining: 12.4s\n",
      "6:\tlearn: 0.5120580\ttotal: 451ms\tremaining: 12.3s\n",
      "7:\tlearn: 0.4923606\ttotal: 514ms\tremaining: 12.2s\n",
      "8:\tlearn: 0.4724300\ttotal: 578ms\tremaining: 12.1s\n",
      "9:\tlearn: 0.4530381\ttotal: 642ms\tremaining: 12.1s\n",
      "10:\tlearn: 0.4352311\ttotal: 706ms\tremaining: 12s\n",
      "11:\tlearn: 0.4181942\ttotal: 767ms\tremaining: 11.9s\n",
      "12:\tlearn: 0.4023426\ttotal: 831ms\tremaining: 11.8s\n",
      "13:\tlearn: 0.3872076\ttotal: 893ms\tremaining: 11.7s\n",
      "14:\tlearn: 0.3730885\ttotal: 955ms\tremaining: 11.6s\n",
      "15:\tlearn: 0.3593352\ttotal: 1.02s\tremaining: 11.6s\n",
      "16:\tlearn: 0.3463586\ttotal: 1.08s\tremaining: 11.5s\n",
      "17:\tlearn: 0.3340638\ttotal: 1.14s\tremaining: 11.4s\n",
      "18:\tlearn: 0.3229557\ttotal: 1.21s\tremaining: 11.4s\n",
      "19:\tlearn: 0.3122961\ttotal: 1.27s\tremaining: 11.3s\n",
      "20:\tlearn: 0.3022136\ttotal: 1.33s\tremaining: 11.2s\n",
      "21:\tlearn: 0.2926366\ttotal: 1.4s\tremaining: 11.2s\n",
      "22:\tlearn: 0.2836334\ttotal: 1.46s\tremaining: 11.1s\n",
      "23:\tlearn: 0.2750349\ttotal: 1.52s\tremaining: 11s\n",
      "24:\tlearn: 0.2666816\ttotal: 1.59s\tremaining: 11s\n",
      "25:\tlearn: 0.2588750\ttotal: 1.65s\tremaining: 10.9s\n",
      "26:\tlearn: 0.2513674\ttotal: 1.72s\tremaining: 10.9s\n",
      "27:\tlearn: 0.2443721\ttotal: 1.79s\tremaining: 10.8s\n",
      "28:\tlearn: 0.2377434\ttotal: 1.85s\tremaining: 10.8s\n",
      "29:\tlearn: 0.2313320\ttotal: 1.92s\tremaining: 10.7s\n",
      "30:\tlearn: 0.2253413\ttotal: 1.98s\tremaining: 10.6s\n",
      "31:\tlearn: 0.2196626\ttotal: 2.04s\tremaining: 10.6s\n",
      "32:\tlearn: 0.2142932\ttotal: 2.1s\tremaining: 10.5s\n",
      "33:\tlearn: 0.2091854\ttotal: 2.17s\tremaining: 10.5s\n",
      "34:\tlearn: 0.2043616\ttotal: 2.23s\tremaining: 10.4s\n",
      "35:\tlearn: 0.1996140\ttotal: 2.29s\tremaining: 10.3s\n",
      "36:\tlearn: 0.1951170\ttotal: 2.35s\tremaining: 10.3s\n",
      "37:\tlearn: 0.1908296\ttotal: 2.42s\tremaining: 10.2s\n",
      "38:\tlearn: 0.1868617\ttotal: 2.48s\tremaining: 10.1s\n",
      "39:\tlearn: 0.1830738\ttotal: 2.54s\tremaining: 10s\n",
      "40:\tlearn: 0.1794669\ttotal: 2.6s\tremaining: 9.96s\n",
      "41:\tlearn: 0.1759513\ttotal: 2.66s\tremaining: 9.89s\n",
      "42:\tlearn: 0.1727087\ttotal: 2.73s\tremaining: 9.82s\n",
      "43:\tlearn: 0.1694449\ttotal: 2.79s\tremaining: 9.76s\n",
      "44:\tlearn: 0.1663940\ttotal: 2.85s\tremaining: 9.69s\n",
      "45:\tlearn: 0.1634904\ttotal: 2.92s\tremaining: 9.63s\n",
      "46:\tlearn: 0.1607322\ttotal: 3.04s\tremaining: 9.75s\n",
      "47:\tlearn: 0.1580742\ttotal: 3.11s\tremaining: 9.72s\n",
      "48:\tlearn: 0.1555464\ttotal: 3.18s\tremaining: 9.67s\n",
      "49:\tlearn: 0.1530808\ttotal: 3.24s\tremaining: 9.6s\n",
      "50:\tlearn: 0.1507662\ttotal: 3.31s\tremaining: 9.53s\n",
      "51:\tlearn: 0.1484028\ttotal: 3.37s\tremaining: 9.46s\n",
      "52:\tlearn: 0.1461303\ttotal: 3.43s\tremaining: 9.39s\n",
      "53:\tlearn: 0.1441110\ttotal: 3.5s\tremaining: 9.32s\n",
      "54:\tlearn: 0.1421785\ttotal: 3.56s\tremaining: 9.25s\n",
      "55:\tlearn: 0.1402728\ttotal: 3.62s\tremaining: 9.19s\n",
      "56:\tlearn: 0.1385008\ttotal: 3.69s\tremaining: 9.12s\n",
      "57:\tlearn: 0.1366858\ttotal: 3.75s\tremaining: 9.05s\n",
      "58:\tlearn: 0.1349587\ttotal: 3.81s\tremaining: 8.98s\n",
      "59:\tlearn: 0.1333952\ttotal: 3.88s\tremaining: 8.92s\n",
      "60:\tlearn: 0.1318118\ttotal: 3.94s\tremaining: 8.85s\n",
      "61:\tlearn: 0.1302242\ttotal: 4s\tremaining: 8.79s\n",
      "62:\tlearn: 0.1287870\ttotal: 4.07s\tremaining: 8.71s\n",
      "63:\tlearn: 0.1274051\ttotal: 4.13s\tremaining: 8.65s\n",
      "64:\tlearn: 0.1260702\ttotal: 4.19s\tremaining: 8.58s\n",
      "65:\tlearn: 0.1247945\ttotal: 4.25s\tremaining: 8.51s\n",
      "66:\tlearn: 0.1235286\ttotal: 4.32s\tremaining: 8.44s\n",
      "67:\tlearn: 0.1222364\ttotal: 4.38s\tremaining: 8.38s\n",
      "68:\tlearn: 0.1210474\ttotal: 4.45s\tremaining: 8.31s\n",
      "69:\tlearn: 0.1199162\ttotal: 4.51s\tremaining: 8.24s\n",
      "70:\tlearn: 0.1188096\ttotal: 4.57s\tremaining: 8.18s\n",
      "71:\tlearn: 0.1177492\ttotal: 4.64s\tremaining: 8.11s\n",
      "72:\tlearn: 0.1167405\ttotal: 4.7s\tremaining: 8.05s\n",
      "73:\tlearn: 0.1157805\ttotal: 4.76s\tremaining: 7.98s\n",
      "74:\tlearn: 0.1148541\ttotal: 4.82s\tremaining: 7.91s\n",
      "75:\tlearn: 0.1139416\ttotal: 4.89s\tremaining: 7.85s\n",
      "76:\tlearn: 0.1130096\ttotal: 4.95s\tremaining: 7.79s\n",
      "77:\tlearn: 0.1121615\ttotal: 5.02s\tremaining: 7.72s\n",
      "78:\tlearn: 0.1113012\ttotal: 5.08s\tremaining: 7.66s\n",
      "79:\tlearn: 0.1104759\ttotal: 5.15s\tremaining: 7.59s\n",
      "80:\tlearn: 0.1097059\ttotal: 5.21s\tremaining: 7.53s\n",
      "81:\tlearn: 0.1089250\ttotal: 5.27s\tremaining: 7.46s\n",
      "82:\tlearn: 0.1082478\ttotal: 5.34s\tremaining: 7.4s\n",
      "83:\tlearn: 0.1075730\ttotal: 5.41s\tremaining: 7.34s\n",
      "84:\tlearn: 0.1068968\ttotal: 5.47s\tremaining: 7.28s\n",
      "85:\tlearn: 0.1062386\ttotal: 5.54s\tremaining: 7.21s\n",
      "86:\tlearn: 0.1056199\ttotal: 5.6s\tremaining: 7.15s\n",
      "87:\tlearn: 0.1050119\ttotal: 5.67s\tremaining: 7.08s\n",
      "88:\tlearn: 0.1044246\ttotal: 5.73s\tremaining: 7.02s\n",
      "89:\tlearn: 0.1037920\ttotal: 5.8s\tremaining: 6.96s\n",
      "90:\tlearn: 0.1032355\ttotal: 5.87s\tremaining: 6.9s\n",
      "91:\tlearn: 0.1026722\ttotal: 5.93s\tremaining: 6.84s\n",
      "92:\tlearn: 0.1021268\ttotal: 6s\tremaining: 6.77s\n",
      "93:\tlearn: 0.1016022\ttotal: 6.06s\tremaining: 6.71s\n",
      "94:\tlearn: 0.1010862\ttotal: 6.13s\tremaining: 6.65s\n",
      "95:\tlearn: 0.1006204\ttotal: 6.2s\tremaining: 6.58s\n",
      "96:\tlearn: 0.1001417\ttotal: 6.26s\tremaining: 6.52s\n",
      "97:\tlearn: 0.0996806\ttotal: 6.33s\tremaining: 6.46s\n",
      "98:\tlearn: 0.0991951\ttotal: 6.39s\tremaining: 6.39s\n",
      "99:\tlearn: 0.0987411\ttotal: 6.46s\tremaining: 6.33s\n",
      "100:\tlearn: 0.0983022\ttotal: 6.52s\tremaining: 6.26s\n",
      "101:\tlearn: 0.0979010\ttotal: 6.59s\tremaining: 6.2s\n",
      "102:\tlearn: 0.0974970\ttotal: 6.66s\tremaining: 6.14s\n",
      "103:\tlearn: 0.0971067\ttotal: 6.72s\tremaining: 6.07s\n",
      "104:\tlearn: 0.0967277\ttotal: 6.79s\tremaining: 6.01s\n",
      "105:\tlearn: 0.0963336\ttotal: 6.86s\tremaining: 5.96s\n",
      "106:\tlearn: 0.0959566\ttotal: 6.93s\tremaining: 5.89s\n",
      "107:\tlearn: 0.0956035\ttotal: 6.99s\tremaining: 5.83s\n",
      "108:\tlearn: 0.0952270\ttotal: 7.06s\tremaining: 5.76s\n",
      "109:\tlearn: 0.0948750\ttotal: 7.13s\tremaining: 5.7s\n",
      "110:\tlearn: 0.0945144\ttotal: 7.19s\tremaining: 5.64s\n",
      "111:\tlearn: 0.0941550\ttotal: 7.26s\tremaining: 5.57s\n",
      "112:\tlearn: 0.0938254\ttotal: 7.32s\tremaining: 5.51s\n",
      "113:\tlearn: 0.0935186\ttotal: 7.39s\tremaining: 5.45s\n",
      "114:\tlearn: 0.0932157\ttotal: 7.46s\tremaining: 5.38s\n",
      "115:\tlearn: 0.0928846\ttotal: 7.52s\tremaining: 5.32s\n",
      "116:\tlearn: 0.0925810\ttotal: 7.59s\tremaining: 5.25s\n",
      "117:\tlearn: 0.0922705\ttotal: 7.66s\tremaining: 5.19s\n",
      "118:\tlearn: 0.0919389\ttotal: 7.72s\tremaining: 5.13s\n",
      "119:\tlearn: 0.0916767\ttotal: 7.79s\tremaining: 5.06s\n",
      "120:\tlearn: 0.0914241\ttotal: 7.85s\tremaining: 5s\n",
      "121:\tlearn: 0.0911379\ttotal: 7.92s\tremaining: 4.93s\n",
      "122:\tlearn: 0.0908823\ttotal: 7.98s\tremaining: 4.87s\n",
      "123:\tlearn: 0.0906402\ttotal: 8.05s\tremaining: 4.8s\n",
      "124:\tlearn: 0.0903557\ttotal: 8.12s\tremaining: 4.74s\n",
      "125:\tlearn: 0.0900961\ttotal: 8.18s\tremaining: 4.67s\n",
      "126:\tlearn: 0.0898398\ttotal: 8.24s\tremaining: 4.61s\n",
      "127:\tlearn: 0.0895872\ttotal: 8.31s\tremaining: 4.54s\n",
      "128:\tlearn: 0.0893537\ttotal: 8.37s\tremaining: 4.48s\n",
      "129:\tlearn: 0.0891201\ttotal: 8.44s\tremaining: 4.41s\n",
      "130:\tlearn: 0.0889051\ttotal: 8.51s\tremaining: 4.35s\n",
      "131:\tlearn: 0.0886944\ttotal: 8.57s\tremaining: 4.29s\n",
      "132:\tlearn: 0.0884738\ttotal: 8.63s\tremaining: 4.22s\n",
      "133:\tlearn: 0.0882681\ttotal: 8.7s\tremaining: 4.16s\n",
      "134:\tlearn: 0.0880453\ttotal: 8.77s\tremaining: 4.09s\n",
      "135:\tlearn: 0.0878353\ttotal: 8.83s\tremaining: 4.02s\n",
      "136:\tlearn: 0.0876449\ttotal: 8.91s\tremaining: 3.97s\n",
      "137:\tlearn: 0.0874382\ttotal: 8.98s\tremaining: 3.9s\n",
      "138:\tlearn: 0.0872342\ttotal: 9.04s\tremaining: 3.84s\n",
      "139:\tlearn: 0.0870184\ttotal: 9.11s\tremaining: 3.77s\n",
      "140:\tlearn: 0.0868176\ttotal: 9.18s\tremaining: 3.71s\n",
      "141:\tlearn: 0.0866116\ttotal: 9.24s\tremaining: 3.64s\n",
      "142:\tlearn: 0.0864042\ttotal: 9.31s\tremaining: 3.58s\n",
      "143:\tlearn: 0.0862142\ttotal: 9.38s\tremaining: 3.52s\n",
      "144:\tlearn: 0.0860377\ttotal: 9.44s\tremaining: 3.45s\n",
      "145:\tlearn: 0.0858374\ttotal: 9.5s\tremaining: 3.38s\n",
      "146:\tlearn: 0.0856433\ttotal: 9.57s\tremaining: 3.32s\n",
      "147:\tlearn: 0.0854667\ttotal: 9.63s\tremaining: 3.25s\n",
      "148:\tlearn: 0.0852831\ttotal: 9.7s\tremaining: 3.19s\n",
      "149:\tlearn: 0.0851311\ttotal: 9.76s\tremaining: 3.12s\n",
      "150:\tlearn: 0.0849776\ttotal: 9.82s\tremaining: 3.06s\n",
      "151:\tlearn: 0.0848101\ttotal: 9.88s\tremaining: 2.99s\n",
      "152:\tlearn: 0.0846466\ttotal: 9.95s\tremaining: 2.93s\n",
      "153:\tlearn: 0.0844503\ttotal: 10s\tremaining: 2.86s\n",
      "154:\tlearn: 0.0843052\ttotal: 10.1s\tremaining: 2.8s\n",
      "155:\tlearn: 0.0841359\ttotal: 10.1s\tremaining: 2.73s\n",
      "156:\tlearn: 0.0839442\ttotal: 10.2s\tremaining: 2.67s\n",
      "157:\tlearn: 0.0837857\ttotal: 10.3s\tremaining: 2.6s\n",
      "158:\tlearn: 0.0836026\ttotal: 10.3s\tremaining: 2.54s\n",
      "159:\tlearn: 0.0834280\ttotal: 10.4s\tremaining: 2.47s\n",
      "160:\tlearn: 0.0832520\ttotal: 10.5s\tremaining: 2.4s\n",
      "161:\tlearn: 0.0830866\ttotal: 10.5s\tremaining: 2.34s\n",
      "162:\tlearn: 0.0829587\ttotal: 10.6s\tremaining: 2.27s\n",
      "163:\tlearn: 0.0827905\ttotal: 10.7s\tremaining: 2.21s\n",
      "164:\tlearn: 0.0826265\ttotal: 10.7s\tremaining: 2.15s\n",
      "165:\tlearn: 0.0824587\ttotal: 10.8s\tremaining: 2.08s\n",
      "166:\tlearn: 0.0822984\ttotal: 10.9s\tremaining: 2.02s\n",
      "167:\tlearn: 0.0821615\ttotal: 10.9s\tremaining: 1.95s\n",
      "168:\tlearn: 0.0820059\ttotal: 11s\tremaining: 1.89s\n",
      "169:\tlearn: 0.0818596\ttotal: 11.1s\tremaining: 1.82s\n",
      "170:\tlearn: 0.0817137\ttotal: 11.1s\tremaining: 1.76s\n",
      "171:\tlearn: 0.0815765\ttotal: 11.2s\tremaining: 1.69s\n",
      "172:\tlearn: 0.0814414\ttotal: 11.3s\tremaining: 1.63s\n",
      "173:\tlearn: 0.0813164\ttotal: 11.3s\tremaining: 1.56s\n",
      "174:\tlearn: 0.0811924\ttotal: 11.4s\tremaining: 1.5s\n",
      "175:\tlearn: 0.0810624\ttotal: 11.5s\tremaining: 1.43s\n",
      "176:\tlearn: 0.0809342\ttotal: 11.5s\tremaining: 1.37s\n",
      "177:\tlearn: 0.0808123\ttotal: 11.6s\tremaining: 1.3s\n",
      "178:\tlearn: 0.0806940\ttotal: 11.7s\tremaining: 1.24s\n",
      "179:\tlearn: 0.0805826\ttotal: 11.7s\tremaining: 1.17s\n",
      "180:\tlearn: 0.0804684\ttotal: 11.8s\tremaining: 1.11s\n",
      "181:\tlearn: 0.0803611\ttotal: 11.9s\tremaining: 1.04s\n",
      "182:\tlearn: 0.0802369\ttotal: 11.9s\tremaining: 978ms\n",
      "183:\tlearn: 0.0801253\ttotal: 12s\tremaining: 913ms\n",
      "184:\tlearn: 0.0800193\ttotal: 12.1s\tremaining: 848ms\n",
      "185:\tlearn: 0.0799171\ttotal: 12.1s\tremaining: 782ms\n",
      "186:\tlearn: 0.0797977\ttotal: 12.2s\tremaining: 717ms\n",
      "187:\tlearn: 0.0796945\ttotal: 12.3s\tremaining: 652ms\n",
      "188:\tlearn: 0.0795755\ttotal: 12.3s\tremaining: 587ms\n",
      "189:\tlearn: 0.0794609\ttotal: 12.4s\tremaining: 522ms\n",
      "190:\tlearn: 0.0793640\ttotal: 12.5s\tremaining: 457ms\n",
      "191:\tlearn: 0.0792324\ttotal: 12.5s\tremaining: 391ms\n",
      "192:\tlearn: 0.0791149\ttotal: 12.6s\tremaining: 326ms\n",
      "193:\tlearn: 0.0790258\ttotal: 12.7s\tremaining: 261ms\n",
      "194:\tlearn: 0.0789309\ttotal: 12.7s\tremaining: 196ms\n",
      "195:\tlearn: 0.0788355\ttotal: 12.8s\tremaining: 131ms\n",
      "196:\tlearn: 0.0787345\ttotal: 12.9s\tremaining: 65.3ms\n",
      "197:\tlearn: 0.0786460\ttotal: 12.9s\tremaining: 0us\n"
     ]
    },
    {
     "data": {
      "text/plain": [
       "<catboost.core.CatBoostClassifier at 0x7b7faff58580>"
      ]
     },
     "execution_count": 13,
     "metadata": {},
     "output_type": "execute_result"
    }
   ],
   "source": [
    "ctbc = CatBoostClassifier(task_type='GPU', bootstrap_type=\"Poisson\", **catb_best_params)\n",
    "ctbc.fit(X_train, y_train, verbose = True)"
   ]
  },
  {
   "cell_type": "code",
   "execution_count": 14,
   "id": "243ae331",
   "metadata": {
    "execution": {
     "iopub.execute_input": "2023-06-01T06:32:39.417920Z",
     "iopub.status.busy": "2023-06-01T06:32:39.417486Z",
     "iopub.status.idle": "2023-06-01T06:32:52.959963Z",
     "shell.execute_reply": "2023-06-01T06:32:52.958809Z"
    },
    "papermill": {
     "duration": 13.562258,
     "end_time": "2023-06-01T06:32:52.962197",
     "exception": false,
     "start_time": "2023-06-01T06:32:39.399939",
     "status": "completed"
    },
    "tags": []
   },
   "outputs": [
    {
     "data": {
      "image/png": "[encoded data removed]",
      "text/plain": [
       "<Figure size 640x480 with 2 Axes>"
      ]
     },
     "metadata": {},
     "output_type": "display_data"
    },
    {
     "name": "stdout",
     "output_type": "stream",
     "text": [
      "Accuracy on train set of the model CatBoostClassifier: 0.9708\n",
      "Precision on train set of the model CatBoostClassifier: 0.9656\n",
      "Recall on train set of the model CatBoostClassifier: 0.9764\n",
      "F1 on train set of the model CatBoostClassifier: 0.9710\n",
      "AUC on train set of the model CatBoostClassifier: 0.9708\n",
      "\n",
      "              precision    recall  f1-score   support\n",
      "\n",
      "           0       0.98      0.97      0.97   1999996\n",
      "           1       0.97      0.98      0.97   2000004\n",
      "\n",
      "    accuracy                           0.97   4000000\n",
      "   macro avg       0.97      0.97      0.97   4000000\n",
      "weighted avg       0.97      0.97      0.97   4000000\n",
      "\n"
     ]
    },
    {
     "data": {
      "text/plain": [
       "{'accuracy': 0.97084525,\n",
       " 'precision': 0.965644765150882,\n",
       " 'recall': 0.9764295471409057,\n",
       " 'f1': 0.9710072109677315,\n",
       " 'auc': 0.9708452388313833}"
      ]
     },
     "execution_count": 14,
     "metadata": {},
     "output_type": "execute_result"
    }
   ],
   "source": [
    "evaluate_model(\n",
    "    ctbc,\n",
    "    on=\"train\",\n",
    "    plot_cmat=True,\n",
    "    verbose=True,)"
   ]
  },
  {
   "cell_type": "code",
   "execution_count": 15,
   "id": "2f6d6a1e",
   "metadata": {
    "execution": {
     "iopub.execute_input": "2023-06-01T06:32:52.990638Z",
     "iopub.status.busy": "2023-06-01T06:32:52.990348Z",
     "iopub.status.idle": "2023-06-01T06:32:59.164008Z",
     "shell.execute_reply": "2023-06-01T06:32:59.162812Z"
    },
    "papermill": {
     "duration": 6.190082,
     "end_time": "2023-06-01T06:32:59.166061",
     "exception": false,
     "start_time": "2023-06-01T06:32:52.975979",
     "status": "completed"
    },
    "tags": []
   },
   "outputs": [
    {
     "data": {
      "image/png": "[encoded data removed]",
      "text/plain": [
       "<Figure size 640x480 with 2 Axes>"
      ]
     },
     "metadata": {},
     "output_type": "display_data"
    },
    {
     "name": "stdout",
     "output_type": "stream",
     "text": [
      "Accuracy on test set of the model CatBoostClassifier: 0.9709\n",
      "Precision on test set of the model CatBoostClassifier: 0.9657\n",
      "Recall on test set of the model CatBoostClassifier: 0.9765\n",
      "F1 on test set of the model CatBoostClassifier: 0.9710\n",
      "AUC on test set of the model CatBoostClassifier: 0.9709\n",
      "\n",
      "              precision    recall  f1-score   support\n",
      "\n",
      "           0       0.98      0.97      0.97   1000004\n",
      "           1       0.97      0.98      0.97    999996\n",
      "\n",
      "    accuracy                           0.97   2000000\n",
      "   macro avg       0.97      0.97      0.97   2000000\n",
      "weighted avg       0.97      0.97      0.97   2000000\n",
      "\n"
     ]
    },
    {
     "data": {
      "text/plain": [
       "{'accuracy': 0.9708705,\n",
       " 'precision': 0.9656683811872816,\n",
       " 'recall': 0.9764559058236233,\n",
       " 'f1': 0.9710321838657532,\n",
       " 'auc': 0.9708705223415339}"
      ]
     },
     "execution_count": 15,
     "metadata": {},
     "output_type": "execute_result"
    }
   ],
   "source": [
    "evaluate_model(\n",
    "    ctbc,\n",
    "    on=\"test\",\n",
    "    plot_cmat=True,\n",
    "    verbose=True,)"
   ]
  },
  {
   "cell_type": "code",
   "execution_count": 16,
   "id": "f432d8d4",
   "metadata": {
    "execution": {
     "iopub.execute_input": "2023-06-01T06:32:59.196271Z",
     "iopub.status.busy": "2023-06-01T06:32:59.195756Z",
     "iopub.status.idle": "2023-06-01T06:33:01.451617Z",
     "shell.execute_reply": "2023-06-01T06:33:01.450536Z"
    },
    "papermill": {
     "duration": 2.273038,
     "end_time": "2023-06-01T06:33:01.453839",
     "exception": false,
     "start_time": "2023-06-01T06:32:59.180801",
     "status": "completed"
    },
    "tags": []
   },
   "outputs": [
    {
     "name": "stdout",
     "output_type": "stream",
     "text": [
      "0.9708705\n"
     ]
    }
   ],
   "source": [
    "ctbc_score = ctbc.score(X_test, y_test)\n",
    "print(ctbc_score)"
   ]
  },
  {
   "attachments": {},
   "cell_type": "markdown",
   "id": "0dd4d133",
   "metadata": {},
   "source": [
    "Catboost also performs quite well. It has a test accuracy of over 97%! Though, it is slightly worse than XGBoost."
   ]
  },
  {
   "attachments": {},
   "cell_type": "markdown",
   "id": "c2613212",
   "metadata": {
    "papermill": {
     "duration": 0.013757,
     "end_time": "2023-06-01T06:33:01.482113",
     "exception": false,
     "start_time": "2023-06-01T06:33:01.468356",
     "status": "completed"
    },
    "tags": []
   },
   "source": [
    "# Creating Ensemble"
   ]
  },
  {
   "attachments": {},
   "cell_type": "markdown",
   "id": "6a026d03",
   "metadata": {},
   "source": [
    "Let's create an ensemble of these models and see how it performs:"
   ]
  },
  {
   "attachments": {},
   "cell_type": "markdown",
   "id": "9aed7a33",
   "metadata": {},
   "source": [
    "> Note that right now we have just two models in the ensemble and hence the ensemble might not perform that well. In the future, we will add other models to the ensemble and see how it performs."
   ]
  },
  {
   "cell_type": "code",
   "execution_count": 17,
   "id": "b04dcd59",
   "metadata": {
    "execution": {
     "iopub.execute_input": "2023-06-01T06:33:01.511318Z",
     "iopub.status.busy": "2023-06-01T06:33:01.511016Z",
     "iopub.status.idle": "2023-06-01T06:33:01.518055Z",
     "shell.execute_reply": "2023-06-01T06:33:01.517085Z"
    },
    "papermill": {
     "duration": 0.023667,
     "end_time": "2023-06-01T06:33:01.519808",
     "exception": false,
     "start_time": "2023-06-01T06:33:01.496141",
     "status": "completed"
    },
    "tags": []
   },
   "outputs": [],
   "source": [
    "def evaluate_ensemble(models, X, y, voting=\"soft\"):\n",
    "    \"\"\"\n",
    "    Evaluates an ensemble of models on a given dataset.\n",
    "\n",
    "    Parameters:\n",
    "    models (list): A list of trained models to evaluate.\n",
    "    X (array-like): The input data to evaluate the models on.\n",
    "    y (array-like): The target labels for the input data.\n",
    "    voting (str): The type of voting to use for the ensemble. Can be \"soft\" or \"hard\".\n",
    "\n",
    "    Returns:\n",
    "    preds (array-like): The predicted labels for the input data.\n",
    "    acc (float): The accuracy of the ensemble prediction.\n",
    "    \"\"\"\n",
    "    # Initialize an array to store the predictions for each model\n",
    "    preds = np.zeros((len(models), len(X)))\n",
    "\n",
    "    # Make predictions for each model\n",
    "    for i, model in tqdm(enumerate(models), \"Predicting...\"):\n",
    "        if voting == \"soft\":\n",
    "            preds[i] = model.predict_proba(X)[:, 1]\n",
    "        else:\n",
    "            preds[i] = model.predict(X)\n",
    "\n",
    "    # Compute the ensemble prediction based on the voting type\n",
    "    preds = np.round(np.mean(preds, axis=0))\n",
    "\n",
    "    # Compute the accuracy of the ensemble prediction\n",
    "    acc = np.mean(preds == y)\n",
    "\n",
    "    return preds, acc"
   ]
  },
  {
   "cell_type": "code",
   "execution_count": 18,
   "id": "36f34768",
   "metadata": {
    "execution": {
     "iopub.execute_input": "2023-06-01T06:33:01.550000Z",
     "iopub.status.busy": "2023-06-01T06:33:01.548622Z",
     "iopub.status.idle": "2023-06-01T06:34:00.187553Z",
     "shell.execute_reply": "2023-06-01T06:34:00.186603Z"
    },
    "papermill": {
     "duration": 58.655716,
     "end_time": "2023-06-01T06:34:00.189710",
     "exception": false,
     "start_time": "2023-06-01T06:33:01.533994",
     "status": "completed"
    },
    "tags": []
   },
   "outputs": [
    {
     "name": "stderr",
     "output_type": "stream",
     "text": [
      "Predicting...: 2it [00:29, 14.53s/it]\n",
      "Predicting...: 2it [00:29, 14.77s/it]\n"
     ]
    }
   ],
   "source": [
    "models = [xgbc, ctbc]\n",
    "soft_preds, soft_score = evaluate_ensemble(models, X_test, y_test, \"soft\")\n",
    "hard_preds, hard_score = evaluate_ensemble(models, X_test, y_test, \"hard\")"
   ]
  },
  {
   "cell_type": "code",
   "execution_count": 19,
   "id": "6ccfe3a0",
   "metadata": {
    "execution": {
     "iopub.execute_input": "2023-06-01T06:34:00.221588Z",
     "iopub.status.busy": "2023-06-01T06:34:00.220751Z",
     "iopub.status.idle": "2023-06-01T06:34:00.226442Z",
     "shell.execute_reply": "2023-06-01T06:34:00.225381Z"
    },
    "papermill": {
     "duration": 0.023857,
     "end_time": "2023-06-01T06:34:00.229100",
     "exception": false,
     "start_time": "2023-06-01T06:34:00.205243",
     "status": "completed"
    },
    "tags": []
   },
   "outputs": [
    {
     "name": "stdout",
     "output_type": "stream",
     "text": [
      "XGBoost: 0.9822525 | Catboost: 0.9708705 | Soft Ensemble: 0.9803985 | Hard Ensemble 0.9771195\n"
     ]
    }
   ],
   "source": [
    "print(f\"XGBoost: {xgbc_score} | Catboost: {ctbc_score} | Soft Ensemble: {soft_score} | Hard Ensemble {hard_score}\")"
   ]
  },
  {
   "attachments": {},
   "cell_type": "markdown",
   "id": "df1110b5",
   "metadata": {
    "papermill": {
     "duration": 0.014624,
     "end_time": "2023-06-01T06:34:00.258457",
     "exception": false,
     "start_time": "2023-06-01T06:34:00.243833",
     "status": "completed"
    },
    "tags": []
   },
   "source": [
    "It looks like XGBoost alone is giving the most accurate result! No surprise there, as it is the best model in the ensemble and we have just two models in the ensemble."
   ]
  }
 ],
 "metadata": {
  "kernelspec": {
   "display_name": "Python 3",
   "language": "python",
   "name": "python3"
  },
  "language_info": {
   "codemirror_mode": {
    "name": "ipython",
    "version": 3
   },
   "file_extension": ".py",
   "mimetype": "text/x-python",
   "name": "python",
   "nbconvert_exporter": "python",
   "pygments_lexer": "ipython3",
   "version": "3.10.10"
  },
  "papermill": {
   "default_parameters": {},
   "duration": 452.774966,
   "end_time": "2023-06-01T06:34:01.273949",
   "environment_variables": {},
   "exception": null,
   "input_path": "__notebook__.ipynb",
   "output_path": "__notebook__.ipynb",
   "parameters": {},
   "start_time": "2023-06-01T06:26:28.498983",
   "version": "2.4.0"
  }
 },
 "nbformat": 4,
 "nbformat_minor": 5
}

{
 "cells": [
  {
   "attachments": {},
   "cell_type": "markdown",
   "id": "d064dc9c",
   "metadata": {
    "execution": {
     "iopub.execute_input": "2023-06-01T06:21:08.990542Z",
     "iopub.status.busy": "2023-06-01T06:21:08.989756Z",
     "iopub.status.idle": "2023-06-01T06:21:08.997968Z",
     "shell.execute_reply": "2023-06-01T06:21:08.996537Z",
     "shell.execute_reply.started": "2023-06-01T06:21:08.990502Z"
    },
    "papermill": {
     "duration": 0.011158,
     "end_time": "2023-06-01T09:17:52.540407",
     "exception": false,
     "start_time": "2023-06-01T09:17:52.529249",
     "status": "completed"
    },
    "tags": []
   },
   "source": [
    "# Imports"
   ]
  },
  {
   "cell_type": "code",
   "execution_count": 1,
   "id": "4aee942c",
   "metadata": {
    "_cell_guid": "b1076dfc-b9ad-4769-8c92-a6c4dae69d19",
    "_uuid": "8f2839f25d086af736a60e9eeb907d3b93b6e0e5",
    "execution": {
     "iopub.execute_input": "2023-06-01T09:17:52.563197Z",
     "iopub.status.busy": "2023-06-01T09:17:52.562728Z",
     "iopub.status.idle": "2023-06-01T09:17:59.199042Z",
     "shell.execute_reply": "2023-06-01T09:17:59.198058Z"
    },
    "papermill": {
     "duration": 6.650757,
     "end_time": "2023-06-01T09:17:59.201636",
     "exception": false,
     "start_time": "2023-06-01T09:17:52.550879",
     "status": "completed"
    },
    "tags": []
   },
   "outputs": [
    {
     "name": "stderr",
     "output_type": "stream",
     "text": [
      "/opt/conda/lib/python3.10/site-packages/scipy/__init__.py:146: UserWarning: A NumPy version >=1.16.5 and <1.23.0 is required for this version of SciPy (detected version 1.23.5\n",
      "  warnings.warn(f\"A NumPy version >={np_minversion} and <{np_maxversion}\"\n"
     ]
    }
   ],
   "source": [
    "import pandas as pd\n",
    "import numpy as np\n",
    "import matplotlib.pyplot as plt\n",
    "from tqdm import tqdm\n",
    "import gc\n",
    "\n",
    "from sklearn.preprocessing import StandardScaler\n",
    "from sklearn.model_selection import train_test_split\n",
    "from sklearn.metrics import (\n",
    "    accuracy_score,\n",
    "    confusion_matrix,\n",
    "    classification_report,\n",
    "    ConfusionMatrixDisplay,\n",
    "    roc_auc_score,\n",
    ")\n",
    "\n",
    "from xgboost import XGBClassifier\n",
    "from catboost import CatBoostClassifier\n",
    "from cuml.ensemble import RandomForestClassifier"
   ]
  },
  {
   "attachments": {},
   "cell_type": "markdown",
   "id": "bc8f1ec9",
   "metadata": {
    "papermill": {
     "duration": 0.010102,
     "end_time": "2023-06-01T09:17:59.223384",
     "exception": false,
     "start_time": "2023-06-01T09:17:59.213282",
     "status": "completed"
    },
    "tags": []
   },
   "source": [
    "# Preparing Data"
   ]
  },
  {
   "attachments": {},
   "cell_type": "markdown",
   "id": "b55c61cc",
   "metadata": {
    "papermill": {
     "duration": 0.009973,
     "end_time": "2023-06-01T09:17:59.243595",
     "exception": false,
     "start_time": "2023-06-01T09:17:59.233622",
     "status": "completed"
    },
    "tags": []
   },
   "source": [
    "## Loading Data"
   ]
  },
  {
   "cell_type": "code",
   "execution_count": 2,
   "id": "8eaf24a0",
   "metadata": {
    "execution": {
     "iopub.execute_input": "2023-06-01T09:17:59.266531Z",
     "iopub.status.busy": "2023-06-01T09:17:59.265478Z",
     "iopub.status.idle": "2023-06-01T09:19:13.246324Z",
     "shell.execute_reply": "2023-06-01T09:19:13.245334Z"
    },
    "papermill": {
     "duration": 73.995118,
     "end_time": "2023-06-01T09:19:13.248911",
     "exception": false,
     "start_time": "2023-06-01T09:17:59.253793",
     "status": "completed"
    },
    "tags": []
   },
   "outputs": [],
   "source": [
    "train = pd.read_csv(\"/kaggle/input/celestialclassify/train.csv\")\n",
    "test = pd.read_csv(\"/kaggle/input/celestialclassify/test.csv\")"
   ]
  },
  {
   "attachments": {},
   "cell_type": "markdown",
   "id": "f9458ea3",
   "metadata": {
    "papermill": {
     "duration": 0.010031,
     "end_time": "2023-06-01T09:19:13.269640",
     "exception": false,
     "start_time": "2023-06-01T09:19:13.259609",
     "status": "completed"
    },
    "tags": []
   },
   "source": [
    "## Replace NaNs"
   ]
  },
  {
   "cell_type": "code",
   "execution_count": 3,
   "id": "8d0cb867",
   "metadata": {
    "execution": {
     "iopub.execute_input": "2023-06-01T09:19:13.292431Z",
     "iopub.status.busy": "2023-06-01T09:19:13.291452Z",
     "iopub.status.idle": "2023-06-01T09:19:13.358648Z",
     "shell.execute_reply": "2023-06-01T09:19:13.357471Z"
    },
    "papermill": {
     "duration": 0.081336,
     "end_time": "2023-06-01T09:19:13.361334",
     "exception": false,
     "start_time": "2023-06-01T09:19:13.279998",
     "status": "completed"
    },
    "tags": []
   },
   "outputs": [
    {
     "name": "stdout",
     "output_type": "stream",
     "text": [
      "0\n",
      "0\n"
     ]
    }
   ],
   "source": [
    "train[\"rowv\"].replace(-9999, np.nan, inplace=True)\n",
    "train[\"rowv\"].fillna(train[\"rowv\"].mean(), inplace=True)\n",
    "print(train[\"rowv\"].isnull().sum())\n",
    "\n",
    "test[\"colv\"].replace(-9999, np.nan, inplace=True)\n",
    "test[\"colv\"].fillna(test[\"colv\"].mean(), inplace=True)\n",
    "print(test[\"colv\"].isnull().sum())"
   ]
  },
  {
   "attachments": {},
   "cell_type": "markdown",
   "id": "c2419500",
   "metadata": {
    "papermill": {
     "duration": 0.011469,
     "end_time": "2023-06-01T09:19:13.383501",
     "exception": false,
     "start_time": "2023-06-01T09:19:13.372032",
     "status": "completed"
    },
    "tags": []
   },
   "source": [
    "## Standardizing and Creating Train and Test Sets"
   ]
  },
  {
   "cell_type": "code",
   "execution_count": 4,
   "id": "75be7697",
   "metadata": {
    "execution": {
     "iopub.execute_input": "2023-06-01T09:19:13.405445Z",
     "iopub.status.busy": "2023-06-01T09:19:13.405080Z",
     "iopub.status.idle": "2023-06-01T09:19:14.479126Z",
     "shell.execute_reply": "2023-06-01T09:19:14.478162Z"
    },
    "papermill": {
     "duration": 1.087534,
     "end_time": "2023-06-01T09:19:14.481284",
     "exception": false,
     "start_time": "2023-06-01T09:19:13.393750",
     "status": "completed"
    },
    "tags": []
   },
   "outputs": [
    {
     "data": {
      "text/plain": [
       "0"
      ]
     },
     "execution_count": 4,
     "metadata": {},
     "output_type": "execute_result"
    }
   ],
   "source": [
    "X_train = train.drop(\"type\", axis=1)\n",
    "y_train = train[\"type\"]\n",
    "del train\n",
    "gc.collect()\n",
    "X_test = test.drop(\"type\", axis = 1)\n",
    "y_test = test[\"type\"]\n",
    "del test\n",
    "gc.collect()"
   ]
  },
  {
   "cell_type": "code",
   "execution_count": 5,
   "id": "39c4be20",
   "metadata": {
    "execution": {
     "iopub.execute_input": "2023-06-01T09:19:14.503827Z",
     "iopub.status.busy": "2023-06-01T09:19:14.503503Z",
     "iopub.status.idle": "2023-06-01T09:19:18.698748Z",
     "shell.execute_reply": "2023-06-01T09:19:18.697751Z"
    },
    "papermill": {
     "duration": 4.209344,
     "end_time": "2023-06-01T09:19:18.701128",
     "exception": false,
     "start_time": "2023-06-01T09:19:14.491784",
     "status": "completed"
    },
    "tags": []
   },
   "outputs": [],
   "source": [
    "y_train = y_train.apply(lambda x: 1 if x==\"star\" else 0)\n",
    "y_test = y_test.apply(lambda x: 1 if x==\"star\" else 0)"
   ]
  },
  {
   "cell_type": "code",
   "execution_count": 6,
   "id": "88b13e56",
   "metadata": {
    "execution": {
     "iopub.execute_input": "2023-06-01T09:19:18.723594Z",
     "iopub.status.busy": "2023-06-01T09:19:18.723271Z",
     "iopub.status.idle": "2023-06-01T09:19:23.182631Z",
     "shell.execute_reply": "2023-06-01T09:19:23.181620Z"
    },
    "papermill": {
     "duration": 4.47339,
     "end_time": "2023-06-01T09:19:23.185072",
     "exception": false,
     "start_time": "2023-06-01T09:19:18.711682",
     "status": "completed"
    },
    "tags": []
   },
   "outputs": [],
   "source": [
    "scalar = StandardScaler()\n",
    "\n",
    "X_train = scalar.fit_transform(X_train)\n",
    "X_test = scalar.transform(X_test)"
   ]
  },
  {
   "attachments": {},
   "cell_type": "markdown",
   "id": "c6f69515",
   "metadata": {
    "papermill": {
     "duration": 0.010262,
     "end_time": "2023-06-01T09:19:23.206617",
     "exception": false,
     "start_time": "2023-06-01T09:19:23.196355",
     "status": "completed"
    },
    "tags": []
   },
   "source": [
    "## Some Functions to Evaluate Models"
   ]
  },
  {
   "cell_type": "code",
   "execution_count": 7,
   "id": "8ba35f49",
   "metadata": {
    "execution": {
     "iopub.execute_input": "2023-06-01T09:19:23.229383Z",
     "iopub.status.busy": "2023-06-01T09:19:23.229014Z",
     "iopub.status.idle": "2023-06-01T09:19:23.241530Z",
     "shell.execute_reply": "2023-06-01T09:19:23.240489Z"
    },
    "jupyter": {
     "source_hidden": true
    },
    "papermill": {
     "duration": 0.026945,
     "end_time": "2023-06-01T09:19:23.244015",
     "exception": false,
     "start_time": "2023-06-01T09:19:23.217070",
     "status": "completed"
    },
    "tags": []
   },
   "outputs": [],
   "source": [
    "def cm_to_metrics(cm):\n",
    "    \"\"\"Calculate accuracy, precision, recall and f1 score from confusion matrix.\n",
    "    \n",
    "    Parameters\n",
    "    ----------\n",
    "    cm : array-like\n",
    "        Confusion matrix.\n",
    "    \n",
    "    Returns\n",
    "    -------\n",
    "    accuracy : float\n",
    "        Accuracy score.\n",
    "    precision : float\n",
    "        Precision score.\n",
    "    recall : float\n",
    "        Recall score.\n",
    "    f1 : float\n",
    "        F1 score.\n",
    "    \"\"\"\n",
    "    tn, fp, fn, tp = cm.ravel()\n",
    "    accuracy = (tp + tn) / (tp + tn + fp + fn)\n",
    "    precision = tp / (tp + fp)\n",
    "    recall = tp / (tp + fn)\n",
    "    f1 = 2 * (precision * recall) / (precision + recall)\n",
    "    return accuracy, precision, recall, f1\n",
    "\n",
    "def evaluate_model(\n",
    "    model,\n",
    "    on=\"train\",\n",
    "    plot_cmat=False,\n",
    "    verbose=True,\n",
    "):\n",
    "    \"\"\"\n",
    "    This function evaluates a model and returns the metrics.\n",
    "    It can be used to evaluate the model on the training set or the test set.\n",
    "    It can also plot the confusion matrix.\n",
    "    Parameters\n",
    "    ----------\n",
    "    model : object\n",
    "        The model to be evaluated.\n",
    "    on : str, optional\n",
    "        The set on which the model will be evaluated. The default is \"train\".\n",
    "    plot_cmat : bool, optional\n",
    "        Whether to plot the confusion matrix. The default is False.\n",
    "    verbose : bool, optional\n",
    "        Whether to print the metrics. The default is True.\n",
    "\n",
    "    Returns\n",
    "    -------\n",
    "    result : dict\n",
    "        A dictionary with the metrics.\n",
    "    \n",
    "    Example\n",
    "    -------\n",
    "    >>> result = evaluate_model(model)\n",
    "    >>> print(result)\n",
    "    {'accuracy': 0.8, 'precision': 0.8, 'recall': 0.8, 'f1': 0.8, 'auc': 0.8}\n",
    "    \n",
    "    >>> result = evaluate_model(model, on=\"test\")\n",
    "    >>> print(result)\n",
    "    {'accuracy': 0.8, 'precision': 0.8, 'recall': 0.8, 'f1': 0.8, 'auc': 0.8}\n",
    "    \n",
    "    >>> result = evaluate_model(model, plot_cmat=True)\n",
    "    >>> print(result)\n",
    "    {'accuracy': 0.8, 'precision': 0.8, 'recall': 0.8, 'f1': 0.8, 'auc': 0.8}\n",
    "    \n",
    "    >>> result = evaluate_model(model, on=\"test\", plot_cmat=True)\n",
    "    >>> print(result)\n",
    "    {'accuracy': 0.8, 'precision': 0.8, 'recall': 0.8, 'f1': 0.8, 'auc': 0.8}\n",
    "    \"\"\"\n",
    "    if on == \"train\":\n",
    "        X = X_train\n",
    "        y = y_train\n",
    "    else:\n",
    "        X = X_test\n",
    "        y = y_test\n",
    "    y_pred = model.predict(X)\n",
    "    cm = confusion_matrix(y, y_pred)\n",
    "    accuracy, precision, recall, f1 = cm_to_metrics(cm)\n",
    "    auc_score = roc_auc_score(y, y_pred)\n",
    "\n",
    "    if plot_cmat:\n",
    "        disp = ConfusionMatrixDisplay(\n",
    "            confusion_matrix=cm, display_labels=[\"star\", \"galaxy\"]\n",
    "        )\n",
    "        disp.plot()\n",
    "        plt.show()\n",
    "    if verbose:\n",
    "        try:\n",
    "            model_name = model.__class__.__name__\n",
    "        except:\n",
    "            model_name = \"\"\n",
    "        print(f\"Accuracy on {on} set of the model {model_name}: {accuracy:.4f}\")\n",
    "        print(f\"Precision on {on} set of the model {model_name}: {precision:.4f}\")\n",
    "        print(f\"Recall on {on} set of the model {model_name}: {recall:.4f}\")\n",
    "        print(f\"F1 on {on} set of the model {model_name}: {f1:.4f}\")\n",
    "        print(f\"AUC on {on} set of the model {model_name}: {auc_score:.4f}\\n\")\n",
    "        cr = classification_report(y, y_pred)\n",
    "        print(cr)\n",
    "    result = {\n",
    "        \"accuracy\": accuracy,\n",
    "        \"precision\": precision,\n",
    "        \"recall\": recall,\n",
    "        \"f1\": f1,\n",
    "        \"auc\": auc_score,\n",
    "    }\n",
    "    return result"
   ]
  },
  {
   "attachments": {},
   "cell_type": "markdown",
   "id": "a8d71b7d",
   "metadata": {
    "papermill": {
     "duration": 0.010938,
     "end_time": "2023-06-01T09:19:23.265892",
     "exception": false,
     "start_time": "2023-06-01T09:19:23.254954",
     "status": "completed"
    },
    "tags": []
   },
   "source": [
    "# The Models"
   ]
  },
  {
   "attachments": {},
   "cell_type": "markdown",
   "id": "c984eabf",
   "metadata": {
    "papermill": {
     "duration": 0.010013,
     "end_time": "2023-06-01T09:19:23.286973",
     "exception": false,
     "start_time": "2023-06-01T09:19:23.276960",
     "status": "completed"
    },
    "tags": []
   },
   "source": [
    "The goal was to create an ensemble of four models:\n",
    "\n",
    "1. Support Vector Machine\n",
    "2. Random Forest\n",
    "3. XGBClassifier\n",
    "4. CatBoostClassifier\n",
    "\n",
    "However, as dataset is huge, training SVM started to become infeasible. Training using `sklearn` as well as `RAPIDS` was taking too much memory and time. So, I decided to drop SVM from the ensemble. This means that the final ensemble is an ensemble of three models."
   ]
  },
  {
   "attachments": {},
   "cell_type": "markdown",
   "id": "0683ff33",
   "metadata": {
    "papermill": {
     "duration": 0.01046,
     "end_time": "2023-06-01T09:19:23.329457",
     "exception": false,
     "start_time": "2023-06-01T09:19:23.318997",
     "status": "completed"
    },
    "tags": []
   },
   "source": [
    "Here are the best parameters for the models after hyperparameter tuning:"
   ]
  },
  {
   "cell_type": "code",
   "execution_count": 8,
   "id": "d96f1b39",
   "metadata": {
    "execution": {
     "iopub.execute_input": "2023-06-01T09:19:23.354728Z",
     "iopub.status.busy": "2023-06-01T09:19:23.354342Z",
     "iopub.status.idle": "2023-06-01T09:19:23.361948Z",
     "shell.execute_reply": "2023-06-01T09:19:23.360927Z"
    },
    "papermill": {
     "duration": 0.023411,
     "end_time": "2023-06-01T09:19:23.364381",
     "exception": false,
     "start_time": "2023-06-01T09:19:23.340970",
     "status": "completed"
    },
    "tags": []
   },
   "outputs": [],
   "source": [
    "# svc_best_params = {\n",
    "#     \"C\": 16296.601892646648,\n",
    "#     \"gamma\": 0.0011879874407358082,\n",
    "#     \"kernel\": \"rbf\",\n",
    "#     \"degree\": 2,\n",
    "#     \"coef0\": 61.32196047340159,\n",
    "# }\n",
    "\n",
    "rf_best_params = {\n",
    "    \"n_estimators\": 76,\n",
    "    \"max_depth\": 19,\n",
    "    \"min_samples_split\": 10,\n",
    "    \"min_samples_leaf\": 2,\n",
    "    \"max_features\": \"sqrt\",\n",
    "    \"max_samples\": 1.0,\n",
    "}\n",
    "\n",
    "xgb_best_params = {\n",
    "    \"n_estimators\": 188,\n",
    "    \"max_depth\": 17,\n",
    "    \"learning_rate\": 0.08245844777734937,\n",
    "    \"subsample\": 0.9,\n",
    "    \"reg_alpha\": 0.16634334643800422,\n",
    "    \"reg_lambda\": 0.010449329514317554,\n",
    "    \"gamma\": 3.5712964675328855e-05,\n",
    "    \"min_child_weight\": 17,\n",
    "}\n",
    "\n",
    "catb_best_params = {\n",
    "    \"n_estimators\": 198,\n",
    "    \"max_depth\": 10,\n",
    "    \"learning_rate\": 0.009814179840225703,\n",
    "    \"subsample\": 0.8,\n",
    "    \"reg_lambda\": 0.7960086364994374,\n",
    "    \"min_child_samples\": 3,\n",
    "    \"max_bin\": 255,\n",
    "}\n"
   ]
  },
  {
   "attachments": {},
   "cell_type": "markdown",
   "id": "abd6872a",
   "metadata": {
    "papermill": {
     "duration": 0.011956,
     "end_time": "2023-06-01T09:19:23.388506",
     "exception": false,
     "start_time": "2023-06-01T09:19:23.376550",
     "status": "completed"
    },
    "tags": []
   },
   "source": [
    "## Random Forest"
   ]
  },
  {
   "attachments": {},
   "cell_type": "markdown",
   "id": "8de73aec",
   "metadata": {
    "papermill": {
     "duration": 0.012002,
     "end_time": "2023-06-01T09:19:23.412872",
     "exception": false,
     "start_time": "2023-06-01T09:19:23.400870",
     "status": "completed"
    },
    "tags": []
   },
   "source": [
    "We will be using `RandomForestClassifier` for `cuml` as this supports use of GPU. The parameters will be the same as above:"
   ]
  },
  {
   "cell_type": "code",
   "execution_count": 9,
   "id": "319ca3f3",
   "metadata": {
    "execution": {
     "iopub.execute_input": "2023-06-01T09:19:23.438646Z",
     "iopub.status.busy": "2023-06-01T09:19:23.438265Z",
     "iopub.status.idle": "2023-06-01T09:20:02.955771Z",
     "shell.execute_reply": "2023-06-01T09:20:02.954884Z"
    },
    "papermill": {
     "duration": 39.539667,
     "end_time": "2023-06-01T09:20:02.964639",
     "exception": false,
     "start_time": "2023-06-01T09:19:23.424972",
     "status": "completed"
    },
    "tags": []
   },
   "outputs": [
    {
     "name": "stderr",
     "output_type": "stream",
     "text": [
      "/opt/conda/lib/python3.10/site-packages/cuml/internals/api_decorators.py:188: UserWarning: To use pickling first train using float32 data to fit the estimator\n",
      "  ret = func(*args, **kwargs)\n"
     ]
    },
    {
     "data": {
      "text/plain": [
       "RandomForestClassifier()"
      ]
     },
     "execution_count": 9,
     "metadata": {},
     "output_type": "execute_result"
    }
   ],
   "source": [
    "rfc = RandomForestClassifier(**rf_best_params)\n",
    "rfc.fit(X_train, y_train)"
   ]
  },
  {
   "cell_type": "code",
   "execution_count": 10,
   "id": "b7d1e337",
   "metadata": {
    "execution": {
     "iopub.execute_input": "2023-06-01T09:20:02.987048Z",
     "iopub.status.busy": "2023-06-01T09:20:02.986729Z",
     "iopub.status.idle": "2023-06-01T09:20:17.538740Z",
     "shell.execute_reply": "2023-06-01T09:20:17.537754Z"
    },
    "papermill": {
     "duration": 14.566045,
     "end_time": "2023-06-01T09:20:17.541044",
     "exception": false,
     "start_time": "2023-06-01T09:20:02.974999",
     "status": "completed"
    },
    "tags": []
   },
   "outputs": [
    {
     "data": {
      "image/png": "[encoded data removed]",
      "text/plain": [
       "<Figure size 640x480 with 2 Axes>"
      ]
     },
     "metadata": {},
     "output_type": "display_data"
    },
    {
     "name": "stdout",
     "output_type": "stream",
     "text": [
      "Accuracy on train set of the model RandomForestClassifier: 0.9885\n",
      "Precision on train set of the model RandomForestClassifier: 0.9856\n",
      "Recall on train set of the model RandomForestClassifier: 0.9915\n",
      "F1 on train set of the model RandomForestClassifier: 0.9886\n",
      "AUC on train set of the model RandomForestClassifier: 0.9885\n",
      "\n",
      "              precision    recall  f1-score   support\n",
      "\n",
      "           0       0.99      0.99      0.99   1999996\n",
      "           1       0.99      0.99      0.99   2000004\n",
      "\n",
      "    accuracy                           0.99   4000000\n",
      "   macro avg       0.99      0.99      0.99   4000000\n",
      "weighted avg       0.99      0.99      0.99   4000000\n",
      "\n"
     ]
    },
    {
     "data": {
      "text/plain": [
       "{'accuracy': 0.988533,\n",
       " 'precision': 0.9856159338534745,\n",
       " 'recall': 0.9915365169269661,\n",
       " 'f1': 0.9885673607971243,\n",
       " 'auc': 0.988532993992954}"
      ]
     },
     "execution_count": 10,
     "metadata": {},
     "output_type": "execute_result"
    }
   ],
   "source": [
    "evaluate_model(\n",
    "    rfc,\n",
    "    on=\"train\",\n",
    "    plot_cmat=True,\n",
    "    verbose=True,)"
   ]
  },
  {
   "cell_type": "code",
   "execution_count": 11,
   "id": "620fd0b5",
   "metadata": {
    "execution": {
     "iopub.execute_input": "2023-06-01T09:20:17.566178Z",
     "iopub.status.busy": "2023-06-01T09:20:17.564663Z",
     "iopub.status.idle": "2023-06-01T09:20:25.651553Z",
     "shell.execute_reply": "2023-06-01T09:20:25.650554Z"
    },
    "papermill": {
     "duration": 8.101116,
     "end_time": "2023-06-01T09:20:25.653650",
     "exception": false,
     "start_time": "2023-06-01T09:20:17.552534",
     "status": "completed"
    },
    "tags": []
   },
   "outputs": [
    {
     "data": {
      "image/png": "[encoded data removed]",
      "text/plain": [
       "<Figure size 640x480 with 2 Axes>"
      ]
     },
     "metadata": {},
     "output_type": "display_data"
    },
    {
     "name": "stdout",
     "output_type": "stream",
     "text": [
      "Accuracy on test set of the model RandomForestClassifier: 0.9750\n",
      "Precision on test set of the model RandomForestClassifier: 0.9716\n",
      "Recall on test set of the model RandomForestClassifier: 0.9786\n",
      "F1 on test set of the model RandomForestClassifier: 0.9751\n",
      "AUC on test set of the model RandomForestClassifier: 0.9750\n",
      "\n",
      "              precision    recall  f1-score   support\n",
      "\n",
      "           0       0.98      0.97      0.97   1000004\n",
      "           1       0.97      0.98      0.98    999996\n",
      "\n",
      "    accuracy                           0.97   2000000\n",
      "   macro avg       0.98      0.97      0.97   2000000\n",
      "weighted avg       0.98      0.97      0.97   2000000\n",
      "\n"
     ]
    },
    {
     "data": {
      "text/plain": [
       "{'accuracy': 0.9749855,\n",
       " 'precision': 0.9715904070214805,\n",
       " 'recall': 0.9785849143396573,\n",
       " 'f1': 0.9750751174153331,\n",
       " 'auc': 0.9749855143975997}"
      ]
     },
     "execution_count": 11,
     "metadata": {},
     "output_type": "execute_result"
    }
   ],
   "source": [
    "evaluate_model(\n",
    "    rfc,\n",
    "    on=\"test\",\n",
    "    plot_cmat=True,\n",
    "    verbose=True,)"
   ]
  },
  {
   "cell_type": "code",
   "execution_count": 12,
   "id": "1109c90a",
   "metadata": {
    "execution": {
     "iopub.execute_input": "2023-06-01T09:20:25.678721Z",
     "iopub.status.busy": "2023-06-01T09:20:25.678407Z",
     "iopub.status.idle": "2023-06-01T09:20:37.117575Z",
     "shell.execute_reply": "2023-06-01T09:20:37.116057Z"
    },
    "papermill": {
     "duration": 11.454109,
     "end_time": "2023-06-01T09:20:37.119766",
     "exception": false,
     "start_time": "2023-06-01T09:20:25.665657",
     "status": "completed"
    },
    "tags": []
   },
   "outputs": [
    {
     "name": "stdout",
     "output_type": "stream",
     "text": [
      "0.9749854803085327\n"
     ]
    }
   ],
   "source": [
    "rfc_score = rfc.score(X_test, y_test)\n",
    "print(rfc_score)"
   ]
  },
  {
   "attachments": {},
   "cell_type": "markdown",
   "id": "5ea555d6",
   "metadata": {
    "papermill": {
     "duration": 0.011656,
     "end_time": "2023-06-01T09:20:37.143567",
     "exception": false,
     "start_time": "2023-06-01T09:20:37.131911",
     "status": "completed"
    },
    "tags": []
   },
   "source": [
    "## XGBoost"
   ]
  },
  {
   "attachments": {},
   "cell_type": "markdown",
   "id": "c9224672",
   "metadata": {
    "papermill": {
     "duration": 0.011612,
     "end_time": "2023-06-01T09:20:37.167056",
     "exception": false,
     "start_time": "2023-06-01T09:20:37.155444",
     "status": "completed"
    },
    "tags": []
   },
   "source": [
    "Let's train and evaluate the `XGBClassifier` model:"
   ]
  },
  {
   "cell_type": "code",
   "execution_count": 13,
   "id": "92fb2053",
   "metadata": {
    "execution": {
     "iopub.execute_input": "2023-06-01T09:20:37.192568Z",
     "iopub.status.busy": "2023-06-01T09:20:37.191901Z",
     "iopub.status.idle": "2023-06-01T09:21:32.777976Z",
     "shell.execute_reply": "2023-06-01T09:21:32.777067Z"
    },
    "papermill": {
     "duration": 55.613291,
     "end_time": "2023-06-01T09:21:32.792192",
     "exception": false,
     "start_time": "2023-06-01T09:20:37.178901",
     "status": "completed"
    },
    "tags": []
   },
   "outputs": [
    {
     "data": {
      "text/html": [
       "<style>#sk-container-id-1 {color: black;background-color: white;}#sk-container-id-1 pre{padding: 0;}#sk-container-id-1 div.sk-toggleable {background-color: white;}#sk-container-id-1 label.sk-toggleable__label {cursor: pointer;display: block;width: 100%;margin-bottom: 0;padding: 0.3em;box-sizing: border-box;text-align: center;}#sk-container-id-1 label.sk-toggleable__label-arrow:before {content: \"▸\";float: left;margin-right: 0.25em;color: #696969;}#sk-container-id-1 label.sk-toggleable__label-arrow:hover:before {color: black;}#sk-container-id-1 div.sk-estimator:hover label.sk-toggleable__label-arrow:before {color: black;}#sk-container-id-1 div.sk-toggleable__content {max-height: 0;max-width: 0;overflow: hidden;text-align: left;background-color: #f0f8ff;}#sk-container-id-1 div.sk-toggleable__content pre {margin: 0.2em;color: black;border-radius: 0.25em;background-color: #f0f8ff;}#sk-container-id-1 input.sk-toggleable__control:checked~div.sk-toggleable__content {max-height: 200px;max-width: 100%;overflow: auto;}#sk-container-id-1 input.sk-toggleable__control:checked~label.sk-toggleable__label-arrow:before {content: \"▾\";}#sk-container-id-1 div.sk-estimator input.sk-toggleable__control:checked~label.sk-toggleable__label {background-color: #d4ebff;}#sk-container-id-1 div.sk-label input.sk-toggleable__control:checked~label.sk-toggleable__label {background-color: #d4ebff;}#sk-container-id-1 input.sk-hidden--visually {border: 0;clip: rect(1px 1px 1px 1px);clip: rect(1px, 1px, 1px, 1px);height: 1px;margin: -1px;overflow: hidden;padding: 0;position: absolute;width: 1px;}#sk-container-id-1 div.sk-estimator {font-family: monospace;background-color: #f0f8ff;border: 1px dotted black;border-radius: 0.25em;box-sizing: border-box;margin-bottom: 0.5em;}#sk-container-id-1 div.sk-estimator:hover {background-color: #d4ebff;}#sk-container-id-1 div.sk-parallel-item::after {content: \"\";width: 100%;border-bottom: 1px solid gray;flex-grow: 1;}#sk-container-id-1 div.sk-label:hover label.sk-toggleable__label {background-color: #d4ebff;}#sk-container-id-1 div.sk-serial::before {content: \"\";position: absolute;border-left: 1px solid gray;box-sizing: border-box;top: 0;bottom: 0;left: 50%;z-index: 0;}#sk-container-id-1 div.sk-serial {display: flex;flex-direction: column;align-items: center;background-color: white;padding-right: 0.2em;padding-left: 0.2em;position: relative;}#sk-container-id-1 div.sk-item {position: relative;z-index: 1;}#sk-container-id-1 div.sk-parallel {display: flex;align-items: stretch;justify-content: center;background-color: white;position: relative;}#sk-container-id-1 div.sk-item::before, #sk-container-id-1 div.sk-parallel-item::before {content: \"\";position: absolute;border-left: 1px solid gray;box-sizing: border-box;top: 0;bottom: 0;left: 50%;z-index: -1;}#sk-container-id-1 div.sk-parallel-item {display: flex;flex-direction: column;z-index: 1;position: relative;background-color: white;}#sk-container-id-1 div.sk-parallel-item:first-child::after {align-self: flex-end;width: 50%;}#sk-container-id-1 div.sk-parallel-item:last-child::after {align-self: flex-start;width: 50%;}#sk-container-id-1 div.sk-parallel-item:only-child::after {width: 0;}#sk-container-id-1 div.sk-dashed-wrapped {border: 1px dashed gray;margin: 0 0.4em 0.5em 0.4em;box-sizing: border-box;padding-bottom: 0.4em;background-color: white;}#sk-container-id-1 div.sk-label label {font-family: monospace;font-weight: bold;display: inline-block;line-height: 1.2em;}#sk-container-id-1 div.sk-label-container {text-align: center;}#sk-container-id-1 div.sk-container {/* jupyter's `normalize.less` sets `[hidden] { display: none; }` but bootstrap.min.css set `[hidden] { display: none !important; }` so we also need the `!important` here to be able to override the default hidden behavior on the sphinx rendered scikit-learn.org. See: https://github.com/scikit-learn/scikit-learn/issues/21755 */display: inline-block !important;position: relative;}#sk-container-id-1 div.sk-text-repr-fallback {display: none;}</style><div id=\"sk-container-id-1\" class=\"sk-top-container\"><div class=\"sk-text-repr-fallback\"><pre>XGBClassifier(base_score=None, booster=None, callbacks=None,\n",
       "              colsample_bylevel=None, colsample_bynode=None,\n",
       "              colsample_bytree=None, early_stopping_rounds=None,\n",
       "              enable_categorical=False, eval_metric=None, feature_types=None,\n",
       "              gamma=3.5712964675328855e-05, gpu_id=None, grow_policy=None,\n",
       "              importance_type=None, interaction_constraints=None,\n",
       "              learning_rate=0.08245844777734937, max_bin=None,\n",
       "              max_cat_threshold=None, max_cat_to_onehot=None,\n",
       "              max_delta_step=None, max_depth=17, max_leaves=None,\n",
       "              min_child_weight=17, missing=nan, monotone_constraints=None,\n",
       "              n_estimators=188, n_jobs=None, num_parallel_tree=None,\n",
       "              predictor=None, random_state=None, ...)</pre><b>In a Jupyter environment, please rerun this cell to show the HTML representation or trust the notebook. <br />On GitHub, the HTML representation is unable to render, please try loading this page with nbviewer.org.</b></div><div class=\"sk-container\" hidden><div class=\"sk-item\"><div class=\"sk-estimator sk-toggleable\"><input class=\"sk-toggleable__control sk-hidden--visually\" id=\"sk-estimator-id-1\" type=\"checkbox\" checked><label for=\"sk-estimator-id-1\" class=\"sk-toggleable__label sk-toggleable__label-arrow\">XGBClassifier</label><div class=\"sk-toggleable__content\"><pre>XGBClassifier(base_score=None, booster=None, callbacks=None,\n",
       "              colsample_bylevel=None, colsample_bynode=None,\n",
       "              colsample_bytree=None, early_stopping_rounds=None,\n",
       "              enable_categorical=False, eval_metric=None, feature_types=None,\n",
       "              gamma=3.5712964675328855e-05, gpu_id=None, grow_policy=None,\n",
       "              importance_type=None, interaction_constraints=None,\n",
       "              learning_rate=0.08245844777734937, max_bin=None,\n",
       "              max_cat_threshold=None, max_cat_to_onehot=None,\n",
       "              max_delta_step=None, max_depth=17, max_leaves=None,\n",
       "              min_child_weight=17, missing=nan, monotone_constraints=None,\n",
       "              n_estimators=188, n_jobs=None, num_parallel_tree=None,\n",
       "              predictor=None, random_state=None, ...)</pre></div></div></div></div></div>"
      ],
      "text/plain": [
       "XGBClassifier(base_score=None, booster=None, callbacks=None,\n",
       "              colsample_bylevel=None, colsample_bynode=None,\n",
       "              colsample_bytree=None, early_stopping_rounds=None,\n",
       "              enable_categorical=False, eval_metric=None, feature_types=None,\n",
       "              gamma=3.5712964675328855e-05, gpu_id=None, grow_policy=None,\n",
       "              importance_type=None, interaction_constraints=None,\n",
       "              learning_rate=0.08245844777734937, max_bin=None,\n",
       "              max_cat_threshold=None, max_cat_to_onehot=None,\n",
       "              max_delta_step=None, max_depth=17, max_leaves=None,\n",
       "              min_child_weight=17, missing=nan, monotone_constraints=None,\n",
       "              n_estimators=188, n_jobs=None, num_parallel_tree=None,\n",
       "              predictor=None, random_state=None, ...)"
      ]
     },
     "execution_count": 13,
     "metadata": {},
     "output_type": "execute_result"
    }
   ],
   "source": [
    "xgbc = XGBClassifier(tree_method='gpu_hist', **xgb_best_params)\n",
    "xgbc.fit(X_train, y_train)"
   ]
  },
  {
   "cell_type": "code",
   "execution_count": 14,
   "id": "3748a907",
   "metadata": {
    "execution": {
     "iopub.execute_input": "2023-06-01T09:21:32.818640Z",
     "iopub.status.busy": "2023-06-01T09:21:32.817650Z",
     "iopub.status.idle": "2023-06-01T09:22:41.504231Z",
     "shell.execute_reply": "2023-06-01T09:22:41.503178Z"
    },
    "papermill": {
     "duration": 68.702125,
     "end_time": "2023-06-01T09:22:41.506365",
     "exception": false,
     "start_time": "2023-06-01T09:21:32.804240",
     "status": "completed"
    },
    "tags": []
   },
   "outputs": [
    {
     "data": {
      "image/png": "[encoded data removed]",
      "text/plain": [
       "<Figure size 640x480 with 2 Axes>"
      ]
     },
     "metadata": {},
     "output_type": "display_data"
    },
    {
     "name": "stdout",
     "output_type": "stream",
     "text": [
      "Accuracy on train set of the model XGBClassifier: 0.9949\n",
      "Precision on train set of the model XGBClassifier: 0.9929\n",
      "Recall on train set of the model XGBClassifier: 0.9969\n",
      "F1 on train set of the model XGBClassifier: 0.9949\n",
      "AUC on train set of the model XGBClassifier: 0.9949\n",
      "\n",
      "              precision    recall  f1-score   support\n",
      "\n",
      "           0       1.00      0.99      0.99   1999996\n",
      "           1       0.99      1.00      0.99   2000004\n",
      "\n",
      "    accuracy                           0.99   4000000\n",
      "   macro avg       0.99      0.99      0.99   4000000\n",
      "weighted avg       0.99      0.99      0.99   4000000\n",
      "\n"
     ]
    },
    {
     "data": {
      "text/plain": [
       "{'accuracy': 0.99487775,\n",
       " 'precision': 0.9928995120095258,\n",
       " 'recall': 0.9968845062309876,\n",
       " 'f1': 0.9948880186924516,\n",
       " 'auc': 0.9948777459864795}"
      ]
     },
     "execution_count": 14,
     "metadata": {},
     "output_type": "execute_result"
    }
   ],
   "source": [
    "evaluate_model(\n",
    "    xgbc,\n",
    "    on=\"train\",\n",
    "    plot_cmat=True,\n",
    "    verbose=True,)"
   ]
  },
  {
   "cell_type": "code",
   "execution_count": 15,
   "id": "5ba033a0",
   "metadata": {
    "execution": {
     "iopub.execute_input": "2023-06-01T09:22:41.533857Z",
     "iopub.status.busy": "2023-06-01T09:22:41.533540Z",
     "iopub.status.idle": "2023-06-01T09:23:15.159675Z",
     "shell.execute_reply": "2023-06-01T09:23:15.158695Z"
    },
    "papermill": {
     "duration": 33.642158,
     "end_time": "2023-06-01T09:23:15.161640",
     "exception": false,
     "start_time": "2023-06-01T09:22:41.519482",
     "status": "completed"
    },
    "tags": []
   },
   "outputs": [
    {
     "data": {
      "image/png": "[encoded data removed]",
      "text/plain": [
       "<Figure size 640x480 with 2 Axes>"
      ]
     },
     "metadata": {},
     "output_type": "display_data"
    },
    {
     "name": "stdout",
     "output_type": "stream",
     "text": [
      "Accuracy on test set of the model XGBClassifier: 0.9823\n",
      "Precision on test set of the model XGBClassifier: 0.9797\n",
      "Recall on test set of the model XGBClassifier: 0.9849\n",
      "F1 on test set of the model XGBClassifier: 0.9823\n",
      "AUC on test set of the model XGBClassifier: 0.9823\n",
      "\n",
      "              precision    recall  f1-score   support\n",
      "\n",
      "           0       0.98      0.98      0.98   1000004\n",
      "           1       0.98      0.98      0.98    999996\n",
      "\n",
      "    accuracy                           0.98   2000000\n",
      "   macro avg       0.98      0.98      0.98   2000000\n",
      "weighted avg       0.98      0.98      0.98   2000000\n",
      "\n"
     ]
    },
    {
     "data": {
      "text/plain": [
       "{'accuracy': 0.9822525,\n",
       " 'precision': 0.9797037527765096,\n",
       " 'recall': 0.9849089396357585,\n",
       " 'f1': 0.9822994507069996,\n",
       " 'auc': 0.9822525106257161}"
      ]
     },
     "execution_count": 15,
     "metadata": {},
     "output_type": "execute_result"
    }
   ],
   "source": [
    "evaluate_model(\n",
    "    xgbc,\n",
    "    on=\"test\",\n",
    "    plot_cmat=True,\n",
    "    verbose=True,)"
   ]
  },
  {
   "cell_type": "code",
   "execution_count": 16,
   "id": "489e7ba4",
   "metadata": {
    "execution": {
     "iopub.execute_input": "2023-06-01T09:23:15.191560Z",
     "iopub.status.busy": "2023-06-01T09:23:15.189920Z",
     "iopub.status.idle": "2023-06-01T09:23:45.262338Z",
     "shell.execute_reply": "2023-06-01T09:23:45.261388Z"
    },
    "papermill": {
     "duration": 30.103298,
     "end_time": "2023-06-01T09:23:45.278501",
     "exception": false,
     "start_time": "2023-06-01T09:23:15.175203",
     "status": "completed"
    },
    "tags": []
   },
   "outputs": [
    {
     "name": "stdout",
     "output_type": "stream",
     "text": [
      "0.9822525\n"
     ]
    }
   ],
   "source": [
    "xgbc_score = xgbc.score(X_test, y_test)\n",
    "print(xgbc_score)"
   ]
  },
  {
   "attachments": {},
   "cell_type": "markdown",
   "id": "2f5c17fc",
   "metadata": {
    "papermill": {
     "duration": 0.013539,
     "end_time": "2023-06-01T09:23:45.305930",
     "exception": false,
     "start_time": "2023-06-01T09:23:45.292391",
     "status": "completed"
    },
    "tags": []
   },
   "source": [
    "We can see that the model is performing quite good. It has a test accuracy of over 98%!"
   ]
  },
  {
   "attachments": {},
   "cell_type": "markdown",
   "id": "229521e2",
   "metadata": {
    "papermill": {
     "duration": 0.014329,
     "end_time": "2023-06-01T09:23:45.334919",
     "exception": false,
     "start_time": "2023-06-01T09:23:45.320590",
     "status": "completed"
    },
    "tags": []
   },
   "source": [
    "## CatBoost"
   ]
  },
  {
   "attachments": {},
   "cell_type": "markdown",
   "id": "0f1ca386",
   "metadata": {
    "papermill": {
     "duration": 0.014238,
     "end_time": "2023-06-01T09:23:45.363903",
     "exception": false,
     "start_time": "2023-06-01T09:23:45.349665",
     "status": "completed"
    },
    "tags": []
   },
   "source": [
    "Here are the best parameters for the `CatBoostClassifier` model:"
   ]
  },
  {
   "attachments": {},
   "cell_type": "markdown",
   "id": "ee1ca024",
   "metadata": {
    "papermill": {
     "duration": 0.013768,
     "end_time": "2023-06-01T09:23:45.391671",
     "exception": false,
     "start_time": "2023-06-01T09:23:45.377903",
     "status": "completed"
    },
    "tags": []
   },
   "source": [
    "> We have to change `bootstrap_type=\"Poisson\"` as the default value of `bootstrap_type` is `Bayesian`. And, `Bayesian` is not supported for GPU training."
   ]
  },
  {
   "cell_type": "code",
   "execution_count": 17,
   "id": "6827720b",
   "metadata": {
    "execution": {
     "iopub.execute_input": "2023-06-01T09:23:45.422329Z",
     "iopub.status.busy": "2023-06-01T09:23:45.421935Z",
     "iopub.status.idle": "2023-06-01T09:25:38.647166Z",
     "shell.execute_reply": "2023-06-01T09:25:38.646175Z"
    },
    "papermill": {
     "duration": 113.243835,
     "end_time": "2023-06-01T09:25:38.649916",
     "exception": false,
     "start_time": "2023-06-01T09:23:45.406081",
     "status": "completed"
    },
    "tags": []
   },
   "outputs": [
    {
     "name": "stdout",
     "output_type": "stream",
     "text": [
      "0:\tlearn: 0.6634076\ttotal: 74ms\tremaining: 14.6s\n",
      "1:\tlearn: 0.6350318\ttotal: 143ms\tremaining: 14s\n",
      "2:\tlearn: 0.6078244\ttotal: 205ms\tremaining: 13.3s\n",
      "3:\tlearn: 0.5815051\ttotal: 266ms\tremaining: 12.9s\n",
      "4:\tlearn: 0.5570651\ttotal: 340ms\tremaining: 13.1s\n",
      "5:\tlearn: 0.5341757\ttotal: 402ms\tremaining: 12.9s\n",
      "6:\tlearn: 0.5120581\ttotal: 465ms\tremaining: 12.7s\n",
      "7:\tlearn: 0.4923605\ttotal: 528ms\tremaining: 12.5s\n",
      "8:\tlearn: 0.4724301\ttotal: 594ms\tremaining: 12.5s\n",
      "9:\tlearn: 0.4530380\ttotal: 658ms\tremaining: 12.4s\n",
      "10:\tlearn: 0.4352311\ttotal: 723ms\tremaining: 12.3s\n",
      "11:\tlearn: 0.4181941\ttotal: 784ms\tremaining: 12.2s\n",
      "12:\tlearn: 0.4023426\ttotal: 849ms\tremaining: 12.1s\n",
      "13:\tlearn: 0.3872077\ttotal: 912ms\tremaining: 12s\n",
      "14:\tlearn: 0.3730884\ttotal: 974ms\tremaining: 11.9s\n",
      "15:\tlearn: 0.3593353\ttotal: 1.04s\tremaining: 11.8s\n",
      "16:\tlearn: 0.3463585\ttotal: 1.1s\tremaining: 11.7s\n",
      "17:\tlearn: 0.3340639\ttotal: 1.17s\tremaining: 11.7s\n",
      "18:\tlearn: 0.3229556\ttotal: 1.23s\tremaining: 11.6s\n",
      "19:\tlearn: 0.3122961\ttotal: 1.29s\tremaining: 11.5s\n",
      "20:\tlearn: 0.3022137\ttotal: 1.36s\tremaining: 11.4s\n",
      "21:\tlearn: 0.2926366\ttotal: 1.42s\tremaining: 11.4s\n",
      "22:\tlearn: 0.2836335\ttotal: 1.48s\tremaining: 11.3s\n",
      "23:\tlearn: 0.2750349\ttotal: 1.55s\tremaining: 11.2s\n",
      "24:\tlearn: 0.2666816\ttotal: 1.61s\tremaining: 11.2s\n",
      "25:\tlearn: 0.2588750\ttotal: 1.68s\tremaining: 11.1s\n",
      "26:\tlearn: 0.2513674\ttotal: 1.74s\tremaining: 11s\n",
      "27:\tlearn: 0.2443721\ttotal: 1.81s\tremaining: 11s\n",
      "28:\tlearn: 0.2377434\ttotal: 1.87s\tremaining: 10.9s\n",
      "29:\tlearn: 0.2313320\ttotal: 1.94s\tremaining: 10.8s\n",
      "30:\tlearn: 0.2253412\ttotal: 2s\tremaining: 10.8s\n",
      "31:\tlearn: 0.2196626\ttotal: 2.06s\tremaining: 10.7s\n",
      "32:\tlearn: 0.2142932\ttotal: 2.13s\tremaining: 10.6s\n",
      "33:\tlearn: 0.2091854\ttotal: 2.19s\tremaining: 10.6s\n",
      "34:\tlearn: 0.2043616\ttotal: 2.25s\tremaining: 10.5s\n",
      "35:\tlearn: 0.1996140\ttotal: 2.31s\tremaining: 10.4s\n",
      "36:\tlearn: 0.1951171\ttotal: 2.38s\tremaining: 10.4s\n",
      "37:\tlearn: 0.1908297\ttotal: 2.44s\tremaining: 10.3s\n",
      "38:\tlearn: 0.1868618\ttotal: 2.5s\tremaining: 10.2s\n",
      "39:\tlearn: 0.1830739\ttotal: 2.56s\tremaining: 10.1s\n",
      "40:\tlearn: 0.1794669\ttotal: 2.63s\tremaining: 10.1s\n",
      "41:\tlearn: 0.1759514\ttotal: 2.69s\tremaining: 10s\n",
      "42:\tlearn: 0.1727087\ttotal: 2.75s\tremaining: 9.93s\n",
      "43:\tlearn: 0.1694448\ttotal: 2.83s\tremaining: 9.9s\n",
      "44:\tlearn: 0.1663941\ttotal: 2.89s\tremaining: 9.83s\n",
      "45:\tlearn: 0.1634905\ttotal: 2.95s\tremaining: 9.76s\n",
      "46:\tlearn: 0.1607322\ttotal: 3.02s\tremaining: 9.69s\n",
      "47:\tlearn: 0.1580743\ttotal: 3.08s\tremaining: 9.63s\n",
      "48:\tlearn: 0.1555464\ttotal: 3.14s\tremaining: 9.56s\n",
      "49:\tlearn: 0.1530807\ttotal: 3.21s\tremaining: 9.49s\n",
      "50:\tlearn: 0.1507663\ttotal: 3.27s\tremaining: 9.42s\n",
      "51:\tlearn: 0.1484028\ttotal: 3.33s\tremaining: 9.35s\n",
      "52:\tlearn: 0.1461303\ttotal: 3.39s\tremaining: 9.29s\n",
      "53:\tlearn: 0.1441111\ttotal: 3.46s\tremaining: 9.22s\n",
      "54:\tlearn: 0.1421786\ttotal: 3.52s\tremaining: 9.16s\n",
      "55:\tlearn: 0.1402728\ttotal: 3.59s\tremaining: 9.09s\n",
      "56:\tlearn: 0.1385008\ttotal: 3.65s\tremaining: 9.03s\n",
      "57:\tlearn: 0.1366858\ttotal: 3.72s\tremaining: 8.97s\n",
      "58:\tlearn: 0.1349588\ttotal: 3.78s\tremaining: 8.9s\n",
      "59:\tlearn: 0.1333951\ttotal: 3.84s\tremaining: 8.84s\n",
      "60:\tlearn: 0.1318118\ttotal: 3.91s\tremaining: 8.78s\n",
      "61:\tlearn: 0.1302242\ttotal: 3.97s\tremaining: 8.71s\n",
      "62:\tlearn: 0.1287870\ttotal: 4.03s\tremaining: 8.64s\n",
      "63:\tlearn: 0.1274051\ttotal: 4.09s\tremaining: 8.57s\n",
      "64:\tlearn: 0.1260702\ttotal: 4.16s\tremaining: 8.51s\n",
      "65:\tlearn: 0.1247945\ttotal: 4.23s\tremaining: 8.46s\n",
      "66:\tlearn: 0.1235286\ttotal: 4.29s\tremaining: 8.4s\n",
      "67:\tlearn: 0.1222364\ttotal: 4.36s\tremaining: 8.34s\n",
      "68:\tlearn: 0.1210474\ttotal: 4.42s\tremaining: 8.27s\n",
      "69:\tlearn: 0.1199162\ttotal: 4.49s\tremaining: 8.21s\n",
      "70:\tlearn: 0.1188096\ttotal: 4.55s\tremaining: 8.14s\n",
      "71:\tlearn: 0.1177493\ttotal: 4.62s\tremaining: 8.08s\n",
      "72:\tlearn: 0.1167405\ttotal: 4.68s\tremaining: 8.01s\n",
      "73:\tlearn: 0.1157805\ttotal: 4.74s\tremaining: 7.95s\n",
      "74:\tlearn: 0.1148541\ttotal: 4.81s\tremaining: 7.88s\n",
      "75:\tlearn: 0.1139416\ttotal: 4.87s\tremaining: 7.82s\n",
      "76:\tlearn: 0.1130096\ttotal: 4.94s\tremaining: 7.76s\n",
      "77:\tlearn: 0.1121616\ttotal: 5s\tremaining: 7.69s\n",
      "78:\tlearn: 0.1113012\ttotal: 5.06s\tremaining: 7.63s\n",
      "79:\tlearn: 0.1104759\ttotal: 5.13s\tremaining: 7.57s\n",
      "80:\tlearn: 0.1097059\ttotal: 5.2s\tremaining: 7.51s\n",
      "81:\tlearn: 0.1089250\ttotal: 5.26s\tremaining: 7.44s\n",
      "82:\tlearn: 0.1082478\ttotal: 5.33s\tremaining: 7.38s\n",
      "83:\tlearn: 0.1075730\ttotal: 5.4s\tremaining: 7.32s\n",
      "84:\tlearn: 0.1068968\ttotal: 5.46s\tremaining: 7.26s\n",
      "85:\tlearn: 0.1062386\ttotal: 5.53s\tremaining: 7.2s\n",
      "86:\tlearn: 0.1056199\ttotal: 5.59s\tremaining: 7.14s\n",
      "87:\tlearn: 0.1050119\ttotal: 5.66s\tremaining: 7.07s\n",
      "88:\tlearn: 0.1044246\ttotal: 5.73s\tremaining: 7.01s\n",
      "89:\tlearn: 0.1037920\ttotal: 5.79s\tremaining: 6.95s\n",
      "90:\tlearn: 0.1032356\ttotal: 5.86s\tremaining: 6.88s\n",
      "91:\tlearn: 0.1026722\ttotal: 5.92s\tremaining: 6.82s\n",
      "92:\tlearn: 0.1021268\ttotal: 5.99s\tremaining: 6.76s\n",
      "93:\tlearn: 0.1016022\ttotal: 6.05s\tremaining: 6.7s\n",
      "94:\tlearn: 0.1010862\ttotal: 6.12s\tremaining: 6.63s\n",
      "95:\tlearn: 0.1006204\ttotal: 6.19s\tremaining: 6.57s\n",
      "96:\tlearn: 0.1001416\ttotal: 6.25s\tremaining: 6.51s\n",
      "97:\tlearn: 0.0996806\ttotal: 6.32s\tremaining: 6.45s\n",
      "98:\tlearn: 0.0991951\ttotal: 6.38s\tremaining: 6.38s\n",
      "99:\tlearn: 0.0987411\ttotal: 6.45s\tremaining: 6.32s\n",
      "100:\tlearn: 0.0983022\ttotal: 6.52s\tremaining: 6.26s\n",
      "101:\tlearn: 0.0979010\ttotal: 6.58s\tremaining: 6.19s\n",
      "102:\tlearn: 0.0974970\ttotal: 6.64s\tremaining: 6.13s\n",
      "103:\tlearn: 0.0971067\ttotal: 6.71s\tremaining: 6.07s\n",
      "104:\tlearn: 0.0967277\ttotal: 6.78s\tremaining: 6s\n",
      "105:\tlearn: 0.0963336\ttotal: 6.84s\tremaining: 5.94s\n",
      "106:\tlearn: 0.0959566\ttotal: 6.91s\tremaining: 5.88s\n",
      "107:\tlearn: 0.0956035\ttotal: 6.98s\tremaining: 5.81s\n",
      "108:\tlearn: 0.0952269\ttotal: 7.04s\tremaining: 5.75s\n",
      "109:\tlearn: 0.0948749\ttotal: 7.11s\tremaining: 5.69s\n",
      "110:\tlearn: 0.0945144\ttotal: 7.18s\tremaining: 5.63s\n",
      "111:\tlearn: 0.0941550\ttotal: 7.25s\tremaining: 5.56s\n",
      "112:\tlearn: 0.0938254\ttotal: 7.31s\tremaining: 5.5s\n",
      "113:\tlearn: 0.0935186\ttotal: 7.38s\tremaining: 5.44s\n",
      "114:\tlearn: 0.0932157\ttotal: 7.44s\tremaining: 5.37s\n",
      "115:\tlearn: 0.0928846\ttotal: 7.51s\tremaining: 5.31s\n",
      "116:\tlearn: 0.0925810\ttotal: 7.58s\tremaining: 5.25s\n",
      "117:\tlearn: 0.0922705\ttotal: 7.64s\tremaining: 5.18s\n",
      "118:\tlearn: 0.0919389\ttotal: 7.71s\tremaining: 5.12s\n",
      "119:\tlearn: 0.0916767\ttotal: 7.78s\tremaining: 5.05s\n",
      "120:\tlearn: 0.0914241\ttotal: 7.84s\tremaining: 4.99s\n",
      "121:\tlearn: 0.0911379\ttotal: 7.91s\tremaining: 4.93s\n",
      "122:\tlearn: 0.0908823\ttotal: 7.97s\tremaining: 4.86s\n",
      "123:\tlearn: 0.0906402\ttotal: 8.04s\tremaining: 4.8s\n",
      "124:\tlearn: 0.0903557\ttotal: 8.1s\tremaining: 4.73s\n",
      "125:\tlearn: 0.0900961\ttotal: 8.17s\tremaining: 4.67s\n",
      "126:\tlearn: 0.0898398\ttotal: 8.32s\tremaining: 4.65s\n",
      "127:\tlearn: 0.0895872\ttotal: 8.42s\tremaining: 4.6s\n",
      "128:\tlearn: 0.0893537\ttotal: 8.48s\tremaining: 4.54s\n",
      "129:\tlearn: 0.0891201\ttotal: 8.55s\tremaining: 4.47s\n",
      "130:\tlearn: 0.0889051\ttotal: 8.62s\tremaining: 4.41s\n",
      "131:\tlearn: 0.0886944\ttotal: 8.68s\tremaining: 4.34s\n",
      "132:\tlearn: 0.0884738\ttotal: 8.74s\tremaining: 4.27s\n",
      "133:\tlearn: 0.0882681\ttotal: 8.81s\tremaining: 4.21s\n",
      "134:\tlearn: 0.0880453\ttotal: 8.88s\tremaining: 4.14s\n",
      "135:\tlearn: 0.0878353\ttotal: 8.94s\tremaining: 4.08s\n",
      "136:\tlearn: 0.0876449\ttotal: 9.01s\tremaining: 4.01s\n",
      "137:\tlearn: 0.0874382\ttotal: 9.07s\tremaining: 3.94s\n",
      "138:\tlearn: 0.0872342\ttotal: 9.13s\tremaining: 3.88s\n",
      "139:\tlearn: 0.0870184\ttotal: 9.2s\tremaining: 3.81s\n",
      "140:\tlearn: 0.0868176\ttotal: 9.27s\tremaining: 3.75s\n",
      "141:\tlearn: 0.0866116\ttotal: 9.34s\tremaining: 3.68s\n",
      "142:\tlearn: 0.0864043\ttotal: 9.4s\tremaining: 3.62s\n",
      "143:\tlearn: 0.0862142\ttotal: 9.47s\tremaining: 3.55s\n",
      "144:\tlearn: 0.0860377\ttotal: 9.53s\tremaining: 3.48s\n",
      "145:\tlearn: 0.0858374\ttotal: 9.6s\tremaining: 3.42s\n",
      "146:\tlearn: 0.0856433\ttotal: 9.66s\tremaining: 3.35s\n",
      "147:\tlearn: 0.0854668\ttotal: 9.73s\tremaining: 3.29s\n",
      "148:\tlearn: 0.0852831\ttotal: 9.79s\tremaining: 3.22s\n",
      "149:\tlearn: 0.0851311\ttotal: 9.86s\tremaining: 3.15s\n",
      "150:\tlearn: 0.0849776\ttotal: 9.92s\tremaining: 3.09s\n",
      "151:\tlearn: 0.0848101\ttotal: 9.98s\tremaining: 3.02s\n",
      "152:\tlearn: 0.0846466\ttotal: 10s\tremaining: 2.96s\n",
      "153:\tlearn: 0.0844503\ttotal: 10.1s\tremaining: 2.89s\n",
      "154:\tlearn: 0.0843052\ttotal: 10.2s\tremaining: 2.82s\n",
      "155:\tlearn: 0.0841359\ttotal: 10.2s\tremaining: 2.76s\n",
      "156:\tlearn: 0.0839442\ttotal: 10.3s\tremaining: 2.69s\n",
      "157:\tlearn: 0.0837857\ttotal: 10.4s\tremaining: 2.63s\n",
      "158:\tlearn: 0.0836027\ttotal: 10.4s\tremaining: 2.56s\n",
      "159:\tlearn: 0.0834280\ttotal: 10.5s\tremaining: 2.49s\n",
      "160:\tlearn: 0.0832520\ttotal: 10.6s\tremaining: 2.43s\n",
      "161:\tlearn: 0.0830866\ttotal: 10.6s\tremaining: 2.36s\n",
      "162:\tlearn: 0.0829587\ttotal: 10.7s\tremaining: 2.3s\n",
      "163:\tlearn: 0.0827905\ttotal: 10.8s\tremaining: 2.23s\n",
      "164:\tlearn: 0.0826265\ttotal: 10.8s\tremaining: 2.17s\n",
      "165:\tlearn: 0.0824587\ttotal: 10.9s\tremaining: 2.1s\n",
      "166:\tlearn: 0.0822984\ttotal: 11s\tremaining: 2.04s\n",
      "167:\tlearn: 0.0821616\ttotal: 11s\tremaining: 1.97s\n",
      "168:\tlearn: 0.0820059\ttotal: 11.1s\tremaining: 1.9s\n",
      "169:\tlearn: 0.0818596\ttotal: 11.2s\tremaining: 1.84s\n",
      "170:\tlearn: 0.0817137\ttotal: 11.2s\tremaining: 1.77s\n",
      "171:\tlearn: 0.0815765\ttotal: 11.3s\tremaining: 1.71s\n",
      "172:\tlearn: 0.0814413\ttotal: 11.4s\tremaining: 1.64s\n",
      "173:\tlearn: 0.0813164\ttotal: 11.4s\tremaining: 1.58s\n",
      "174:\tlearn: 0.0811924\ttotal: 11.5s\tremaining: 1.51s\n",
      "175:\tlearn: 0.0810624\ttotal: 11.6s\tremaining: 1.45s\n",
      "176:\tlearn: 0.0809342\ttotal: 11.6s\tremaining: 1.38s\n",
      "177:\tlearn: 0.0808124\ttotal: 11.7s\tremaining: 1.31s\n",
      "178:\tlearn: 0.0806940\ttotal: 11.8s\tremaining: 1.25s\n",
      "179:\tlearn: 0.0805826\ttotal: 11.8s\tremaining: 1.18s\n",
      "180:\tlearn: 0.0804684\ttotal: 11.9s\tremaining: 1.12s\n",
      "181:\tlearn: 0.0803611\ttotal: 12s\tremaining: 1.05s\n",
      "182:\tlearn: 0.0802369\ttotal: 12s\tremaining: 986ms\n",
      "183:\tlearn: 0.0801253\ttotal: 12.1s\tremaining: 920ms\n",
      "184:\tlearn: 0.0800193\ttotal: 12.2s\tremaining: 855ms\n",
      "185:\tlearn: 0.0799171\ttotal: 12.2s\tremaining: 789ms\n",
      "186:\tlearn: 0.0797977\ttotal: 12.3s\tremaining: 724ms\n",
      "187:\tlearn: 0.0796946\ttotal: 12.4s\tremaining: 658ms\n",
      "188:\tlearn: 0.0795755\ttotal: 12.4s\tremaining: 592ms\n",
      "189:\tlearn: 0.0794609\ttotal: 12.5s\tremaining: 526ms\n",
      "190:\tlearn: 0.0793640\ttotal: 12.6s\tremaining: 461ms\n",
      "191:\tlearn: 0.0792324\ttotal: 12.6s\tremaining: 395ms\n",
      "192:\tlearn: 0.0791149\ttotal: 12.7s\tremaining: 329ms\n",
      "193:\tlearn: 0.0790258\ttotal: 12.8s\tremaining: 263ms\n",
      "194:\tlearn: 0.0789309\ttotal: 12.8s\tremaining: 198ms\n",
      "195:\tlearn: 0.0788355\ttotal: 12.9s\tremaining: 132ms\n",
      "196:\tlearn: 0.0787345\ttotal: 13s\tremaining: 65.9ms\n",
      "197:\tlearn: 0.0786461\ttotal: 13s\tremaining: 0us\n"
     ]
    },
    {
     "data": {
      "text/plain": [
       "<catboost.core.CatBoostClassifier at 0x7c318c1a0d00>"
      ]
     },
     "execution_count": 17,
     "metadata": {},
     "output_type": "execute_result"
    }
   ],
   "source": [
    "ctbc = CatBoostClassifier(task_type='GPU', bootstrap_type=\"Poisson\", **catb_best_params)\n",
    "ctbc.fit(X_train, y_train, verbose = True)"
   ]
  },
  {
   "cell_type": "code",
   "execution_count": 18,
   "id": "a90527d3",
   "metadata": {
    "execution": {
     "iopub.execute_input": "2023-06-01T09:25:38.761476Z",
     "iopub.status.busy": "2023-06-01T09:25:38.755311Z",
     "iopub.status.idle": "2023-06-01T09:25:53.912135Z",
     "shell.execute_reply": "2023-06-01T09:25:53.910730Z"
    },
    "papermill": {
     "duration": 15.211893,
     "end_time": "2023-06-01T09:25:53.914859",
     "exception": false,
     "start_time": "2023-06-01T09:25:38.702966",
     "status": "completed"
    },
    "tags": []
   },
   "outputs": [
    {
     "data": {
      "image/png": "[encoded data removed]",
      "text/plain": [
       "<Figure size 640x480 with 2 Axes>"
      ]
     },
     "metadata": {},
     "output_type": "display_data"
    },
    {
     "name": "stdout",
     "output_type": "stream",
     "text": [
      "Accuracy on train set of the model CatBoostClassifier: 0.9708\n",
      "Precision on train set of the model CatBoostClassifier: 0.9656\n",
      "Recall on train set of the model CatBoostClassifier: 0.9764\n",
      "F1 on train set of the model CatBoostClassifier: 0.9710\n",
      "AUC on train set of the model CatBoostClassifier: 0.9708\n",
      "\n",
      "              precision    recall  f1-score   support\n",
      "\n",
      "           0       0.98      0.97      0.97   1999996\n",
      "           1       0.97      0.98      0.97   2000004\n",
      "\n",
      "    accuracy                           0.97   4000000\n",
      "   macro avg       0.97      0.97      0.97   4000000\n",
      "weighted avg       0.97      0.97      0.97   4000000\n",
      "\n"
     ]
    },
    {
     "data": {
      "text/plain": [
       "{'accuracy': 0.97084525,\n",
       " 'precision': 0.965644765150882,\n",
       " 'recall': 0.9764295471409057,\n",
       " 'f1': 0.9710072109677315,\n",
       " 'auc': 0.9708452388313833}"
      ]
     },
     "execution_count": 18,
     "metadata": {},
     "output_type": "execute_result"
    }
   ],
   "source": [
    "evaluate_model(\n",
    "    ctbc,\n",
    "    on=\"train\",\n",
    "    plot_cmat=True,\n",
    "    verbose=True,)"
   ]
  },
  {
   "cell_type": "code",
   "execution_count": 19,
   "id": "c23134d6",
   "metadata": {
    "execution": {
     "iopub.execute_input": "2023-06-01T09:25:53.955261Z",
     "iopub.status.busy": "2023-06-01T09:25:53.954303Z",
     "iopub.status.idle": "2023-06-01T09:26:00.385047Z",
     "shell.execute_reply": "2023-06-01T09:26:00.384002Z"
    },
    "papermill": {
     "duration": 6.452861,
     "end_time": "2023-06-01T09:26:00.387372",
     "exception": false,
     "start_time": "2023-06-01T09:25:53.934511",
     "status": "completed"
    },
    "tags": []
   },
   "outputs": [
    {
     "data": {
      "image/png": "[encoded data removed]",
      "text/plain": [
       "<Figure size 640x480 with 2 Axes>"
      ]
     },
     "metadata": {},
     "output_type": "display_data"
    },
    {
     "name": "stdout",
     "output_type": "stream",
     "text": [
      "Accuracy on test set of the model CatBoostClassifier: 0.9709\n",
      "Precision on test set of the model CatBoostClassifier: 0.9657\n",
      "Recall on test set of the model CatBoostClassifier: 0.9765\n",
      "F1 on test set of the model CatBoostClassifier: 0.9710\n",
      "AUC on test set of the model CatBoostClassifier: 0.9709\n",
      "\n",
      "              precision    recall  f1-score   support\n",
      "\n",
      "           0       0.98      0.97      0.97   1000004\n",
      "           1       0.97      0.98      0.97    999996\n",
      "\n",
      "    accuracy                           0.97   2000000\n",
      "   macro avg       0.97      0.97      0.97   2000000\n",
      "weighted avg       0.97      0.97      0.97   2000000\n",
      "\n"
     ]
    },
    {
     "data": {
      "text/plain": [
       "{'accuracy': 0.9708705,\n",
       " 'precision': 0.9656683811872816,\n",
       " 'recall': 0.9764559058236233,\n",
       " 'f1': 0.9710321838657532,\n",
       " 'auc': 0.9708705223415339}"
      ]
     },
     "execution_count": 19,
     "metadata": {},
     "output_type": "execute_result"
    }
   ],
   "source": [
    "evaluate_model(\n",
    "    ctbc,\n",
    "    on=\"test\",\n",
    "    plot_cmat=True,\n",
    "    verbose=True,)"
   ]
  },
  {
   "cell_type": "code",
   "execution_count": 20,
   "id": "31b8c8ed",
   "metadata": {
    "execution": {
     "iopub.execute_input": "2023-06-01T09:26:00.428217Z",
     "iopub.status.busy": "2023-06-01T09:26:00.427241Z",
     "iopub.status.idle": "2023-06-01T09:26:02.712229Z",
     "shell.execute_reply": "2023-06-01T09:26:02.711145Z"
    },
    "papermill": {
     "duration": 2.307398,
     "end_time": "2023-06-01T09:26:02.714320",
     "exception": false,
     "start_time": "2023-06-01T09:26:00.406922",
     "status": "completed"
    },
    "tags": []
   },
   "outputs": [
    {
     "name": "stdout",
     "output_type": "stream",
     "text": [
      "0.9708705\n"
     ]
    }
   ],
   "source": [
    "ctbc_score = ctbc.score(X_test, y_test)\n",
    "print(ctbc_score)"
   ]
  },
  {
   "attachments": {},
   "cell_type": "markdown",
   "id": "989fecd2",
   "metadata": {
    "papermill": {
     "duration": 0.018947,
     "end_time": "2023-06-01T09:26:02.752409",
     "exception": false,
     "start_time": "2023-06-01T09:26:02.733462",
     "status": "completed"
    },
    "tags": []
   },
   "source": [
    "Catboost also performs quite well. It has a test accuracy of over 97%! Though, it is slightly worse than XGBoost."
   ]
  },
  {
   "attachments": {},
   "cell_type": "markdown",
   "id": "9e729b36",
   "metadata": {
    "papermill": {
     "duration": 0.019097,
     "end_time": "2023-06-01T09:26:02.791056",
     "exception": false,
     "start_time": "2023-06-01T09:26:02.771959",
     "status": "completed"
    },
    "tags": []
   },
   "source": [
    "# Creating Ensemble"
   ]
  },
  {
   "attachments": {},
   "cell_type": "markdown",
   "id": "02e4d870",
   "metadata": {
    "papermill": {
     "duration": 0.018981,
     "end_time": "2023-06-01T09:26:02.828890",
     "exception": false,
     "start_time": "2023-06-01T09:26:02.809909",
     "status": "completed"
    },
    "tags": []
   },
   "source": [
    "Let's create an ensemble of these three models and see how it performs:"
   ]
  },
  {
   "cell_type": "code",
   "execution_count": 21,
   "id": "54d7a22e",
   "metadata": {
    "execution": {
     "iopub.execute_input": "2023-06-01T09:26:02.906911Z",
     "iopub.status.busy": "2023-06-01T09:26:02.906554Z",
     "iopub.status.idle": "2023-06-01T09:26:02.913822Z",
     "shell.execute_reply": "2023-06-01T09:26:02.912917Z"
    },
    "papermill": {
     "duration": 0.029838,
     "end_time": "2023-06-01T09:26:02.915901",
     "exception": false,
     "start_time": "2023-06-01T09:26:02.886063",
     "status": "completed"
    },
    "tags": []
   },
   "outputs": [],
   "source": [
    "def evaluate_ensemble(models, X, y, voting=\"soft\"):\n",
    "    \"\"\"Evaluates an ensemble of models on a given dataset.\n",
    "\n",
    "    Parameters\n",
    "    ----------\n",
    "    models : list of models\n",
    "        The list of models to evaluate.\n",
    "    X : array-like of shape (n_samples, n_features)\n",
    "        The input samples.\n",
    "    y : array-like of shape (n_samples,)\n",
    "        The target values.\n",
    "    voting : str, default=\"soft\"\n",
    "        The type of voting to use. Can be either \"soft\" or \"hard\".\n",
    "\n",
    "    Returns\n",
    "    -------\n",
    "    preds : ndarray of shape (n_samples,)\n",
    "        The ensemble predictions.\n",
    "    \"\"\"\n",
    "    # Initialize an array to store the predictions for each model\n",
    "    preds = np.zeros((len(models), len(X)))\n",
    "\n",
    "    # Make predictions for each model\n",
    "    for i, model in tqdm(enumerate(models), \"Predicting...\"):\n",
    "        if voting == \"soft\":\n",
    "            preds[i] = model.predict_proba(X)[:, 1]\n",
    "        else:\n",
    "            preds[i] = model.predict(X)\n",
    "\n",
    "    # Compute the ensemble prediction based on the voting type\n",
    "    preds = np.round(np.mean(preds, axis=0))\n",
    "\n",
    "    # Compute the accuracy of the ensemble prediction\n",
    "    acc = np.mean(preds == y)\n",
    "\n",
    "    return preds, acc"
   ]
  },
  {
   "cell_type": "code",
   "execution_count": 22,
   "id": "bba7ce06",
   "metadata": {
    "execution": {
     "iopub.execute_input": "2023-06-01T09:26:02.957213Z",
     "iopub.status.busy": "2023-06-01T09:26:02.956826Z",
     "iopub.status.idle": "2023-06-01T09:27:10.099080Z",
     "shell.execute_reply": "2023-06-01T09:27:10.097921Z"
    },
    "papermill": {
     "duration": 67.166988,
     "end_time": "2023-06-01T09:27:10.102273",
     "exception": false,
     "start_time": "2023-06-01T09:26:02.935285",
     "status": "completed"
    },
    "tags": []
   },
   "outputs": [
    {
     "name": "stderr",
     "output_type": "stream",
     "text": [
      "Predicting...: 3it [00:33, 11.12s/it]\n",
      "Predicting...: 3it [00:33, 11.24s/it]\n"
     ]
    }
   ],
   "source": [
    "models = [rfc, xgbc, ctbc]\n",
    "soft_preds, soft_score = evaluate_ensemble(models, X_test, y_test, \"soft\")\n",
    "hard_preds, hard_score = evaluate_ensemble(models, X_test, y_test, \"hard\")"
   ]
  },
  {
   "cell_type": "code",
   "execution_count": 23,
   "id": "a97758d9",
   "metadata": {
    "execution": {
     "iopub.execute_input": "2023-06-01T09:27:10.143669Z",
     "iopub.status.busy": "2023-06-01T09:27:10.143322Z",
     "iopub.status.idle": "2023-06-01T09:27:10.148980Z",
     "shell.execute_reply": "2023-06-01T09:27:10.147934Z"
    },
    "papermill": {
     "duration": 0.029271,
     "end_time": "2023-06-01T09:27:10.151539",
     "exception": false,
     "start_time": "2023-06-01T09:27:10.122268",
     "status": "completed"
    },
    "tags": []
   },
   "outputs": [
    {
     "name": "stdout",
     "output_type": "stream",
     "text": [
      "RandomForest : 0.9749854803085327 | XGBoost: 0.9822525 | Catboost: 0.9708705 | Soft Ensemble: 0.97929 | Hard Ensemble 0.976249\n"
     ]
    }
   ],
   "source": [
    "print(f\"RandomForest : {rfc_score} | XGBoost: {xgbc_score} | Catboost: {ctbc_score} | Soft Ensemble: {soft_score} | Hard Ensemble {hard_score}\")"
   ]
  },
  {
   "attachments": {},
   "cell_type": "markdown",
   "id": "be063fe6",
   "metadata": {
    "papermill": {
     "duration": 0.019736,
     "end_time": "2023-06-01T09:27:10.191244",
     "exception": false,
     "start_time": "2023-06-01T09:27:10.171508",
     "status": "completed"
    },
    "tags": []
   },
   "source": [
    "It looks like XGBoost alone is giving the most accurate result! Furthermore, soft voting is giving better results than hard voting."
   ]
  }
 ],
 "metadata": {
  "kernelspec": {
   "display_name": "Python 3",
   "language": "python",
   "name": "python3"
  },
  "language_info": {
   "codemirror_mode": {
    "name": "ipython",
    "version": 3
   },
   "file_extension": ".py",
   "mimetype": "text/x-python",
   "name": "python",
   "nbconvert_exporter": "python",
   "pygments_lexer": "ipython3",
   "version": "3.10.10"
  },
  "papermill": {
   "default_parameters": {},
   "duration": 572.47034,
   "end_time": "2023-06-01T09:27:13.875447",
   "environment_variables": {},
   "exception": null,
   "input_path": "__notebook__.ipynb",
   "output_path": "__notebook__.ipynb",
   "parameters": {},
   "start_time": "2023-06-01T09:17:41.405107",
   "version": "2.4.0"
  }
 },
 "nbformat": 4,
 "nbformat_minor": 5
}

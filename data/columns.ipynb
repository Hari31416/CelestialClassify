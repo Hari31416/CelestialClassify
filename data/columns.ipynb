{
 "cells": [
  {
   "cell_type": "code",
   "execution_count": 1,
   "metadata": {},
   "outputs": [],
   "source": [
    "import pandas as pd"
   ]
  },
  {
   "cell_type": "code",
   "execution_count": 25,
   "metadata": {},
   "outputs": [
    {
     "data": {
      "text/html": [
       "<div>\n",
       "<style scoped>\n",
       "    .dataframe tbody tr th:only-of-type {\n",
       "        vertical-align: middle;\n",
       "    }\n",
       "\n",
       "    .dataframe tbody tr th {\n",
       "        vertical-align: top;\n",
       "    }\n",
       "\n",
       "    .dataframe thead th {\n",
       "        text-align: right;\n",
       "    }\n",
       "</style>\n",
       "<table border=\"1\" class=\"dataframe\">\n",
       "  <thead>\n",
       "    <tr style=\"text-align: right;\">\n",
       "      <th></th>\n",
       "      <th>Name</th>\n",
       "      <th>Type</th>\n",
       "      <th>Size</th>\n",
       "      <th>Content</th>\n",
       "      <th>Unit</th>\n",
       "      <th>Summary</th>\n",
       "    </tr>\n",
       "  </thead>\n",
       "  <tbody>\n",
       "    <tr>\n",
       "      <th>0</th>\n",
       "      <td>objID</td>\n",
       "      <td>bigint</td>\n",
       "      <td>8</td>\n",
       "      <td>NaN</td>\n",
       "      <td>NaN</td>\n",
       "      <td>Unique SDSS identifier composed from [skyVersi...</td>\n",
       "    </tr>\n",
       "    <tr>\n",
       "      <th>1</th>\n",
       "      <td>skyVersion</td>\n",
       "      <td>tinyint</td>\n",
       "      <td>1</td>\n",
       "      <td>NaN</td>\n",
       "      <td>NaN</td>\n",
       "      <td>Layer of catalog (currently only one layer, 0;...</td>\n",
       "    </tr>\n",
       "    <tr>\n",
       "      <th>2</th>\n",
       "      <td>run</td>\n",
       "      <td>smallint</td>\n",
       "      <td>2</td>\n",
       "      <td>NaN</td>\n",
       "      <td>NaN</td>\n",
       "      <td>Run number</td>\n",
       "    </tr>\n",
       "    <tr>\n",
       "      <th>3</th>\n",
       "      <td>rerun</td>\n",
       "      <td>smallint</td>\n",
       "      <td>2</td>\n",
       "      <td>NaN</td>\n",
       "      <td>NaN</td>\n",
       "      <td>Rerun number</td>\n",
       "    </tr>\n",
       "    <tr>\n",
       "      <th>4</th>\n",
       "      <td>camcol</td>\n",
       "      <td>tinyint</td>\n",
       "      <td>1</td>\n",
       "      <td>NaN</td>\n",
       "      <td>NaN</td>\n",
       "      <td>Camera column</td>\n",
       "    </tr>\n",
       "  </tbody>\n",
       "</table>\n",
       "</div>"
      ],
      "text/plain": [
       "         Name      Type  Size  Content Unit  \\\n",
       "0       objID    bigint     8      NaN  NaN   \n",
       "1  skyVersion   tinyint     1      NaN  NaN   \n",
       "2         run  smallint     2      NaN  NaN   \n",
       "3       rerun  smallint     2      NaN  NaN   \n",
       "4      camcol   tinyint     1      NaN  NaN   \n",
       "\n",
       "                                             Summary  \n",
       "0  Unique SDSS identifier composed from [skyVersi...  \n",
       "1  Layer of catalog (currently only one layer, 0;...  \n",
       "2                                         Run number  \n",
       "3                                       Rerun number  \n",
       "4                                      Camera column  "
      ]
     },
     "execution_count": 25,
     "metadata": {},
     "output_type": "execute_result"
    }
   ],
   "source": [
    "table = pd.read_html(\"info.html\")[0]\n",
    "table.head()"
   ]
  },
  {
   "cell_type": "code",
   "execution_count": 4,
   "metadata": {},
   "outputs": [],
   "source": [
    "cols = ['objID', 'run', 'camcol', 'field', 'type', 'rowv', 'colv', 'u', 'g',\n",
    "       'r', 'i', 'z', 'psfMag_u', 'psfMag_g', 'psfMag_r', 'psfMag_i',\n",
    "       'psfMag_z', 'modelFlux_u', 'modelFlux_g', 'modelFlux_r', 'modelFlux_i',\n",
    "       'modelFlux_z', 'petroRad_u', 'petroRad_g', 'petroRad_r', 'petroRad_i',\n",
    "       'petroRad_z', 'expRad_u', 'expRad_g', 'expRad_r', 'expRad_i',\n",
    "       'expRad_z', 'q_u', 'q_g', 'q_r', 'q_i', 'q_z', 'u_u', 'u_g', 'u_r',\n",
    "       'u_i', 'u_z', 'expAB_u', 'expAB_g', 'expAB_r', 'expAB_i', 'expAB_z',\n",
    "       'ra', 'dec', 'b', 'l']"
   ]
  },
  {
   "cell_type": "code",
   "execution_count": 28,
   "metadata": {},
   "outputs": [],
   "source": [
    "useful_table = table[table[\"Name\"].apply(lambda x: x in cols)]"
   ]
  },
  {
   "cell_type": "code",
   "execution_count": 31,
   "metadata": {},
   "outputs": [
    {
     "name": "stderr",
     "output_type": "stream",
     "text": [
      "/tmp/ipykernel_43649/52632282.py:2: SettingWithCopyWarning: \n",
      "A value is trying to be set on a copy of a slice from a DataFrame\n",
      "\n",
      "See the caveats in the documentation: https://pandas.pydata.org/pandas-docs/stable/user_guide/indexing.html#returning-a-view-versus-a-copy\n",
      "  useful_table.fillna(\"\", inplace=True)\n"
     ]
    }
   ],
   "source": [
    "useful_table = useful_table[[\"Name\", \"Summary\", \"Unit\"]]\n",
    "useful_table.fillna(\"\", inplace=True)"
   ]
  },
  {
   "cell_type": "code",
   "execution_count": 33,
   "metadata": {},
   "outputs": [],
   "source": [
    "useful_table.to_markdown(\"columns.md\", index=False)"
   ]
  }
 ],
 "metadata": {
  "kernelspec": {
   "display_name": "data-science",
   "language": "python",
   "name": "python3"
  },
  "language_info": {
   "codemirror_mode": {
    "name": "ipython",
    "version": 3
   },
   "file_extension": ".py",
   "mimetype": "text/x-python",
   "name": "python",
   "nbconvert_exporter": "python",
   "pygments_lexer": "ipython3",
   "version": "3.9.15"
  },
  "orig_nbformat": 4
 },
 "nbformat": 4,
 "nbformat_minor": 2
}

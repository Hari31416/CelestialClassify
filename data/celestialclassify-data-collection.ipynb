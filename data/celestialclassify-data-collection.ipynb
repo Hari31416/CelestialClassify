{
 "cells": [
  {
   "cell_type": "markdown",
   "id": "e2242456",
   "metadata": {
    "papermill": {
     "duration": 0.008613,
     "end_time": "2023-04-02T06:10:34.176035",
     "exception": false,
     "start_time": "2023-04-02T06:10:34.167422",
     "status": "completed"
    },
    "tags": []
   },
   "source": [
    "# Imports and Setup"
   ]
  },
  {
   "cell_type": "markdown",
   "id": "b7aac643",
   "metadata": {
    "papermill": {
     "duration": 0.007122,
     "end_time": "2023-04-02T06:10:34.190608",
     "exception": false,
     "start_time": "2023-04-02T06:10:34.183486",
     "status": "completed"
    },
    "tags": []
   },
   "source": [
    "## Installing the `SciScript` Library"
   ]
  },
  {
   "cell_type": "code",
   "execution_count": 1,
   "id": "13d0a275",
   "metadata": {
    "execution": {
     "iopub.execute_input": "2023-04-02T06:10:34.207514Z",
     "iopub.status.busy": "2023-04-02T06:10:34.206701Z",
     "iopub.status.idle": "2023-04-02T06:10:35.984242Z",
     "shell.execute_reply": "2023-04-02T06:10:35.982721Z"
    },
    "papermill": {
     "duration": 1.789394,
     "end_time": "2023-04-02T06:10:35.987204",
     "exception": false,
     "start_time": "2023-04-02T06:10:34.197810",
     "status": "completed"
    },
    "tags": []
   },
   "outputs": [
    {
     "name": "stdout",
     "output_type": "stream",
     "text": [
      "Cloning into 'SciScript-Python'...\r\n",
      "remote: Enumerating objects: 1354, done.\u001b[K\r\n",
      "remote: Counting objects: 100% (193/193), done.\u001b[K\r\n",
      "remote: Compressing objects: 100% (106/106), done.\u001b[K\r\n",
      "remote: Total 1354 (delta 104), reused 164 (delta 87), pack-reused 1161\u001b[K\r\n",
      "Receiving objects: 100% (1354/1354), 423.95 KiB | 10.34 MiB/s, done.\r\n",
      "Resolving deltas: 100% (769/769), done.\r\n"
     ]
    }
   ],
   "source": [
    "\n",
    "!git clone https://github.com/sciserver/SciScript-Python.git/"
   ]
  },
  {
   "cell_type": "code",
   "execution_count": 2,
   "id": "39a87c50",
   "metadata": {
    "execution": {
     "iopub.execute_input": "2023-04-02T06:10:36.006764Z",
     "iopub.status.busy": "2023-04-02T06:10:36.006290Z",
     "iopub.status.idle": "2023-04-02T06:10:36.015441Z",
     "shell.execute_reply": "2023-04-02T06:10:36.013944Z"
    },
    "papermill": {
     "duration": 0.021943,
     "end_time": "2023-04-02T06:10:36.018043",
     "exception": false,
     "start_time": "2023-04-02T06:10:35.996100",
     "status": "completed"
    },
    "tags": []
   },
   "outputs": [
    {
     "name": "stdout",
     "output_type": "stream",
     "text": [
      "/kaggle/working/SciScript-Python/py3\n"
     ]
    }
   ],
   "source": [
    "cd SciScript-Python/py3"
   ]
  },
  {
   "cell_type": "code",
   "execution_count": 3,
   "id": "fa33d4ce",
   "metadata": {
    "execution": {
     "iopub.execute_input": "2023-04-02T06:10:36.036418Z",
     "iopub.status.busy": "2023-04-02T06:10:36.035936Z",
     "iopub.status.idle": "2023-04-02T06:10:38.848618Z",
     "shell.execute_reply": "2023-04-02T06:10:38.847387Z"
    },
    "papermill": {
     "duration": 2.825183,
     "end_time": "2023-04-02T06:10:38.851482",
     "exception": false,
     "start_time": "2023-04-02T06:10:36.026299",
     "status": "completed"
    },
    "tags": []
   },
   "outputs": [
    {
     "name": "stdout",
     "output_type": "stream",
     "text": [
      "running install\r\n",
      "/opt/conda/lib/python3.7/site-packages/setuptools/command/install.py:37: SetuptoolsDeprecationWarning: setup.py install is deprecated. Use build and pip and other standards-based tools.\r\n",
      "  setuptools.SetuptoolsDeprecationWarning,\r\n",
      "/opt/conda/lib/python3.7/site-packages/setuptools/command/easy_install.py:159: EasyInstallDeprecationWarning: easy_install command is deprecated. Use build and pip and other standards-based tools.\r\n",
      "  EasyInstallDeprecationWarning,\r\n",
      "running bdist_egg\r\n",
      "running egg_info\r\n",
      "creating SciServer.egg-info\r\n",
      "writing SciServer.egg-info/PKG-INFO\r\n",
      "writing dependency_links to SciServer.egg-info/dependency_links.txt\r\n",
      "writing top-level names to SciServer.egg-info/top_level.txt\r\n",
      "writing manifest file 'SciServer.egg-info/SOURCES.txt'\r\n",
      "writing manifest file 'SciServer.egg-info/SOURCES.txt'\r\n",
      "installing library code to build/bdist.linux-x86_64/egg\r\n",
      "running install_lib\r\n",
      "running build_py\r\n",
      "creating build\r\n",
      "creating build/lib\r\n",
      "creating build/lib/SciServer\r\n",
      "copying SciServer/Jobs.py -> build/lib/SciServer\r\n",
      "copying SciServer/CasJobs.py -> build/lib/SciServer\r\n",
      "copying SciServer/SkyQuery.py -> build/lib/SciServer\r\n",
      "copying SciServer/SciDrive.py -> build/lib/SciServer\r\n",
      "copying SciServer/Dask.py -> build/lib/SciServer\r\n",
      "copying SciServer/Files.py -> build/lib/SciServer\r\n",
      "copying SciServer/LoginPortal.py -> build/lib/SciServer\r\n",
      "copying SciServer/Authentication.py -> build/lib/SciServer\r\n",
      "copying SciServer/Config.py -> build/lib/SciServer\r\n",
      "copying SciServer/__init__.py -> build/lib/SciServer\r\n",
      "copying SciServer/SkyServer.py -> build/lib/SciServer\r\n",
      "creating build/bdist.linux-x86_64\r\n",
      "creating build/bdist.linux-x86_64/egg\r\n",
      "creating build/bdist.linux-x86_64/egg/SciServer\r\n",
      "copying build/lib/SciServer/Jobs.py -> build/bdist.linux-x86_64/egg/SciServer\r\n",
      "copying build/lib/SciServer/CasJobs.py -> build/bdist.linux-x86_64/egg/SciServer\r\n",
      "copying build/lib/SciServer/SkyQuery.py -> build/bdist.linux-x86_64/egg/SciServer\r\n",
      "copying build/lib/SciServer/SciDrive.py -> build/bdist.linux-x86_64/egg/SciServer\r\n",
      "copying build/lib/SciServer/Dask.py -> build/bdist.linux-x86_64/egg/SciServer\r\n",
      "copying build/lib/SciServer/Files.py -> build/bdist.linux-x86_64/egg/SciServer\r\n",
      "copying build/lib/SciServer/LoginPortal.py -> build/bdist.linux-x86_64/egg/SciServer\r\n",
      "copying build/lib/SciServer/Authentication.py -> build/bdist.linux-x86_64/egg/SciServer\r\n",
      "copying build/lib/SciServer/Config.py -> build/bdist.linux-x86_64/egg/SciServer\r\n",
      "copying build/lib/SciServer/__init__.py -> build/bdist.linux-x86_64/egg/SciServer\r\n",
      "copying build/lib/SciServer/SkyServer.py -> build/bdist.linux-x86_64/egg/SciServer\r\n",
      "byte-compiling build/bdist.linux-x86_64/egg/SciServer/Jobs.py to Jobs.cpython-37.pyc\r\n",
      "byte-compiling build/bdist.linux-x86_64/egg/SciServer/CasJobs.py to CasJobs.cpython-37.pyc\r\n",
      "byte-compiling build/bdist.linux-x86_64/egg/SciServer/SkyQuery.py to SkyQuery.cpython-37.pyc\r\n",
      "byte-compiling build/bdist.linux-x86_64/egg/SciServer/SciDrive.py to SciDrive.cpython-37.pyc\r\n",
      "byte-compiling build/bdist.linux-x86_64/egg/SciServer/Dask.py to Dask.cpython-37.pyc\r\n",
      "byte-compiling build/bdist.linux-x86_64/egg/SciServer/Files.py to Files.cpython-37.pyc\r\n",
      "byte-compiling build/bdist.linux-x86_64/egg/SciServer/LoginPortal.py to LoginPortal.cpython-37.pyc\r\n",
      "byte-compiling build/bdist.linux-x86_64/egg/SciServer/Authentication.py to Authentication.cpython-37.pyc\r\n",
      "byte-compiling build/bdist.linux-x86_64/egg/SciServer/Config.py to Config.cpython-37.pyc\r\n",
      "byte-compiling build/bdist.linux-x86_64/egg/SciServer/__init__.py to __init__.cpython-37.pyc\r\n",
      "byte-compiling build/bdist.linux-x86_64/egg/SciServer/SkyServer.py to SkyServer.cpython-37.pyc\r\n",
      "creating build/bdist.linux-x86_64/egg/EGG-INFO\r\n",
      "copying SciServer.egg-info/PKG-INFO -> build/bdist.linux-x86_64/egg/EGG-INFO\r\n",
      "copying SciServer.egg-info/SOURCES.txt -> build/bdist.linux-x86_64/egg/EGG-INFO\r\n",
      "copying SciServer.egg-info/dependency_links.txt -> build/bdist.linux-x86_64/egg/EGG-INFO\r\n",
      "copying SciServer.egg-info/top_level.txt -> build/bdist.linux-x86_64/egg/EGG-INFO\r\n",
      "zip_safe flag not set; analyzing archive contents...\r\n",
      "creating dist\r\n",
      "creating 'dist/SciServer-2.1.0-py3.7.egg' and adding 'build/bdist.linux-x86_64/egg' to it\r\n",
      "removing 'build/bdist.linux-x86_64/egg' (and everything under it)\r\n",
      "Processing SciServer-2.1.0-py3.7.egg\r\n",
      "Copying SciServer-2.1.0-py3.7.egg to /opt/conda/lib/python3.7/site-packages\r\n",
      "Adding SciServer 2.1.0 to easy-install.pth file\r\n",
      "\r\n",
      "Installed /opt/conda/lib/python3.7/site-packages/SciServer-2.1.0-py3.7.egg\r\n",
      "Processing dependencies for SciServer==2.1.0\r\n",
      "Finished processing dependencies for SciServer==2.1.0\r\n"
     ]
    }
   ],
   "source": [
    "!python setup.py install"
   ]
  },
  {
   "cell_type": "markdown",
   "id": "1449ebc8",
   "metadata": {
    "papermill": {
     "duration": 0.008449,
     "end_time": "2023-04-02T06:10:38.869170",
     "exception": false,
     "start_time": "2023-04-02T06:10:38.860721",
     "status": "completed"
    },
    "tags": []
   },
   "source": [
    "## Imports"
   ]
  },
  {
   "cell_type": "code",
   "execution_count": 1,
   "id": "e0c8e524",
   "metadata": {
    "execution": {
     "iopub.execute_input": "2023-04-02T06:10:38.888753Z",
     "iopub.status.busy": "2023-04-02T06:10:38.888315Z",
     "iopub.status.idle": "2023-04-02T06:10:38.903197Z",
     "shell.execute_reply": "2023-04-02T06:10:38.901940Z"
    },
    "papermill": {
     "duration": 0.028793,
     "end_time": "2023-04-02T06:10:38.906489",
     "exception": false,
     "start_time": "2023-04-02T06:10:38.877696",
     "status": "completed"
    },
    "tags": []
   },
   "outputs": [],
   "source": [
    "from SciServer import CasJobs  # Communicate between SciServer Compute and CasJobs\n",
    "from SciServer import Authentication  # Authenticate users\n",
    "# from kaggle_secrets import UserSecretsClient #Kaggle secrets\n",
    "import pandas as pd\n",
    "import numpy as np\n",
    "import datetime\n",
    "import os"
   ]
  },
  {
   "cell_type": "markdown",
   "id": "88914a6f",
   "metadata": {
    "papermill": {
     "duration": 0.008842,
     "end_time": "2023-04-02T06:10:38.924583",
     "exception": false,
     "start_time": "2023-04-02T06:10:38.915741",
     "status": "completed"
    },
    "tags": []
   },
   "source": [
    "## Authenticating"
   ]
  },
  {
   "cell_type": "code",
   "execution_count": 5,
   "id": "9a3d082f",
   "metadata": {
    "execution": {
     "iopub.execute_input": "2023-04-02T06:10:38.943765Z",
     "iopub.status.busy": "2023-04-02T06:10:38.943362Z",
     "iopub.status.idle": "2023-04-02T06:10:39.224432Z",
     "shell.execute_reply": "2023-04-02T06:10:39.222818Z"
    },
    "papermill": {
     "duration": 0.294247,
     "end_time": "2023-04-02T06:10:39.227377",
     "exception": false,
     "start_time": "2023-04-02T06:10:38.933130",
     "status": "completed"
    },
    "tags": []
   },
   "outputs": [],
   "source": [
    "token = \"6ee0c47a31754ae1bef3d7e701f6fb3e\"\n",
    "Authentication.setToken(token)"
   ]
  },
  {
   "cell_type": "markdown",
   "id": "3e6ae840",
   "metadata": {
    "papermill": {
     "duration": 0.008137,
     "end_time": "2023-04-02T06:10:39.244124",
     "exception": false,
     "start_time": "2023-04-02T06:10:39.235987",
     "status": "completed"
    },
    "tags": []
   },
   "source": [
    "Let's see if the authentication worked."
   ]
  },
  {
   "cell_type": "code",
   "execution_count": null,
   "id": "36f28c61",
   "metadata": {
    "execution": {
     "iopub.execute_input": "2023-04-02T06:10:39.264488Z",
     "iopub.status.busy": "2023-04-02T06:10:39.263140Z",
     "iopub.status.idle": "2023-04-02T06:10:41.453572Z",
     "shell.execute_reply": "2023-04-02T06:10:41.452287Z"
    },
    "papermill": {
     "duration": 2.204333,
     "end_time": "2023-04-02T06:10:41.456919",
     "exception": false,
     "start_time": "2023-04-02T06:10:39.252586",
     "status": "completed"
    },
    "tags": []
   },
   "outputs": [],
   "source": [
    "query = \"\"\"select top 10 objid, ra, dec, r\n",
    "from galaxy\n",
    "where clean = 1\"\"\"\n",
    "\n",
    "df = CasJobs.executeQuery(sql=query, context=\"DR18\")\n",
    "df"
   ]
  },
  {
   "cell_type": "markdown",
   "id": "09de18c2",
   "metadata": {
    "papermill": {
     "duration": 0.008396,
     "end_time": "2023-04-02T06:10:41.474736",
     "exception": false,
     "start_time": "2023-04-02T06:10:41.466340",
     "status": "completed"
    },
    "tags": []
   },
   "source": [
    "So, it did work! Now the main tasks."
   ]
  },
  {
   "cell_type": "markdown",
   "id": "1a6a02a0",
   "metadata": {
    "papermill": {
     "duration": 0.008371,
     "end_time": "2023-04-02T06:10:41.491923",
     "exception": false,
     "start_time": "2023-04-02T06:10:41.483552",
     "status": "completed"
    },
    "tags": []
   },
   "source": [
    "# Loading Data"
   ]
  },
  {
   "cell_type": "markdown",
   "id": "372184d3",
   "metadata": {
    "papermill": {
     "duration": 0.008722,
     "end_time": "2023-04-02T06:10:41.509427",
     "exception": false,
     "start_time": "2023-04-02T06:10:41.500705",
     "status": "completed"
    },
    "tags": []
   },
   "source": [
    "## Some Functions"
   ]
  },
  {
   "cell_type": "markdown",
   "id": "6f88e5ee",
   "metadata": {
    "papermill": {
     "duration": 0.008431,
     "end_time": "2023-04-02T06:10:41.526939",
     "exception": false,
     "start_time": "2023-04-02T06:10:41.518508",
     "status": "completed"
    },
    "tags": []
   },
   "source": [
    "Here, some functions can be found to help with the data download."
   ]
  },
  {
   "cell_type": "code",
   "execution_count": 8,
   "id": "8e933a44",
   "metadata": {
    "execution": {
     "iopub.execute_input": "2023-04-02T06:10:41.547209Z",
     "iopub.status.busy": "2023-04-02T06:10:41.546811Z",
     "iopub.status.idle": "2023-04-02T06:10:41.562114Z",
     "shell.execute_reply": "2023-04-02T06:10:41.560699Z"
    },
    "papermill": {
     "duration": 0.028765,
     "end_time": "2023-04-02T06:10:41.564636",
     "exception": false,
     "start_time": "2023-04-02T06:10:41.535871",
     "status": "completed"
    },
    "tags": []
   },
   "outputs": [],
   "source": [
    "def tables_format(tables):\n",
    "    \"\"\"Formats the table dictionary returned by `CasJobs.getTables()` to be more human-readable\n",
    "    \n",
    "    Parameters\n",
    "    ----------\n",
    "    tables : dict\n",
    "        Dictionary of table information returned by CasJobs\n",
    "    \n",
    "    Returns\n",
    "    ---------\n",
    "    None\n",
    "    \"\"\"\n",
    "    tables = sorted(tables, key=lambda k: k[\"Name\"])  # alphabetize by table name\n",
    "\n",
    "    tables_final = pd.DataFrame()\n",
    "    names = []\n",
    "    rows = []\n",
    "    sizes = []\n",
    "    createds = []\n",
    "\n",
    "    for table in tables:\n",
    "        names.append(table[\"Name\"])\n",
    "        rows.append(table[\"Rows\"])\n",
    "        sizes.append(table[\"Size\"])\n",
    "\n",
    "        create_date = table[\"Date\"]\n",
    "        create_sec = (\n",
    "            create_date / 10000000\n",
    "        ) \n",
    "        firstday = datetime.datetime(1, 1, 1, 0, 0)  # Save 1 AD as \"firstday\"\n",
    "        created = firstday + datetime.timedelta(\n",
    "            seconds=create_sec\n",
    "        )\n",
    "        createds.append(created.strftime(\"%Y-%m-%d %H:%M:%S\"))\n",
    "    tables_final[\"Name\"] = names\n",
    "    tables_final[\"Rows\"] = rows\n",
    "    tables_final[\"Size (KB)\"] = sizes\n",
    "    tables_final[\"Created\"] = createds\n",
    "    return tables_final\n",
    "\n",
    "def job_describer(job_description):\n",
    "    \"\"\"Prints the results of the CasJobs job status functions in a human-readable manner\n",
    "\n",
    "    Parameters\n",
    "    ----------\n",
    "    job_description : dict\n",
    "        Dictionary of job status information returned by CasJobs\n",
    "    \n",
    "    Returns\n",
    "    -------\n",
    "    None\n",
    "    \"\"\"\n",
    "\n",
    "    code_to_status = {\n",
    "        0: \"Not Started\",\n",
    "        1: \"Started\",\n",
    "        5: \"Completed\",\n",
    "        2: \"Cancelling\",\n",
    "        3: \"Cancelled\",\n",
    "        4: \"Failed\",\n",
    "    }\n",
    "    status = job_description[\"Status\"]\n",
    "    if status in code_to_status:\n",
    "        status = code_to_status[status]\n",
    "    else:\n",
    "        status = \"Unknown\"\n",
    "    \n",
    "    if job_description[\"Status\"] == 0:\n",
    "        print(\"The Job has not started yet.\")\n",
    "        return \n",
    "    \n",
    "    job_ID = job_description[\"JobID\"]\n",
    "    target = job_description[\"Target\"]\n",
    "    message = job_description[\"Message\"]\n",
    "    create_table = job_description[\"Created_Table\"]\n",
    "    rows = job_description[\"Rows\"]\n",
    "    start_time = pd.to_datetime(job_description[\"TimeStart\"])\n",
    "    end_time = pd.to_datetime(job_description[\"TimeEnd\"])\n",
    "    submit_time = pd.to_datetime(job_description[\"TimeSubmit\"])\n",
    "\n",
    "    wait_time = (start_time - submit_time).total_seconds()\n",
    "    run_time = (end_time - start_time).total_seconds()\n",
    "\n",
    "    print(f\"Job ID: {job_ID}\")\n",
    "    print(f\"Status: {status}\")\n",
    "    print(f\"Target: {target}\")\n",
    "    print(f\"Created Table: {create_table}\")\n",
    "    print(f\"Rows: {rows}\")\n",
    "    print(f\"Message: {message}\")\n",
    "    print(f\"Submit Time: {submit_time}\")\n",
    "    print(f\"Start Time: {start_time}\")\n",
    "    print(f\"End Time: {end_time}\")\n",
    "    print(f\"Wait Time: {wait_time} seconds\")\n",
    "    print(f\"Run Time: {run_time} seconds\")"
   ]
  },
  {
   "cell_type": "markdown",
   "id": "a0b518f6",
   "metadata": {
    "papermill": {
     "duration": 0.00907,
     "end_time": "2023-04-02T06:10:41.582699",
     "exception": false,
     "start_time": "2023-04-02T06:10:41.573629",
     "status": "completed"
    },
    "tags": []
   },
   "source": [
    "## What Data to Include?"
   ]
  },
  {
   "cell_type": "markdown",
   "id": "7f58dce5",
   "metadata": {
    "papermill": {
     "duration": 0.008479,
     "end_time": "2023-04-02T06:10:41.600029",
     "exception": false,
     "start_time": "2023-04-02T06:10:41.591550",
     "status": "completed"
    },
    "tags": []
   },
   "source": [
    "First, start with lower columns and rows. If performance is satisfactory, load more columns and/or rows."
   ]
  },
  {
   "cell_type": "markdown",
   "id": "b4eb5efa",
   "metadata": {
    "papermill": {
     "duration": 0.008454,
     "end_time": "2023-04-02T06:10:41.617406",
     "exception": false,
     "start_time": "2023-04-02T06:10:41.608952",
     "status": "completed"
    },
    "tags": []
   },
   "source": [
    ">{c} = u, g, r, i, z"
   ]
  },
  {
   "cell_type": "markdown",
   "id": "d2f707cc",
   "metadata": {
    "papermill": {
     "duration": 0.008647,
     "end_time": "2023-04-02T06:10:41.635059",
     "exception": false,
     "start_time": "2023-04-02T06:10:41.626412",
     "status": "completed"
    },
    "tags": []
   },
   "source": [
    "Columns which we are going to use:\n",
    "`PhotoPrimary` View\n",
    "- objID, run, camcol, field (For identification)\n",
    "- rowv, colv (all deg/day)\n",
    "- modelFlux_{c}, {c}, psfMag_{c} (mag or nanomaggies)\n",
    "- petroRad_{c}, deVRad_{c}, expRad_{c} (arcsec)\n",
    "- q_{c}, u_{c}, expAB_{c} (Some ratios)\n",
    "- ra, dec, b, l (for position)\n",
    "- type"
   ]
  },
  {
   "cell_type": "markdown",
   "id": "28b05f0a",
   "metadata": {
    "papermill": {
     "duration": 0.008297,
     "end_time": "2023-04-02T06:10:41.652190",
     "exception": false,
     "start_time": "2023-04-02T06:10:41.643893",
     "status": "completed"
    },
    "tags": []
   },
   "source": [
    "Conditions which we are going to use:\n",
    "- nChild = 0\n",
    "- clean = 1\n",
    "\n",
    "```sql\n",
    "  (sa.specObjID=0) and\n",
    "  (sa.psfmag_u < 35) and\n",
    "  (sa.psfmag_g < 35) and\n",
    "  (sa.psfmag_r < 35) and\n",
    "  (sa.psfmag_i < 35) and\n",
    "  (sa.psfmag_z < 35) and\n",
    "  (sa.psfmag_u > 0) and\n",
    "  (sa.psfmag_g > 0) and\n",
    "  (sa.psfmag_r > 0) and\n",
    "  (sa.psfmag_i > 0) and\n",
    "  (sa.psfmag_z > 0) and\n",
    "  ```"
   ]
  },
  {
   "cell_type": "markdown",
   "id": "e8b652ac",
   "metadata": {
    "papermill": {
     "duration": 0.008284,
     "end_time": "2023-04-02T06:10:41.669774",
     "exception": false,
     "start_time": "2023-04-02T06:10:41.661490",
     "status": "completed"
    },
    "tags": []
   },
   "source": [
    "Let's write the query:\n",
    "\n",
    "```sql\n",
    "SELECT objID, run, camcol, field, type,\n",
    "rowv, colv,\n",
    "psfMag_u, psfMag_g, psfMag_r, psfMag_i, psfMag_z,\n",
    "petroRad_u, petroRad_g, petroRad_r, petroRad_i, petroRad_z, \n",
    "q_u, q_g, q_r, q_i, q_z,\n",
    "ra, dec, b, l\n",
    "FROM PhotoPrimary\n",
    "WHERE\n",
    "  (nchild = 0) and\n",
    "  (clean = 1) and\n",
    "  (specObjID=0) and\n",
    "  (psfmag_u < 35) and\n",
    "  (psfmag_g < 35) and\n",
    "  (psfmag_r < 35) and\n",
    "  (psfmag_i < 35) and\n",
    "  (psfmag_z < 35) and\n",
    "  (psfmag_u > 0) and\n",
    "  (psfmag_g > 0) and\n",
    "  (psfmag_r > 0) and\n",
    "  (psfmag_i > 0) and\n",
    "  (psfmag_z > 0) and\n",
    "```"
   ]
  },
  {
   "cell_type": "markdown",
   "id": "80b4ff6e",
   "metadata": {
    "papermill": {
     "duration": 0.008645,
     "end_time": "2023-04-02T06:10:41.687460",
     "exception": false,
     "start_time": "2023-04-02T06:10:41.678815",
     "status": "completed"
    },
    "tags": []
   },
   "source": [
    "Let's see how many columns there are:"
   ]
  },
  {
   "cell_type": "code",
   "execution_count": 8,
   "id": "11f8429f",
   "metadata": {
    "execution": {
     "iopub.execute_input": "2023-04-02T06:10:41.707204Z",
     "iopub.status.busy": "2023-04-02T06:10:41.706459Z",
     "iopub.status.idle": "2023-04-02T06:10:41.713366Z",
     "shell.execute_reply": "2023-04-02T06:10:41.711733Z"
    },
    "papermill": {
     "duration": 0.020042,
     "end_time": "2023-04-02T06:10:41.716114",
     "exception": false,
     "start_time": "2023-04-02T06:10:41.696072",
     "status": "completed"
    },
    "tags": []
   },
   "outputs": [
    {
     "name": "stdout",
     "output_type": "stream",
     "text": [
      "SELECT type, COUNT(*) as num_samples\n",
      "into mydb.info\n",
      "FROM PhotoPrimary\n",
      "WHERE\n",
      "  (clean = 1) and\n",
      "  (specObjID = 0) and\n",
      "  (psfmag_u < 35) and\n",
      "  (psfmag_g < 35) and\n",
      "  (psfmag_r < 35) and\n",
      "  (psfmag_i < 35) and\n",
      "  (psfmag_z < 35) and\n",
      "  (psfmag_u > 0) and\n",
      "  (psfmag_g > 0) and\n",
      "  (psfmag_r > 0) and\n",
      "  (psfmag_i > 0) and\n",
      "  (psfmag_z > 0)\n",
      "GROUP BY type\n"
     ]
    }
   ],
   "source": [
    "query = \"\"\"SELECT type, COUNT(*) as num_samples\n",
    "into mydb.info\n",
    "FROM PhotoPrimary\n",
    "WHERE\n",
    "  (clean = 1) and\n",
    "  (specObjID = 0) and\n",
    "  (psfmag_u < 35) and\n",
    "  (psfmag_g < 35) and\n",
    "  (psfmag_r < 35) and\n",
    "  (psfmag_i < 35) and\n",
    "  (psfmag_z < 35) and\n",
    "  (psfmag_u > 0) and\n",
    "  (psfmag_g > 0) and\n",
    "  (psfmag_r > 0) and\n",
    "  (psfmag_i > 0) and\n",
    "  (psfmag_z > 0)\n",
    "GROUP BY type\"\"\"\n",
    "\n",
    "print(query)\n",
    "# job_id = CasJobs.submitJob(sql=query, context=\"DR18\")\n",
    "# job_description = CasJobs.waitForJob(jobId=job_id)\n",
    "# job_describer(job_description=job_description)"
   ]
  },
  {
   "cell_type": "markdown",
   "id": "38647885",
   "metadata": {
    "papermill": {
     "duration": 0.008705,
     "end_time": "2023-04-02T06:10:41.733870",
     "exception": false,
     "start_time": "2023-04-02T06:10:41.725165",
     "status": "completed"
    },
    "tags": []
   },
   "source": [
    "I've commented the above job submission as I don't want to run it again. The result is saved in `info` table."
   ]
  },
  {
   "cell_type": "code",
   "execution_count": 9,
   "id": "da48c193",
   "metadata": {
    "execution": {
     "iopub.execute_input": "2023-04-02T06:10:41.754931Z",
     "iopub.status.busy": "2023-04-02T06:10:41.754254Z",
     "iopub.status.idle": "2023-04-02T06:10:43.716661Z",
     "shell.execute_reply": "2023-04-02T06:10:43.715011Z"
    },
    "papermill": {
     "duration": 1.977444,
     "end_time": "2023-04-02T06:10:43.720874",
     "exception": false,
     "start_time": "2023-04-02T06:10:41.743430",
     "status": "completed"
    },
    "tags": []
   },
   "outputs": [
    {
     "data": {
      "text/html": [
       "<div>\n",
       "<style scoped>\n",
       "    .dataframe tbody tr th:only-of-type {\n",
       "        vertical-align: middle;\n",
       "    }\n",
       "\n",
       "    .dataframe tbody tr th {\n",
       "        vertical-align: top;\n",
       "    }\n",
       "\n",
       "    .dataframe thead th {\n",
       "        text-align: right;\n",
       "    }\n",
       "</style>\n",
       "<table border=\"1\" class=\"dataframe\">\n",
       "  <thead>\n",
       "    <tr style=\"text-align: right;\">\n",
       "      <th></th>\n",
       "      <th>type</th>\n",
       "      <th>num_samples</th>\n",
       "    </tr>\n",
       "  </thead>\n",
       "  <tbody>\n",
       "    <tr>\n",
       "      <th>0</th>\n",
       "      <td>3</td>\n",
       "      <td>131561928</td>\n",
       "    </tr>\n",
       "    <tr>\n",
       "      <th>1</th>\n",
       "      <td>6</td>\n",
       "      <td>174567056</td>\n",
       "    </tr>\n",
       "  </tbody>\n",
       "</table>\n",
       "</div>"
      ],
      "text/plain": [
       "   type  num_samples\n",
       "0     3    131561928\n",
       "1     6    174567056"
      ]
     },
     "execution_count": 9,
     "metadata": {},
     "output_type": "execute_result"
    }
   ],
   "source": [
    "q = \"\"\"SELECT *\n",
    "FROM info\n",
    "\"\"\"\n",
    "data = CasJobs.executeQuery(sql=q, context=\"mydb\")\n",
    "data.head()"
   ]
  },
  {
   "cell_type": "markdown",
   "id": "132844a1",
   "metadata": {
    "papermill": {
     "duration": 0.010283,
     "end_time": "2023-04-02T06:10:43.744428",
     "exception": false,
     "start_time": "2023-04-02T06:10:43.734145",
     "status": "completed"
    },
    "tags": []
   },
   "source": [
    "We can see that there are over 300 Million samples. We can not hope to load all the data that easily. In fact, we will be working with just a few couple Million of samples (Say, 3 million for type STAR and 3 million for type GALAXY?)."
   ]
  },
  {
   "cell_type": "markdown",
   "id": "3f4d6f1d",
   "metadata": {
    "papermill": {
     "duration": 0.012285,
     "end_time": "2023-04-02T06:10:43.768758",
     "exception": false,
     "start_time": "2023-04-02T06:10:43.756473",
     "status": "completed"
    },
    "tags": []
   },
   "source": [
    "CasJobs provides 500,000 kB of storage for MyDB database. This will set the limit on how much data can we store at once. So, we will write queries which does not exceed this memory limit. Then we will download the table as gz file. Some part of this process is going to be manual."
   ]
  },
  {
   "cell_type": "markdown",
   "id": "bf356ea7",
   "metadata": {
    "papermill": {
     "duration": 0.008906,
     "end_time": "2023-04-02T06:10:43.786688",
     "exception": false,
     "start_time": "2023-04-02T06:10:43.777782",
     "status": "completed"
    },
    "tags": []
   },
   "source": [
    "Here is the final query\n",
    "```sql\n",
    "SELECT objID, run, camcol, field, type, -- identification\n",
    "rowv, colv, -- velocity\n",
    "u, g, r, i, z, -- modelMag\n",
    "psfMag_u, psfMag_g, psfMag_r, psfMag_i, psfMag_z, -- psfMag\n",
    "modelFlux_u, modelFlux_g, modelFlux_r, modelFlux_i, modelFlux_z, -- modelFlux\n",
    "petroRad_u, petroRad_g, petroRad_r, petroRad_i, petroRad_z, -- petroRad\n",
    "expRad_u, expRad_g, expRad_r, expRad_i, expRad_z, -- expRad\n",
    "q_u, q_g, q_r, q_i, q_z, -- q ratio\n",
    "u_u, u_g, u_r, u_i, u_z, -- u ratio\n",
    "expAB_u, expAB_g, expAB_r, expAB_i, expAB_z, -- exp a/b ratio\n",
    "ra, dec, b, l -- position\n",
    "INTO MyDB.data_1\n",
    "FROM PhotoPrimary\n",
    "WHERE\n",
    "  (nchild = 0) and\n",
    "  (clean = 1) and\n",
    "  (type = 3) and -- galaxy\n",
    "  (specObjID=0) and\n",
    "  (psfmag_u < 35) and\n",
    "  (psfmag_g < 35) and\n",
    "  (psfmag_r < 35) and\n",
    "  (psfmag_i < 35) and\n",
    "  (psfmag_z < 35) and\n",
    "  (psfmag_u > 0) and\n",
    "  (psfmag_g > 0) and\n",
    "  (psfmag_r > 0) and\n",
    "  (psfmag_i > 0) and\n",
    "  (psfmag_z > 0)\n",
    "\n",
    "--order by OBJID\n",
    "ORDER BY objID\n",
    "\n",
    "--paging\n",
    "OFFSET 0 ROWS\n",
    "FETCH NEXT 100000 ROWS ONLY\n",
    "```\n"
   ]
  },
  {
   "cell_type": "markdown",
   "id": "d9414c4e",
   "metadata": {
    "papermill": {
     "duration": 0.008609,
     "end_time": "2023-04-02T06:10:43.804501",
     "exception": false,
     "start_time": "2023-04-02T06:10:43.795892",
     "status": "completed"
    },
    "tags": []
   },
   "source": [
    "The offset and the next rows will be changed. Also, `type = 3` (which correspond to galaxy) will be changed to `type = 6` for stars."
   ]
  },
  {
   "cell_type": "markdown",
   "id": "78d76b42",
   "metadata": {
    "papermill": {
     "duration": 0.008457,
     "end_time": "2023-04-02T06:10:43.822044",
     "exception": false,
     "start_time": "2023-04-02T06:10:43.813587",
     "status": "completed"
    },
    "tags": []
   },
   "source": [
    "Here is the parameterized query."
   ]
  },
  {
   "cell_type": "code",
   "execution_count": 15,
   "id": "33332e85",
   "metadata": {
    "execution": {
     "iopub.execute_input": "2023-04-02T06:10:43.842154Z",
     "iopub.status.busy": "2023-04-02T06:10:43.841733Z",
     "iopub.status.idle": "2023-04-02T06:10:43.849324Z",
     "shell.execute_reply": "2023-04-02T06:10:43.847978Z"
    },
    "papermill": {
     "duration": 0.022154,
     "end_time": "2023-04-02T06:10:43.853114",
     "exception": false,
     "start_time": "2023-04-02T06:10:43.830960",
     "status": "completed"
    },
    "tags": []
   },
   "outputs": [
    {
     "name": "stdout",
     "output_type": "stream",
     "text": [
      "SELECT objID, run, camcol, field, type, -- identification\n",
      "rowv, colv, -- velocity\n",
      "u, g, r, i, z, -- modelMag\n",
      "psfMag_u, psfMag_g, psfMag_r, psfMag_i, psfMag_z, -- psfMag\n",
      "modelFlux_u, modelFlux_g, modelFlux_r, modelFlux_i, modelFlux_z, -- modelFlux\n",
      "petroRad_u, petroRad_g, petroRad_r, petroRad_i, petroRad_z, -- petroRad\n",
      "expRad_u, expRad_g, expRad_r, expRad_i, expRad_z, -- expRad\n",
      "q_u, q_g, q_r, q_i, q_z, -- q ratio\n",
      "u_u, u_g, u_r, u_i, u_z, -- u ratio\n",
      "expAB_u, expAB_g, expAB_r, expAB_i, expAB_z, -- exp a/b ratio\n",
      "ra, dec, b, l -- position\n",
      "INTO MyDB.data_5\n",
      "FROM PhotoPrimary\n",
      "WHERE\n",
      "  (nchild = 0) and\n",
      "  (clean = 1) and\n",
      "  (type = 3) and -- 3 galaxy, 6 star\n",
      "  (specObjID=0) and\n",
      "  (psfmag_u < 35) and\n",
      "  (psfmag_g < 35) and\n",
      "  (psfmag_r < 35) and\n",
      "  (psfmag_i < 35) and\n",
      "  (psfmag_z < 35) and\n",
      "  (psfmag_u > 0) and\n",
      "  (psfmag_g > 0) and\n",
      "  (psfmag_r > 0) and\n",
      "  (psfmag_i > 0) and\n",
      "  (psfmag_z > 0)\n",
      "\n",
      "--order by OBJID\n",
      "ORDER BY objID\n",
      "\n",
      "--paging\n",
      "OFFSET 2000000 ROWS\n",
      "FETCH NEXT 1000000 ROWS ONLY\n"
     ]
    }
   ],
   "source": [
    "i = 4\n",
    "\n",
    "length = 1000000\n",
    "offset = 2000000\n",
    "type_ = 3\n",
    "table_index = i+1\n",
    "\n",
    "query = f\"\"\"SELECT objID, run, camcol, field, type, -- identification\n",
    "rowv, colv, -- velocity\n",
    "u, g, r, i, z, -- modelMag\n",
    "psfMag_u, psfMag_g, psfMag_r, psfMag_i, psfMag_z, -- psfMag\n",
    "modelFlux_u, modelFlux_g, modelFlux_r, modelFlux_i, modelFlux_z, -- modelFlux\n",
    "petroRad_u, petroRad_g, petroRad_r, petroRad_i, petroRad_z, -- petroRad\n",
    "expRad_u, expRad_g, expRad_r, expRad_i, expRad_z, -- expRad\n",
    "q_u, q_g, q_r, q_i, q_z, -- q ratio\n",
    "u_u, u_g, u_r, u_i, u_z, -- u ratio\n",
    "expAB_u, expAB_g, expAB_r, expAB_i, expAB_z, -- exp a/b ratio\n",
    "ra, dec, b, l -- position\n",
    "INTO MyDB.data_{table_index}\n",
    "FROM PhotoPrimary\n",
    "WHERE\n",
    "  (nchild = 0) and\n",
    "  (clean = 1) and\n",
    "  (type = {type_}) and -- 3 galaxy, 6 star\n",
    "  (specObjID=0) and\n",
    "  (psfmag_u < 35) and\n",
    "  (psfmag_g < 35) and\n",
    "  (psfmag_r < 35) and\n",
    "  (psfmag_i < 35) and\n",
    "  (psfmag_z < 35) and\n",
    "  (psfmag_u > 0) and\n",
    "  (psfmag_g > 0) and\n",
    "  (psfmag_r > 0) and\n",
    "  (psfmag_i > 0) and\n",
    "  (psfmag_z > 0)\n",
    "\n",
    "--order by OBJID\n",
    "ORDER BY objID\n",
    "\n",
    "--paging\n",
    "OFFSET {offset} ROWS\n",
    "FETCH NEXT {length} ROWS ONLY\"\"\"\n",
    "\n",
    "print(query)"
   ]
  },
  {
   "cell_type": "markdown",
   "id": "737bf1c7",
   "metadata": {
    "papermill": {
     "duration": 0.008694,
     "end_time": "2023-04-02T06:10:43.870885",
     "exception": false,
     "start_time": "2023-04-02T06:10:43.862191",
     "status": "completed"
    },
    "tags": []
   },
   "source": [
    "We will run just one job in this notebook. Othersjobs can similarly be run. The next notebook will be used to download and load data."
   ]
  },
  {
   "cell_type": "code",
   "execution_count": 16,
   "id": "0b7fc951",
   "metadata": {
    "execution": {
     "iopub.execute_input": "2023-04-02T06:10:43.891640Z",
     "iopub.status.busy": "2023-04-02T06:10:43.890377Z",
     "iopub.status.idle": "2023-04-02T06:10:44.725493Z",
     "shell.execute_reply": "2023-04-02T06:10:44.724394Z"
    },
    "papermill": {
     "duration": 0.848759,
     "end_time": "2023-04-02T06:10:44.728671",
     "exception": false,
     "start_time": "2023-04-02T06:10:43.879912",
     "status": "completed"
    },
    "tags": []
   },
   "outputs": [],
   "source": [
    "job_id = CasJobs.submitJob(sql=query, context=\"DR18\")"
   ]
  },
  {
   "cell_type": "code",
   "execution_count": 20,
   "id": "31750f65",
   "metadata": {
    "execution": {
     "iopub.execute_input": "2023-04-02T06:10:44.748886Z",
     "iopub.status.busy": "2023-04-02T06:10:44.748483Z",
     "iopub.status.idle": "2023-04-02T06:10:44.995973Z",
     "shell.execute_reply": "2023-04-02T06:10:44.994709Z"
    },
    "papermill": {
     "duration": 0.260866,
     "end_time": "2023-04-02T06:10:44.998803",
     "exception": false,
     "start_time": "2023-04-02T06:10:44.737937",
     "status": "completed"
    },
    "tags": []
   },
   "outputs": [
    {
     "data": {
      "text/plain": [
       "{'JobID': 60011351,\n",
       " 'Rows': 1000000,\n",
       " 'WebServicesID': 1676402349,\n",
       " 'TimeSubmit': '2023-04-02T07:26:55.25',\n",
       " 'TimeStart': '2023-04-02T07:27:00.597',\n",
       " 'TimeEnd': '2023-04-02T07:29:20.833',\n",
       " 'SendEmail': 0,\n",
       " 'Status': 5,\n",
       " 'AutoComplete': 0,\n",
       " 'Estimate': 500,\n",
       " 'TaskName': 'SciScript-Python.CasJobs.submitJob',\n",
       " 'OutputLoc': '',\n",
       " 'HostIP': 'DR18_long      ',\n",
       " 'Message': 'Query Complete',\n",
       " 'Query': 'SELECT objID, run, camcol, field, type, -- identification\\nrowv, colv, -- velocity\\nu, g, r, i, z, -- modelMag\\npsfMag_u, psfMag_g, psfMag_r, psfMag_i, psfMag_z, -- psfMag\\nmodelFlux_u, modelFlux_g, modelFlux_r, modelFlux_i, modelFlux_z, -- modelFlux\\npetroRad_u, petroRad_g, petroRad_r, petroRad_i, petroRad_z, -- petroRad\\nexpRad_u, expRad_g, expRad_r, expRad_i, expRad_z, -- expRad\\nq_u, q_g, q_r, q_i, q_z, -- q ratio\\nu_u, u_g, u_r, u_i, u_z, -- u ratio\\nexpAB_u, expAB_g, expAB_r, expAB_i, expAB_z, -- exp a/b ratio\\nra, dec, b, l -- position\\nINTO MyDB.data_5\\nFROM PhotoPrimary\\nWHERE\\n  (nchild = 0) and\\n  (clean = 1) and\\n  (type = 3) and -- 3 galaxy, 6 star\\n  (specObjID=0) and\\n  (psfmag_u < 35) and\\n  (psfmag_g < 35) and\\n  (psfmag_r < 35) and\\n  (psfmag_i < 35) and\\n  (psfmag_z < 35) and\\n  (psfmag_u > 0) and\\n  (psfmag_g > 0) and\\n  (psfmag_r > 0) and\\n  (psfmag_i > 0) and\\n  (psfmag_z > 0)\\n\\n--order by OBJID\\nORDER BY objID\\n\\n--paging\\nOFFSET 2000000 ROWS\\nFETCH NEXT 1000000 ROWS ONLY',\n",
       " 'ModifiedQuery': 'SELECT objID, run, camcol, field, type, \\nrowv, colv, \\nu, g, r, i, z, \\npsfMag_u, psfMag_g, psfMag_r, psfMag_i, psfMag_z, \\nmodelFlux_u, modelFlux_g, modelFlux_r, modelFlux_i, modelFlux_z, \\npetroRad_u, petroRad_g, petroRad_r, petroRad_i, petroRad_z, \\nexpRad_u, expRad_g, expRad_r, expRad_i, expRad_z, \\nq_u, q_g, q_r, q_i, q_z, \\nu_u, u_g, u_r, u_i, u_z, \\nexpAB_u, expAB_g, expAB_r, expAB_i, expAB_z, \\nra, dec, b, l \\n\\nFROM PhotoPrimary\\nWHERE\\n  (nchild = 0) and\\n  (clean = 1) and\\n  (type = 3) and \\n  (specObjID=0) and\\n  (psfmag_u < 35) and\\n  (psfmag_g < 35) and\\n  (psfmag_r < 35) and\\n  (psfmag_i < 35) and\\n  (psfmag_z < 35) and\\n  (psfmag_u > 0) and\\n  (psfmag_g > 0) and\\n  (psfmag_r > 0) and\\n  (psfmag_i > 0) and\\n  (psfmag_z > 0)\\n\\n\\nORDER BY objID\\n\\n\\nOFFSET 2000000 ROWS\\nFETCH NEXT 1000000 ROWS ONLY/*CASJOBS_INTO_TABLE:[mydbsql].mydb_1676402349.webuser.data_5*/',\n",
       " 'Target': 'DR18',\n",
       " 'OutputType': 'QUERY',\n",
       " 'Params': '{\\r\\n  \"token\": \"6ee0c47a31754ae1bef3d7e701f6fb3e\"\\r\\n}',\n",
       " 'Created_Table': 'data_5'}"
      ]
     },
     "execution_count": 20,
     "metadata": {},
     "output_type": "execute_result"
    }
   ],
   "source": [
    "job_description= CasJobs.getJobStatus(job_id)\n",
    "job_description"
   ]
  },
  {
   "cell_type": "code",
   "execution_count": 21,
   "id": "ea126946",
   "metadata": {
    "execution": {
     "iopub.execute_input": "2023-04-02T06:10:45.020766Z",
     "iopub.status.busy": "2023-04-02T06:10:45.020022Z",
     "iopub.status.idle": "2023-04-02T06:11:58.833730Z",
     "shell.execute_reply": "2023-04-02T06:11:58.832292Z"
    },
    "papermill": {
     "duration": 73.835459,
     "end_time": "2023-04-02T06:11:58.844470",
     "exception": false,
     "start_time": "2023-04-02T06:10:45.009011",
     "status": "completed"
    },
    "tags": []
   },
   "outputs": [
    {
     "name": "stdout",
     "output_type": "stream",
     "text": [
      "Job ID: 60011351\n",
      "Status: Completed\n",
      "Target: DR18\n",
      "Created Table: data_5\n",
      "Rows: 1000000\n",
      "Message: Query Complete\n",
      "Submit Time: 2023-04-02 07:26:55.250000\n",
      "Start Time: 2023-04-02 07:27:00.597000\n",
      "End Time: 2023-04-02 07:29:20.833000\n",
      "Wait Time: 5.3469999999999995 seconds\n",
      "Run Time: 140.236 seconds\n"
     ]
    }
   ],
   "source": [
    "job_description = CasJobs.waitForJob(jobId=job_id)\n",
    "job_describer(job_description=job_description)"
   ]
  },
  {
   "attachments": {},
   "cell_type": "markdown",
   "id": "3f8b6c58",
   "metadata": {},
   "source": [
    "Links:\n",
    "\n",
    "1. http://skyservice.pha.jhu.edu/CasJobsOutput/CSV/data_1_hari31416.csv.gz\n",
    "2. http://skyservice.pha.jhu.edu/CasJobsOutput/CSV/data_2_hari31416.csv.gz\n",
    "3. http://skyservice.pha.jhu.edu/CasJobsOutput/CSV/data_3_hari31416.csv.gz\n",
    "4. http://skyservice.pha.jhu.edu/CasJobsOutput/CSV/data_4_hari31416.csv.gz\n",
    "5. http://skyservice.pha.jhu.edu/CasJobsOutput/CSV/data_5_hari31416.csv.gz"
   ]
  },
  {
   "cell_type": "code",
   "execution_count": 22,
   "id": "f87e1fac",
   "metadata": {},
   "outputs": [
    {
     "data": {
      "text/html": [
       "<div>\n",
       "<style scoped>\n",
       "    .dataframe tbody tr th:only-of-type {\n",
       "        vertical-align: middle;\n",
       "    }\n",
       "\n",
       "    .dataframe tbody tr th {\n",
       "        vertical-align: top;\n",
       "    }\n",
       "\n",
       "    .dataframe thead th {\n",
       "        text-align: right;\n",
       "    }\n",
       "</style>\n",
       "<table border=\"1\" class=\"dataframe\">\n",
       "  <thead>\n",
       "    <tr style=\"text-align: right;\">\n",
       "      <th></th>\n",
       "      <th>Rows Affected</th>\n",
       "    </tr>\n",
       "  </thead>\n",
       "  <tbody>\n",
       "    <tr>\n",
       "      <th>0</th>\n",
       "      <td>0</td>\n",
       "    </tr>\n",
       "  </tbody>\n",
       "</table>\n",
       "</div>"
      ],
      "text/plain": [
       "   Rows Affected\n",
       "0              0"
      ]
     },
     "execution_count": 22,
     "metadata": {},
     "output_type": "execute_result"
    }
   ],
   "source": [
    "q = \"\"\"DROP TABLE IF EXISTS data_1\n",
    "DROP TABLE IF EXISTS data_2\n",
    "DROP TABLE IF EXISTS data_3\n",
    "DROP TABLE IF EXISTS data_4\n",
    "DROP TABLE IF EXISTS data_5\"\"\"\n",
    "CasJobs.executeQuery(sql=q, context=\"MyDB\")"
   ]
  },
  {
   "cell_type": "markdown",
   "id": "ee554dd5",
   "metadata": {},
   "source": []
  }
 ],
 "metadata": {
  "kernelspec": {
   "display_name": "Python 3",
   "language": "python",
   "name": "python3"
  },
  "language_info": {
   "codemirror_mode": {
    "name": "ipython",
    "version": 3
   },
   "file_extension": ".py",
   "mimetype": "text/x-python",
   "name": "python",
   "nbconvert_exporter": "python",
   "pygments_lexer": "ipython3",
   "version": "3.9.15"
  },
  "papermill": {
   "default_parameters": {},
   "duration": 96.420521,
   "end_time": "2023-04-02T06:11:59.576536",
   "environment_variables": {},
   "exception": null,
   "input_path": "__notebook__.ipynb",
   "output_path": "__notebook__.ipynb",
   "parameters": {},
   "start_time": "2023-04-02T06:10:23.156015",
   "version": "2.4.0"
  }
 },
 "nbformat": 4,
 "nbformat_minor": 5
}
